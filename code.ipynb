{
 "cells": [
  {
   "cell_type": "code",
   "execution_count": 7,
   "metadata": {},
   "outputs": [
    {
     "name": "stderr",
     "output_type": "stream",
     "text": [
      "/home/mdhi/anaconda3/envs/pytorchgan/lib/python3.8/site-packages/tqdm/auto.py:21: TqdmWarning: IProgress not found. Please update jupyter and ipywidgets. See https://ipywidgets.readthedocs.io/en/stable/user_install.html\n",
      "  from .autonotebook import tqdm as notebook_tqdm\n"
     ]
    }
   ],
   "source": [
    "import psycopg2\n",
    "import pandas as pd\n",
    "import numpy as np\n",
    "import re\n",
    "import os\n",
    "\n",
    "# scaling \n",
    "from sklearn.preprocessing import StandardScaler\n",
    "\n",
    "# visualization\n",
    "import matplotlib.pyplot as plt\n",
    "import seaborn as sns\n",
    "\n",
    "# dataset\n",
    "from sklearn.model_selection import train_test_split\n",
    "from torch.utils.data import Dataset, DataLoader, Sampler, BatchSampler, SequentialSampler\n",
    "from torch.cuda.amp import GradScaler, autocast\n",
    "\n",
    "# model \n",
    "import torch\n",
    "import torch.nn as nn\n",
    "import torch.nn.functional as F\n",
    "import torch.optim as optim\n",
    "import lightgbm as lgb\n",
    "import optuna\n",
    "optuna.logging.set_verbosity(optuna.logging.ERROR)\n",
    "\n",
    "# wandb\n",
    "import wandb\n",
    "\n",
    "# evaluation\n",
    "from sklearn.metrics import log_loss, roc_auc_score, roc_curve, average_precision_score, accuracy_score, precision_recall_curve\n",
    "from sklearn.metrics import roc_auc_score, precision_recall_curve, auc as calculate_auc  \n",
    "from sklearn.model_selection import StratifiedKFold"
   ]
  },
  {
   "cell_type": "code",
   "execution_count": 2,
   "metadata": {},
   "outputs": [
    {
     "name": "stderr",
     "output_type": "stream",
     "text": [
      "Failed to detect the name of this notebook, you can set it manually with the WANDB_NOTEBOOK_NAME environment variable to enable code saving.\n",
      "\u001b[34m\u001b[1mwandb\u001b[0m: Currently logged in as: \u001b[33mykjeong-info\u001b[0m. Use \u001b[1m`wandb login --relogin`\u001b[0m to force relogin\n"
     ]
    },
    {
     "data": {
      "text/plain": [
       "True"
      ]
     },
     "execution_count": 2,
     "metadata": {},
     "output_type": "execute_result"
    }
   ],
   "source": [
    "wandb.login()"
   ]
  },
  {
   "cell_type": "markdown",
   "metadata": {},
   "source": [
    "## 데이터 추출\n",
    "필요할 경우, parquet 포맷으로 추출 "
   ]
  },
  {
   "cell_type": "code",
   "execution_count": 3,
   "metadata": {},
   "outputs": [],
   "source": [
    "# PostgreSQL 서버 연결 정보\n",
    "\n",
    "host = '192.168.0.76'  # 호스트 주소\n",
    "database = 'mimiciv-2.2'  # 데이터베이스 이름\n",
    "user = 'ykjeong'  # 사용자 이름\n",
    "password = 'mdhi1234!'  # 비밀번호\n",
    "\n",
    "# PostgreSQL 서버에 연결\n",
    "conn = psycopg2.connect(\n",
    "    dbname=database,\n",
    "    user=user,\n",
    "    password=password,\n",
    "    host=host\n",
    ")"
   ]
  },
  {
   "cell_type": "markdown",
   "metadata": {},
   "source": [
    "### 환자 정보"
   ]
  },
  {
   "cell_type": "code",
   "execution_count": 31,
   "metadata": {},
   "outputs": [
    {
     "name": "stderr",
     "output_type": "stream",
     "text": [
      "/tmp/ipykernel_955090/2567657599.py:22: UserWarning: pandas only supports SQLAlchemy connectable (engine/connection) or database string URI or sqlite3 DBAPI2 connection. Other DBAPI2 objects are not tested. Please consider using SQLAlchemy.\n",
      "  patients = pd.read_sql_query(query, conn)\n"
     ]
    }
   ],
   "source": [
    "# patients: 18세 이하 제외\n",
    "\n",
    "query = '''\n",
    "SELECT \n",
    "  icu.stay_id,\n",
    "  icu.hadm_id,\n",
    "  pa.anchor_age + EXTRACT(EPOCH FROM icu.intime - TO_TIMESTAMP(TO_CHAR(pa.anchor_year, '0000') || '0101' || '000000', 'yyyymmddHH24MISS')) / 31556908.8 AS age,\n",
    "  ad.race,\n",
    "  pa.gender,\n",
    "  icu.last_careunit,\n",
    "  icu.intime,\n",
    "  ad.deathtime,\n",
    "  ad.dischtime,\n",
    "  ad.hospital_expire_flag\n",
    "FROM mimiciv_hosp.admissions AS ad\n",
    "INNER JOIN mimiciv_hosp.patients AS pa\n",
    "  ON ad.subject_id = pa.subject_id\n",
    "INNER JOIN mimiciv_icu.icustays AS icu\n",
    "  ON ad.hadm_id = icu.hadm_id\n",
    "WHERE (pa.anchor_age + EXTRACT(EPOCH FROM icu.intime - TO_TIMESTAMP(TO_CHAR(pa.anchor_year, '0000') || '0101' || '000000', 'yyyymmddHH24MISS')) / 31556908.8) >= 19;\n",
    "'''\n",
    "patients = pd.read_sql_query(query, conn)"
   ]
  },
  {
   "cell_type": "code",
   "execution_count": 39,
   "metadata": {},
   "outputs": [
    {
     "data": {
      "text/plain": [
       "hospital_expire_flag\n",
       "0    0.886069\n",
       "1    0.113931\n",
       "Name: proportion, dtype: float64"
      ]
     },
     "execution_count": 39,
     "metadata": {},
     "output_type": "execute_result"
    }
   ],
   "source": [
    "# pos / neg 비율 확인\n",
    "\n",
    "patients['hospital_expire_flag'].value_counts(normalize=True)"
   ]
  },
  {
   "cell_type": "code",
   "execution_count": null,
   "metadata": {},
   "outputs": [],
   "source": [
    "# 컬럼명 변경\n",
    "patients.rename(columns={\n",
    "    'hospital_expire_flag':'dead_in_hosp', \n",
    "    'last_careunit':'CU type',\n",
    "    'deathtime':'death or dischtime'\n",
    "}, inplace=True)\n",
    "\n",
    "# 'deathtime' 컬럼이 NaT인 경우 'dischtime' 값으로 채우고 'dischtime' 컬럼은 삭제\n",
    "patients['death or dischtime'] = patients['death or dischtime'].fillna(patients['dischtime'])\n",
    "patients.drop(columns=['dischtime'], inplace=True)\n",
    "\n",
    "# ICU 유형 간략화하고 Care Unit이 아닌 데이터 삭제 \n",
    "patients = patients[patients['CU type'].str.contains('CU')]\n",
    "\n",
    "def categorize_careunit(careunit):\n",
    "    if 'MICU' in careunit:\n",
    "        return 'MICU'\n",
    "    elif 'SICU' in careunit:\n",
    "        return 'SICU'\n",
    "    elif 'Neuro SICU' in careunit:\n",
    "        return 'Neuro SICU'\n",
    "    elif 'CCU' in careunit:\n",
    "        return 'CCU'\n",
    "    elif 'TSICU' in careunit:\n",
    "        return 'TSICU'\n",
    "    elif 'CVICU' in careunit:\n",
    "        return 'CVICU'\n",
    "    else:\n",
    "        return 'other'\n",
    "\n",
    "patients['CU type'] = patients['CU type'].apply(categorize_careunit)\n",
    "\n",
    "\n",
    "# 인종 구분 변경: race 값을 간략화\n",
    "def categorize_race(race):\n",
    "    if 'WHITE' in race.upper():\n",
    "        return 'white'\n",
    "    elif 'BLACK' in race.upper():\n",
    "        return 'black'\n",
    "    elif 'HISPANIC' in race.upper() or 'LATINO' in race.upper():\n",
    "        return 'hispanic/latino'\n",
    "    elif 'ASIAN' in race.upper():\n",
    "        return 'asian'\n",
    "    else:\n",
    "        return 'other'\n",
    "\n",
    "patients['race'] = patients['race'].apply(categorize_race)"
   ]
  },
  {
   "cell_type": "markdown",
   "metadata": {},
   "source": [
    "### item label "
   ]
  },
  {
   "cell_type": "code",
   "execution_count": null,
   "metadata": {},
   "outputs": [],
   "source": [
    "# icu chart item id 추출 \n",
    "query = '''\n",
    "SELECT dt.itemid, dt.label\n",
    "FROM mimiciv_icu.d_items AS dt\n",
    "WHERE dt.linksto = 'chartevents';\n",
    "'''\n",
    "icu_itemid = pd.read_sql_query(query, conn)\n",
    "\n",
    "# labevent id 추출 \n",
    "\n",
    "query = '''\n",
    "SELECT *\n",
    "FROM mimiciv_hosp.d_labitems AS dt;\n",
    "'''\n",
    "lab_itemid = pd.read_sql_query(query, conn)"
   ]
  },
  {
   "cell_type": "code",
   "execution_count": null,
   "metadata": {},
   "outputs": [],
   "source": [
    "itemid = pd.concat([icu_itemid, lab_itemid])\n",
    "itemid.sort_values(by='label', inplace=True)\n",
    "\n",
    "# itemid에서 label 컬럼 값이 결측치인 행 삭제 \n",
    "itemid.dropna(subset=['label'], inplace=True)\n",
    "\n",
    "# 특수기호 삭제\n",
    "def remove(text):\n",
    "    if isinstance(text, str):\n",
    "        return re.sub(r'[^A-Za-z0-9\\s]', '', text)\n",
    "    return text\n",
    "\n",
    "for col in itemid.columns:\n",
    "    if itemid[col].dtype == object:\n",
    "        itemid[col] = itemid[col].apply(remove)\n",
    "\n",
    "itemid.sort_values(by='label', inplace=True)"
   ]
  },
  {
   "cell_type": "markdown",
   "metadata": {},
   "source": [
    "### chart event "
   ]
  },
  {
   "cell_type": "code",
   "execution_count": null,
   "metadata": {},
   "outputs": [],
   "source": [
    "# chartevents 추출 \n",
    "query = '''\n",
    "SELECT ce.stay_id, \n",
    "       ce.hadm_id,\n",
    "       ce.charttime,\n",
    "       ce.itemid,\n",
    "       ce.valuenum,\n",
    "       ce.valueuom\n",
    "FROM mimiciv_icu.chartevents AS ce\n",
    "JOIN mimiciv_icu.icustays AS icu\n",
    "ON ce.stay_id = icu.stay_id\n",
    "AND ce.itemid IN (\n",
    "    220210, -- respiratory rate\n",
    "    220045, -- heart rate\n",
    "    220179, 220180, -- nisbp, nidbp /  mmHg\n",
    "    223761, 223762, -- temperature\n",
    "    220739, 223901, 223900, 226756, 227011, 226757, 227012, 226758, 228112, 227014, -- gcs \n",
    "    225624, -- blood urea nitrogen\n",
    "    227444, -- crp\n",
    "    220602, -- chloride\n",
    "    220615, -- creatinine\n",
    "    220621, -- glucose\n",
    "    220228, -- hemoglobin\n",
    "    227457, -- platelet\n",
    "    227465, -- prothrombin time \t \t   \n",
    "    220644, 220587, -- ALT, AST\n",
    "    220546 -- wbc\n",
    ");\n",
    "'''\n",
    "chartevents = pd.read_sql_query(query, conn)"
   ]
  },
  {
   "cell_type": "code",
   "execution_count": null,
   "metadata": {},
   "outputs": [],
   "source": [
    "# labevent 추출 \n",
    "\n",
    "query = '''\n",
    "SELECT le.hadm_id,\n",
    "       le.itemid,\n",
    "       le.charttime,\n",
    "       le.valuenum,\n",
    "       le.valueuom\n",
    "FROM mimiciv_hosp.labevents AS le\n",
    "JOIN mimiciv_icu.icustays AS icu\n",
    "ON le.hadm_id = icu.hadm_id \n",
    "AND le.itemid IN (\n",
    "    50817, -- SpO2\n",
    "    52703, 51069, -- albumin (urine), g/dL\n",
    "    51464, 51966, -- Bilirubin (urine), mg/dL\n",
    "    52647, 51006, -- blood urea nitrogen, mg/dL\n",
    "    50902, 52535, -- chloride \n",
    "    51082, 51106,-- creatinine (urine) \n",
    "    51084, 51478, -- glucose (urine)\n",
    "    50811, 51222, 51640, -- hemoglobin (Blood, Chemistry)\n",
    "    51704, 51265, -- platelet\n",
    "    52046, 51097, -- potassium(urine)\n",
    "    52047, 51100, -- sodium(urine)\n",
    "    50861, 53084, 50878, 53088, -- ALT, AST \n",
    "    51300, 51301 -- wbc\n",
    ");\n",
    "'''\n",
    "labevents = pd.read_sql_query(query, conn)"
   ]
  },
  {
   "cell_type": "code",
   "execution_count": null,
   "metadata": {},
   "outputs": [],
   "source": [
    "events = pd.concat([labevents, chartevents])\n",
    "events.sort_values(by='hadm_id', inplace=True)"
   ]
  },
  {
   "cell_type": "markdown",
   "metadata": {},
   "source": [
    "## 데이터 클렌징"
   ]
  },
  {
   "cell_type": "code",
   "execution_count": null,
   "metadata": {},
   "outputs": [],
   "source": [
    "# itemid와 events 데이터프레임을 merge\n",
    "\n",
    "events_df = pd.merge(events, itemid, on='itemid', how='inner')\n",
    "events_df = events_df[['stay_id', 'hadm_id', 'label', 'charttime', 'valuenum','valueuom']]\n",
    "events_df.sort_values(by=['hadm_id', 'charttime'], inplace=True, ascending=False)\n",
    "events_df.head()"
   ]
  },
  {
   "cell_type": "code",
   "execution_count": null,
   "metadata": {},
   "outputs": [],
   "source": [
    "# stay_id가 결측치인 행/아닌 행을 분리해서 stay_id 처리\n",
    "\n",
    "missing_stay_id = events_df[events_df['stay_id'].isna()]\n",
    "df_1 = pd.merge(missing_stay_id, patients, on='hadm_id', how='inner')\n",
    "df_1.drop(columns='stay_id_x', inplace=True)\n",
    "df_1.rename(columns={'stay_id_y':'stay_id'}, inplace=True)\n",
    "\n",
    "filled_stay_id = events_df[~events_df['stay_id'].isna()]\n",
    "df_2 = pd.merge(filled_stay_id, patients, on='stay_id', how='inner')\n",
    "df_2.drop(columns='hadm_id_x', inplace=True)\n",
    "df_2.rename(columns={'hadm_id_y':'hadm_id'}, inplace=True)\n",
    "\n",
    "df = pd.concat([df_1, df_2])"
   ]
  },
  {
   "cell_type": "code",
   "execution_count": null,
   "metadata": {},
   "outputs": [],
   "source": [
    "# downcast: 데이터 타입 최적화\n",
    "for col in df.select_dtypes(include=['float64']).columns:\n",
    "    df[col] = pd.to_numeric(df[col], downcast='float')\n",
    "for col in df.select_dtypes(include=['int64']).columns:\n",
    "    df[col] = pd.to_numeric(df[col], downcast='integer')    "
   ]
  },
  {
   "cell_type": "code",
   "execution_count": null,
   "metadata": {},
   "outputs": [],
   "source": [
    "# 컬럼 순서 정리, 데이터 오름차순으로 정렬 \n",
    "\n",
    "df = df[['stay_id','hadm_id','age','race','gender','CU type','intime','charttime','label','valuenum','valueuom','death or dischtime','dead_in_hosp']]\n",
    "df.sort_values(by=['stay_id', 'charttime'], ascending=True, inplace=True)"
   ]
  },
  {
   "cell_type": "code",
   "execution_count": null,
   "metadata": {},
   "outputs": [],
   "source": [
    "# los 계산 (charttime - intime)\n",
    "df['los'] = (df['charttime'] - df['intime']).dt.total_seconds() / (60 * 60 * 24)  # 일 단위로 변환\n",
    "\n",
    "# 체류 시각이 0보다 작은 행 삭제\n",
    "df = df[(df['los'] >= 0)]\n",
    "\n",
    "# df에서 'charttime'의 값이 'intime' 이전이거나 'death or dischtime' 이후인 행 삭제 \n",
    "df = df[(df['charttime'] >= df['intime']) | (df['charttime'] <= df['death or dischtime'])]"
   ]
  },
  {
   "cell_type": "code",
   "execution_count": null,
   "metadata": {},
   "outputs": [],
   "source": [
    "# los 값의 최댓값이 60 이상인 stay_id를 가진 행을 데이터프레임에서 삭제\n",
    "\n",
    "max_los_per_stay_id = df.groupby('stay_id')['los'].max()\n",
    "\n",
    "stay_ids_to_remove = max_los_per_stay_id[max_los_per_stay_id >= 60].index\n",
    "df_filtered = df[~df['stay_id'].isin(stay_ids_to_remove)]\n",
    "df_filtered.sort_values(by=['stay_id', 'charttime'], ascending=True, inplace=True)\n",
    "df_filtered = df_filtered[['stay_id', 'age', 'race', 'gender', 'CU type', 'los', 'intime','charttime', 'label', 'valuenum', 'valueuom','death or dischtime','dead_in_hosp']]"
   ]
  },
  {
   "cell_type": "code",
   "execution_count": null,
   "metadata": {},
   "outputs": [],
   "source": [
    "# 'dead_in_hosp' 값(0/1)의 비율 확인\n",
    "df_filtered['dead_in_hosp'].value_counts(normalize=True)"
   ]
  },
  {
   "cell_type": "markdown",
   "metadata": {},
   "source": [
    "### - item label, 단위 통일 "
   ]
  },
  {
   "cell_type": "code",
   "execution_count": null,
   "metadata": {},
   "outputs": [],
   "source": [
    "# Item label 간략하게 수정\n",
    "\n",
    "replacements = {\n",
    "    '  ': ' ',\n",
    "    ' Count': '',\n",
    "    ' serum': '',\n",
    "    ' Celsius': '',\n",
    "    'Urine ': '',\n",
    "    ' Urine': '',\n",
    "    'Alanine Aminotransferase ALT': 'ALT',\n",
    "    'Asparate Aminotransferase AST': 'AST',\n",
    "    'Non Invasive Blood Pressure diastolic': 'dbp',\n",
    "    'Non Invasive Blood Pressure systolic': 'sbp',\n",
    "    'Urea Nitrogen': 'BUN',\n",
    "    'CReactive Protein': 'CRP',\n",
    "    'C Reactive Protein CRP': 'CRP',\n",
    "    'GCSMotorApacheIIValue': 'GCS Motor Response',\n",
    "    'GCSVerbalApacheIIValue': 'GCS Verbal Response',\n",
    "    'GCSEyeApacheIIValue': 'GCS Eye Opening',\n",
    "    'Oxygen Saturation': 'SpO2',\n",
    "    'White Blood Cells': 'WBC',\n",
    "    'wbc': 'WBC'\n",
    "}\n",
    "\n",
    "df_filtered['label'] = df_filtered['label'].replace(replacements, regex=True)"
   ]
  },
  {
   "cell_type": "code",
   "execution_count": null,
   "metadata": {},
   "outputs": [],
   "source": [
    "# 온도 단위 통일: 화씨 온도를 섭씨 온도로 변환\n",
    "\n",
    "fahrenheit_mask = df_filtered['label'] == 'Temperature Fahrenheit'\n",
    "df_filtered.loc[fahrenheit_mask, 'valuenum'] = (df_filtered.loc[fahrenheit_mask, 'valuenum'] - 32) * 5.0 / 9.0\n",
    "\n",
    "# label 수정\n",
    "df_filtered.loc[fahrenheit_mask, 'label'] = 'Temperature'\n",
    "df_filtered.loc[fahrenheit_mask, 'valueuom'] = '°C'\n",
    "c_mask = df_filtered['label'] == 'Temperature'\n",
    "df_filtered.loc[c_mask, 'label'] = 'Temperature'\n",
    "df_filtered.loc[c_mask, 'valueuom'] = '°C'\n",
    "\n",
    "# 'wbc'의 단위가 '#/hpf'인 행 삭제, 단위 컬럼 삭제 \n",
    "df_filtered = df_filtered[df_filtered['valueuom'] != '#/hpf']\n",
    "df_filtered.drop(columns='valueuom', inplace=True)"
   ]
  },
  {
   "cell_type": "markdown",
   "metadata": {},
   "source": [
    "### - 중복 제거 및 outlier 처리 "
   ]
  },
  {
   "cell_type": "code",
   "execution_count": null,
   "metadata": {},
   "outputs": [],
   "source": [
    "# vital sign 이상치 조정 \n",
    "\n",
    "# 기준 설정\n",
    "ranges = {\n",
    "    'Respiratory Rate': (5, 50),\n",
    "    'Heart Rate': (10, 190),\n",
    "    'sbp': (40, 230),\n",
    "    'dbp': (20, 130),\n",
    "    'Temperature': (32, 41), \n",
    "    'SpO2': (68, 100),    \n",
    "    'GCS Eye Opening':(1, 4),\n",
    "    'GCS Verbal Response':(1, 5),\n",
    "    'GCS Motor Response':(1, 6),\n",
    "        \n",
    "    'ALT':(0, 5000), \n",
    "    'AST':(0, 10000), \n",
    "    'Albumin':(0, 5.5), \n",
    "    'BUN':(0, 150), \n",
    "    'Bilirubin':(0, 50),\n",
    "    'CRP':(0, 300), \n",
    "    'Chloride':(70, 135),\n",
    "    'Creatinine':(0, 15),\n",
    "    'Glucose':(0, 600),\n",
    "    'Hemoglobin':(0, 25),\n",
    "    'Potassium':(2, 9),\n",
    "    'Sodium':(105, 170),\n",
    "    'Platelet':(0, 1000),\n",
    "    'Prothrombin time':(0, 8), \n",
    "    'WBC':(0, 90), \n",
    "}\n",
    "\n",
    "# 범위를 벗어난 값들을 NaN으로 대체\n",
    "def replace_out_of_range_with_nan(row):\n",
    "    label = row['label']\n",
    "    value = row['valuenum']\n",
    "    \n",
    "    if label in ranges:\n",
    "        lower, upper = ranges[label]\n",
    "        \n",
    "        # 값이 범위를 벗어나면 NaN으로 대체\n",
    "        if value < lower or value > upper:\n",
    "            return np.nan\n",
    "    return value\n",
    "\n",
    "\n",
    "for label, (lower, upper) in ranges.items():\n",
    "    mask = (df_filtered['label'] == label)\n",
    "    df_filtered.loc[mask, 'valuenum'] = np.where(\n",
    "        (df_filtered.loc[mask, 'valuenum'] < lower) | (df_filtered.loc[mask, 'valuenum'] > upper),\n",
    "        np.nan,\n",
    "        df_filtered.loc[mask, 'valuenum']\n",
    "    )\n",
    "    \n",
    "# NaN 값을 각 label에 대한 평균값으로 대체\n",
    "df_filtered['valuenum'] = df_filtered.groupby('label')['valuenum'].transform(lambda x: x.fillna(x.mean()))\n",
    "df_filtered.head()"
   ]
  },
  {
   "cell_type": "code",
   "execution_count": null,
   "metadata": {},
   "outputs": [],
   "source": [
    "# 중복이 있을 경우 value가 큰 값을 남김 \n",
    "\n",
    "df_filtered = df_filtered.sort_values(by=['stay_id', 'charttime', 'label']).drop_duplicates(subset=['stay_id', 'charttime', 'label'], keep='last')"
   ]
  },
  {
   "cell_type": "markdown",
   "metadata": {},
   "source": [
    "## pivoting"
   ]
  },
  {
   "cell_type": "code",
   "execution_count": null,
   "metadata": {},
   "outputs": [],
   "source": [
    "df_chart = df_filtered.pivot_table(index=['stay_id', 'charttime'], columns='label', values='valuenum', aggfunc='first')\n",
    "df_chart.reset_index(inplace=True)\n",
    "\n",
    "# `stay_id` 및 `charttime`을 기준으로 정렬\n",
    "df_chart.sort_values(by=['stay_id', 'charttime'], ascending=True, inplace=True)\n",
    "df_chart.head()"
   ]
  },
  {
   "cell_type": "markdown",
   "metadata": {},
   "source": [
    "## merging"
   ]
  },
  {
   "cell_type": "code",
   "execution_count": 3,
   "metadata": {},
   "outputs": [],
   "source": [
    "df_chart = pd.read_parquet('/home/ykjeong/iMORS/new_repo2/df_chart.parquet')\n",
    "patients = pd.read_parquet('/home/ykjeong/iMORS/new_repo2/patients.parquet')"
   ]
  },
  {
   "cell_type": "code",
   "execution_count": 4,
   "metadata": {},
   "outputs": [],
   "source": [
    "df = df_chart.merge(patients, on='stay_id', how='inner')\n",
    "df.drop(columns=['hadm_id'], inplace=True)\n",
    "df.sort_values(by=['stay_id', 'charttime'], ascending=True, inplace=True)"
   ]
  },
  {
   "cell_type": "code",
   "execution_count": 5,
   "metadata": {},
   "outputs": [
    {
     "data": {
      "text/plain": [
       "dead_in_hosp\n",
       "0    0.824596\n",
       "1    0.175404\n",
       "Name: proportion, dtype: float64"
      ]
     },
     "execution_count": 5,
     "metadata": {},
     "output_type": "execute_result"
    }
   ],
   "source": [
    "# 'dead_in_hosp' 값(0/1)의 비율 확인\n",
    "df['dead_in_hosp'].value_counts(normalize=True)"
   ]
  },
  {
   "cell_type": "code",
   "execution_count": 6,
   "metadata": {},
   "outputs": [
    {
     "data": {
      "text/plain": [
       "(set(), set())"
      ]
     },
     "execution_count": 6,
     "metadata": {},
     "output_type": "execute_result"
    }
   ],
   "source": [
    "# 원본 레이블 유지되는지 확인 \n",
    "\n",
    "(set(df[df['dead_in_hosp'] == 0]['stay_id'].unique()) - set(patients[patients['dead_in_hosp'] == 0]['stay_id'].unique())), (set(df[df['dead_in_hosp'] == 1]['stay_id'].unique()) - set(patients[patients['dead_in_hosp'] == 1]['stay_id'].unique()))"
   ]
  },
  {
   "cell_type": "code",
   "execution_count": 7,
   "metadata": {},
   "outputs": [
    {
     "name": "stdout",
     "output_type": "stream",
     "text": [
      "Missing Values Percentage in Each Column:\n",
      "stay_id                 0.000000\n",
      "charttime               0.000000\n",
      "gender                  0.000000\n",
      "race                    0.000000\n",
      "death or dischtime      0.000000\n",
      "intime                  0.000000\n",
      "dead_in_hosp            0.000000\n",
      "CU type                 0.000000\n",
      "age                     0.000000\n",
      "Heart Rate             36.855743\n",
      "Respiratory Rate       37.288699\n",
      "sbp                    60.290155\n",
      "dbp                    60.298869\n",
      "Temperature            82.887751\n",
      "GCS Eye Opening        85.100414\n",
      "GCS Verbal Response    85.130207\n",
      "GCS Motor Response     85.168448\n",
      "Chloride               91.513409\n",
      "Hemoglobin             91.777458\n",
      "BUN                    91.808181\n",
      "Platelet               92.393531\n",
      "WBC                    92.516329\n",
      "Glucose                95.288256\n",
      "Creatinine             95.638385\n",
      "Prothrombin time       97.409122\n",
      "ALT                    97.916236\n",
      "AST                    97.917433\n",
      "SpO2                   98.354688\n",
      "Sodium                 99.746571\n",
      "Potassium              99.835626\n",
      "CRP                    99.977690\n",
      "Albumin                99.995410\n",
      "dtype: float64\n"
     ]
    }
   ],
   "source": [
    "def missing_value_ratio(df):\n",
    "    # 각 컬럼의 결측치 비율 계산\n",
    "    missing_ratio = df.isna().mean() * 100\n",
    "    \n",
    "    # 결측치 비율을 오름차순으로 정렬하여 출력\n",
    "    print(\"Missing Values Percentage in Each Column:\")\n",
    "    print(missing_ratio.sort_values(ascending=True))\n",
    "\n",
    "missing_value_ratio(df)"
   ]
  },
  {
   "cell_type": "markdown",
   "metadata": {},
   "source": [
    "## split and resampling(다음 순서대로)\n",
    "- 범주형 원핫인코딩\n",
    "- data split \n",
    "- 결측치 처리\n",
    "- 1시간 간격으로 resample\n",
    "- downsampling\n",
    "- 정규화"
   ]
  },
  {
   "cell_type": "markdown",
   "metadata": {},
   "source": [
    "### - one-hot encoding"
   ]
  },
  {
   "cell_type": "code",
   "execution_count": 8,
   "metadata": {},
   "outputs": [
    {
     "data": {
      "text/plain": [
       "dead_in_hosp\n",
       "0    0.824596\n",
       "1    0.175404\n",
       "Name: proportion, dtype: float64"
      ]
     },
     "execution_count": 8,
     "metadata": {},
     "output_type": "execute_result"
    }
   ],
   "source": [
    "# 범주형 열 목록\n",
    "categorical_cols = ['race', 'gender', 'CU type']\n",
    "\n",
    "# 범주형 변수 원핫인코딩\n",
    "df_encoded = pd.get_dummies(df, columns=categorical_cols)\n",
    "df_encoded['dead_in_hosp'].value_counts(normalize=True)"
   ]
  },
  {
   "cell_type": "code",
   "execution_count": 9,
   "metadata": {},
   "outputs": [
    {
     "data": {
      "text/plain": [
       "(True, True)"
      ]
     },
     "execution_count": 9,
     "metadata": {},
     "output_type": "execute_result"
    }
   ],
   "source": [
    "# 레이블 유지되는지 확인 \n",
    "\n",
    "set(df[df['dead_in_hosp'] == 0]['stay_id'].unique()) == set(df_encoded[df_encoded['dead_in_hosp'] == 0]['stay_id'].unique()), set(df[df['dead_in_hosp'] == 1]['stay_id'].unique()) == set(df_encoded[df_encoded['dead_in_hosp'] == 1]['stay_id'].unique())"
   ]
  },
  {
   "cell_type": "markdown",
   "metadata": {},
   "source": [
    "### - train, test, valid split\n",
    "무작위 stay_id를 7:2:1로 분할"
   ]
  },
  {
   "cell_type": "code",
   "execution_count": 10,
   "metadata": {},
   "outputs": [],
   "source": [
    "# train, test, valid split = 7:2:1\n",
    "\n",
    "unique_stay_ids = df_encoded['stay_id'].unique()\n",
    "np.random.seed(42)\n",
    "np.random.shuffle(unique_stay_ids)\n",
    "\n",
    "train_ids = unique_stay_ids[:int(0.7 * len(unique_stay_ids))]\n",
    "val_ids = unique_stay_ids[int(0.7 * len(unique_stay_ids)):]\n",
    "test_ids = unique_stay_ids[int(0.9 * len(unique_stay_ids)):]\n",
    "\n",
    "train = df_encoded[df_encoded['stay_id'].isin(train_ids)]\n",
    "val = df_encoded[df_encoded['stay_id'].isin(val_ids)]\n",
    "test = df_encoded[df_encoded['stay_id'].isin(test_ids)]"
   ]
  },
  {
   "cell_type": "code",
   "execution_count": 11,
   "metadata": {},
   "outputs": [
    {
     "data": {
      "text/plain": [
       "(dead_in_hosp\n",
       " 0    0.828358\n",
       " 1    0.171642\n",
       " Name: proportion, dtype: float64,\n",
       " dead_in_hosp\n",
       " 0    0.810327\n",
       " 1    0.189673\n",
       " Name: proportion, dtype: float64,\n",
       " dead_in_hosp\n",
       " 0    0.815783\n",
       " 1    0.184217\n",
       " Name: proportion, dtype: float64)"
      ]
     },
     "execution_count": 11,
     "metadata": {},
     "output_type": "execute_result"
    }
   ],
   "source": [
    "# pos/neg 비율이 데이터세트끼리 유사한지 확인 \n",
    "\n",
    "train['dead_in_hosp'].value_counts(normalize=True), test['dead_in_hosp'].value_counts(normalize=True), val['dead_in_hosp'].value_counts(normalize=True)"
   ]
  },
  {
   "cell_type": "markdown",
   "metadata": {},
   "source": [
    "### - 결측치 처리(1)"
   ]
  },
  {
   "cell_type": "code",
   "execution_count": 12,
   "metadata": {},
   "outputs": [
    {
     "name": "stderr",
     "output_type": "stream",
     "text": [
      "/tmp/ipykernel_1231905/4186026601.py:6: DeprecationWarning: DataFrameGroupBy.apply operated on the grouping columns. This behavior is deprecated, and in a future version of pandas the grouping columns will be excluded from the operation. Either pass `include_groups=False` to exclude the groupings or explicitly select the grouping columns after groupby to silence this warning.\n",
      "  df_ffill = df.groupby('stay_id').apply(lambda group: group.ffill()).reset_index(drop=True)\n",
      "/tmp/ipykernel_1231905/4186026601.py:6: DeprecationWarning: DataFrameGroupBy.apply operated on the grouping columns. This behavior is deprecated, and in a future version of pandas the grouping columns will be excluded from the operation. Either pass `include_groups=False` to exclude the groupings or explicitly select the grouping columns after groupby to silence this warning.\n",
      "  df_ffill = df.groupby('stay_id').apply(lambda group: group.ffill()).reset_index(drop=True)\n",
      "/tmp/ipykernel_1231905/4186026601.py:6: DeprecationWarning: DataFrameGroupBy.apply operated on the grouping columns. This behavior is deprecated, and in a future version of pandas the grouping columns will be excluded from the operation. Either pass `include_groups=False` to exclude the groupings or explicitly select the grouping columns after groupby to silence this warning.\n",
      "  df_ffill = df.groupby('stay_id').apply(lambda group: group.ffill()).reset_index(drop=True)\n"
     ]
    }
   ],
   "source": [
    "# train, val, test 각각의 dataset에 결측치 처리 \n",
    "\n",
    "def nan_fill(df):\n",
    "    \n",
    "    # 1. forward fill\n",
    "    df_ffill = df.groupby('stay_id').apply(lambda group: group.ffill()).reset_index(drop=True)\n",
    "\n",
    "    # 2. median fill\n",
    "    overall_median_values = df_ffill.median()\n",
    "    for col in (df_ffill.columns):\n",
    "        df_ffill[col] = df_ffill[col].fillna(overall_median_values[col])\n",
    "\n",
    "    return df_ffill\n",
    "\n",
    "train = nan_fill(train)\n",
    "val = nan_fill(val)\n",
    "test = nan_fill(test)"
   ]
  },
  {
   "cell_type": "markdown",
   "metadata": {},
   "source": [
    "### - 1시간 단위 리샘플링"
   ]
  },
  {
   "cell_type": "code",
   "execution_count": 13,
   "metadata": {},
   "outputs": [
    {
     "name": "stderr",
     "output_type": "stream",
     "text": [
      "/tmp/ipykernel_1231905/2394396441.py:5: DeprecationWarning: DataFrameGroupBy.apply operated on the grouping columns. This behavior is deprecated, and in a future version of pandas the grouping columns will be excluded from the operation. Either pass `include_groups=False` to exclude the groupings or explicitly select the grouping columns after groupby to silence this warning.\n",
      "  df_ffill = df.groupby(group_col).apply(lambda group: group.ffill()).reset_index(drop=True)\n",
      "/tmp/ipykernel_1231905/2394396441.py:8: DeprecationWarning: DataFrameGroupBy.apply operated on the grouping columns. This behavior is deprecated, and in a future version of pandas the grouping columns will be excluded from the operation. Either pass `include_groups=False` to exclude the groupings or explicitly select the grouping columns after groupby to silence this warning.\n",
      "  df_bfill = df_ffill.groupby(group_col).apply(lambda group: group.bfill()).reset_index(drop=True)\n",
      "/tmp/ipykernel_1231905/2394396441.py:5: DeprecationWarning: DataFrameGroupBy.apply operated on the grouping columns. This behavior is deprecated, and in a future version of pandas the grouping columns will be excluded from the operation. Either pass `include_groups=False` to exclude the groupings or explicitly select the grouping columns after groupby to silence this warning.\n",
      "  df_ffill = df.groupby(group_col).apply(lambda group: group.ffill()).reset_index(drop=True)\n",
      "/tmp/ipykernel_1231905/2394396441.py:8: DeprecationWarning: DataFrameGroupBy.apply operated on the grouping columns. This behavior is deprecated, and in a future version of pandas the grouping columns will be excluded from the operation. Either pass `include_groups=False` to exclude the groupings or explicitly select the grouping columns after groupby to silence this warning.\n",
      "  df_bfill = df_ffill.groupby(group_col).apply(lambda group: group.bfill()).reset_index(drop=True)\n",
      "/tmp/ipykernel_1231905/2394396441.py:5: DeprecationWarning: DataFrameGroupBy.apply operated on the grouping columns. This behavior is deprecated, and in a future version of pandas the grouping columns will be excluded from the operation. Either pass `include_groups=False` to exclude the groupings or explicitly select the grouping columns after groupby to silence this warning.\n",
      "  df_ffill = df.groupby(group_col).apply(lambda group: group.ffill()).reset_index(drop=True)\n",
      "/tmp/ipykernel_1231905/2394396441.py:8: DeprecationWarning: DataFrameGroupBy.apply operated on the grouping columns. This behavior is deprecated, and in a future version of pandas the grouping columns will be excluded from the operation. Either pass `include_groups=False` to exclude the groupings or explicitly select the grouping columns after groupby to silence this warning.\n",
      "  df_bfill = df_ffill.groupby(group_col).apply(lambda group: group.bfill()).reset_index(drop=True)\n"
     ]
    }
   ],
   "source": [
    "# stay_id 그룹별로 문자형 데이터 결측치 처리 \n",
    "\n",
    "def fill_na_with_group_values(df, columns_to_fill, group_col='stay_id'):\n",
    "    # 1. forward fill\n",
    "    df_ffill = df.groupby(group_col).apply(lambda group: group.ffill()).reset_index(drop=True)\n",
    "    \n",
    "    # 2. backward fill to handle remaining NaNs\n",
    "    df_bfill = df_ffill.groupby(group_col).apply(lambda group: group.bfill()).reset_index(drop=True)\n",
    "    \n",
    "    for col in columns_to_fill:\n",
    "        df[col] = df_bfill[col]\n",
    "\n",
    "    return df\n",
    "\n",
    "columns_to_fill = ['age', 'intime', 'death or dischtime', 'dead_in_hosp', 'race_asian',\n",
    "                   'race_black', 'race_hispanic/latino', 'race_other', 'race_white',\n",
    "                   'gender_F', 'gender_M', 'CU type_CCU', 'CU type_CVICU', 'CU type_MICU',\n",
    "                   'CU type_SICU']\n",
    "\n",
    "train = fill_na_with_group_values(train, columns_to_fill)\n",
    "val = fill_na_with_group_values(val, columns_to_fill)\n",
    "test = fill_na_with_group_values(test, columns_to_fill)"
   ]
  },
  {
   "cell_type": "code",
   "execution_count": 14,
   "metadata": {},
   "outputs": [
    {
     "name": "stderr",
     "output_type": "stream",
     "text": [
      "/tmp/ipykernel_1231905/1841217022.py:12: DeprecationWarning: DataFrameGroupBy.apply operated on the grouping columns. This behavior is deprecated, and in a future version of pandas the grouping columns will be excluded from the operation. Either pass `include_groups=False` to exclude the groupings or explicitly select the grouping columns after groupby to silence this warning.\n",
      "  resampled = df.groupby('stay_id').apply(resample_group).reset_index(drop=True)\n",
      "/tmp/ipykernel_1231905/1841217022.py:12: DeprecationWarning: DataFrameGroupBy.apply operated on the grouping columns. This behavior is deprecated, and in a future version of pandas the grouping columns will be excluded from the operation. Either pass `include_groups=False` to exclude the groupings or explicitly select the grouping columns after groupby to silence this warning.\n",
      "  resampled = df.groupby('stay_id').apply(resample_group).reset_index(drop=True)\n",
      "/tmp/ipykernel_1231905/1841217022.py:12: DeprecationWarning: DataFrameGroupBy.apply operated on the grouping columns. This behavior is deprecated, and in a future version of pandas the grouping columns will be excluded from the operation. Either pass `include_groups=False` to exclude the groupings or explicitly select the grouping columns after groupby to silence this warning.\n",
      "  resampled = df.groupby('stay_id').apply(resample_group).reset_index(drop=True)\n"
     ]
    }
   ],
   "source": [
    "# 데이터프레임을 1시간 단위로 리샘플링\n",
    "\n",
    "def resampling(df):           \n",
    "    df.set_index('charttime', inplace=True)   \n",
    "     \n",
    "    # 그룹별 리샘플링 함수\n",
    "    def resample_group(group):\n",
    "        group_resampled = group.resample('h').mean()\n",
    "        group_resampled['stay_id'] = group['stay_id'].iloc[0]\n",
    "        return group_resampled.reset_index()\n",
    "    \n",
    "    resampled = df.groupby('stay_id').apply(resample_group).reset_index(drop=True)\n",
    "    resampled.sort_values(by=['stay_id', 'charttime'], ascending=True, inplace=True)\n",
    "    return resampled\n",
    "\n",
    "train = resampling(train)\n",
    "val = resampling(val)\n",
    "test = resampling(test)"
   ]
  },
  {
   "cell_type": "code",
   "execution_count": 15,
   "metadata": {},
   "outputs": [
    {
     "name": "stderr",
     "output_type": "stream",
     "text": [
      "/tmp/ipykernel_1231905/4186026601.py:6: DeprecationWarning: DataFrameGroupBy.apply operated on the grouping columns. This behavior is deprecated, and in a future version of pandas the grouping columns will be excluded from the operation. Either pass `include_groups=False` to exclude the groupings or explicitly select the grouping columns after groupby to silence this warning.\n",
      "  df_ffill = df.groupby('stay_id').apply(lambda group: group.ffill()).reset_index(drop=True)\n",
      "/tmp/ipykernel_1231905/4186026601.py:6: DeprecationWarning: DataFrameGroupBy.apply operated on the grouping columns. This behavior is deprecated, and in a future version of pandas the grouping columns will be excluded from the operation. Either pass `include_groups=False` to exclude the groupings or explicitly select the grouping columns after groupby to silence this warning.\n",
      "  df_ffill = df.groupby('stay_id').apply(lambda group: group.ffill()).reset_index(drop=True)\n",
      "/tmp/ipykernel_1231905/4186026601.py:6: DeprecationWarning: DataFrameGroupBy.apply operated on the grouping columns. This behavior is deprecated, and in a future version of pandas the grouping columns will be excluded from the operation. Either pass `include_groups=False` to exclude the groupings or explicitly select the grouping columns after groupby to silence this warning.\n",
      "  df_ffill = df.groupby('stay_id').apply(lambda group: group.ffill()).reset_index(drop=True)\n"
     ]
    }
   ],
   "source": [
    "# 결측치 처리 \n",
    "\n",
    "train = nan_fill(train)\n",
    "val = nan_fill(val)\n",
    "test = nan_fill(test)"
   ]
  },
  {
   "cell_type": "markdown",
   "metadata": {},
   "source": [
    "### - undersampling"
   ]
  },
  {
   "cell_type": "code",
   "execution_count": 16,
   "metadata": {},
   "outputs": [],
   "source": [
    "# 데이터가 24개 이상인 경우만 필터링\n",
    "\n",
    "def undersampling(df):\n",
    "    undersampled = df.groupby('stay_id').filter(lambda x: len(x) >= 24)\n",
    "    undersampled.sort_values(by=['stay_id', 'charttime'], ascending=False, inplace=True)    \n",
    "    return undersampled\n",
    "\n",
    "train = undersampling(train)\n",
    "val = undersampling(val)\n",
    "test = undersampling(test)"
   ]
  },
  {
   "cell_type": "code",
   "execution_count": 17,
   "metadata": {},
   "outputs": [],
   "source": [
    "# pos/neg를 분리\n",
    "\n",
    "neg_train = train.loc[train['dead_in_hosp'] == 0]\n",
    "pos_train = train.loc[train['dead_in_hosp'] == 1]\n",
    "\n",
    "neg_val = val.loc[val['dead_in_hosp'] == 0]\n",
    "pos_val = val.loc[val['dead_in_hosp'] == 1]\n",
    "\n",
    "neg_test = test.loc[test['dead_in_hosp'] == 0]\n",
    "pos_test = test.loc[test['dead_in_hosp'] == 1]"
   ]
  },
  {
   "cell_type": "code",
   "execution_count": 18,
   "metadata": {},
   "outputs": [],
   "source": [
    "# positive의 경우 각 stay_id별로 최신 시간을 기준으로 이전 24개의 행만 남김\n",
    "# 이때, 사망 직전 1시간의 값이 없는 데이터를 확인해 삭제\n",
    "\n",
    "def keep_last_24_hours(df):\n",
    "    # 최신 charttime을 기준으로 정렬\n",
    "    df_sorted = df.sort_values(by='charttime', ascending=False)\n",
    "    df_kept = df_sorted.groupby('stay_id').head(24)\n",
    "    \n",
    "    # 가장 늦은 charttime 값 추출\n",
    "    latest_charttime = df_kept.groupby('stay_id')['charttime'].max().reset_index()\n",
    "    latest_charttime = latest_charttime.merge(df_kept[['stay_id', 'death or dischtime']].drop_duplicates(), on='stay_id')\n",
    "\n",
    "    # 시간 차이 계산\n",
    "    latest_charttime['time_difference'] = latest_charttime['death or dischtime'] - latest_charttime['charttime']\n",
    "\n",
    "    # 1시간 초과하는 stay_id 추출\n",
    "    filtered_stay_id = latest_charttime[latest_charttime['time_difference'] > pd.Timedelta(hours=1)]\n",
    "    exclude_stay_ids = filtered_stay_id['stay_id'].tolist()\n",
    "\n",
    "    # df_kept에서 해당 stay_id 값을 제외\n",
    "    filtered_df_kept = df_kept[~df_kept['stay_id'].isin(exclude_stay_ids)]\n",
    "    \n",
    "    return filtered_df_kept"
   ]
  },
  {
   "cell_type": "code",
   "execution_count": 19,
   "metadata": {},
   "outputs": [],
   "source": [
    "# negative의 경우 일부 시점을 무작위로 선택해 해당 시점 전후의 값만 사용\n",
    "\n",
    "def keep_random_24_hours(df):\n",
    "    np.random.seed(42)  # 시드 고정\n",
    "    \n",
    "    def select_random_window(group):\n",
    "        group_sorted = group.sort_values(by='charttime', ascending=False)\n",
    "        random_index = np.random.randint(0, len(group_sorted))\n",
    "\n",
    "        start_index = max(0, random_index - 11)\n",
    "        end_index = min(len(group_sorted), random_index + 12 + 1)\n",
    "        selected_window = group_sorted.iloc[start_index:end_index]\n",
    "\n",
    "        if len(selected_window) < 24:\n",
    "            if start_index == 0:\n",
    "                additional_rows = group_sorted.iloc[end_index:end_index + (24 - len(selected_window))]\n",
    "            else:\n",
    "                additional_rows = group_sorted.iloc[max(0, start_index - (24 - len(selected_window))):start_index]\n",
    "            selected_window = pd.concat([selected_window, additional_rows]).drop_duplicates().head(24)\n",
    "\n",
    "        return selected_window\n",
    "    \n",
    "    # 각 stay_id 그룹에 대해 select_random_window 함수를 적용\n",
    "    df_kept = df.groupby('stay_id').apply(select_random_window).reset_index(drop=True)\n",
    "    df_kept = df_kept.sort_values(by=['stay_id','charttime'], ascending=False)\n",
    "    \n",
    "    return df_kept"
   ]
  },
  {
   "cell_type": "code",
   "execution_count": 20,
   "metadata": {},
   "outputs": [
    {
     "name": "stderr",
     "output_type": "stream",
     "text": [
      "/tmp/ipykernel_1231905/640817045.py:24: DeprecationWarning: DataFrameGroupBy.apply operated on the grouping columns. This behavior is deprecated, and in a future version of pandas the grouping columns will be excluded from the operation. Either pass `include_groups=False` to exclude the groupings or explicitly select the grouping columns after groupby to silence this warning.\n",
      "  df_kept = df.groupby('stay_id').apply(select_random_window).reset_index(drop=True)\n",
      "/tmp/ipykernel_1231905/640817045.py:24: DeprecationWarning: DataFrameGroupBy.apply operated on the grouping columns. This behavior is deprecated, and in a future version of pandas the grouping columns will be excluded from the operation. Either pass `include_groups=False` to exclude the groupings or explicitly select the grouping columns after groupby to silence this warning.\n",
      "  df_kept = df.groupby('stay_id').apply(select_random_window).reset_index(drop=True)\n",
      "/tmp/ipykernel_1231905/640817045.py:24: DeprecationWarning: DataFrameGroupBy.apply operated on the grouping columns. This behavior is deprecated, and in a future version of pandas the grouping columns will be excluded from the operation. Either pass `include_groups=False` to exclude the groupings or explicitly select the grouping columns after groupby to silence this warning.\n",
      "  df_kept = df.groupby('stay_id').apply(select_random_window).reset_index(drop=True)\n"
     ]
    }
   ],
   "source": [
    "train_neg_resample = keep_random_24_hours(neg_train)\n",
    "train_pos_resample = keep_last_24_hours(pos_train)\n",
    "val_neg_resample = keep_random_24_hours(neg_val)\n",
    "val_pos_resample = keep_last_24_hours(pos_val)\n",
    "test_neg_resample = keep_random_24_hours(neg_test)\n",
    "test_pos_resample = keep_last_24_hours(pos_test)"
   ]
  },
  {
   "cell_type": "code",
   "execution_count": 21,
   "metadata": {},
   "outputs": [
    {
     "data": {
      "text/plain": [
       "(dead_in_hosp\n",
       " 0.0    0.649835\n",
       " 1.0    0.350165\n",
       " Name: proportion, dtype: float64,\n",
       " dead_in_hosp\n",
       " 0.0    0.632207\n",
       " 1.0    0.367793\n",
       " Name: proportion, dtype: float64,\n",
       " dead_in_hosp\n",
       " 0.0    0.947735\n",
       " 1.0    0.052265\n",
       " Name: proportion, dtype: float64)"
      ]
     },
     "execution_count": 21,
     "metadata": {},
     "output_type": "execute_result"
    }
   ],
   "source": [
    "# negative undersampling: 무작위로 10%의 stay_id 선택\n",
    "\n",
    "def neg_undersampling(neg_df, pos_df, num): # 0.1\n",
    "    unique_stay_ids = neg_df['stay_id'].unique()\n",
    "    num_to_select = int(len(unique_stay_ids) * num) \n",
    "    np.random.seed(42)\n",
    "    selected_stay_ids = np.random.choice(unique_stay_ids, num_to_select, replace=False)\n",
    "\n",
    "    # 해당 stay_id에 해당하는 값만 추출\n",
    "    sampled_neg = neg_df[neg_df['stay_id'].isin(selected_stay_ids)]\n",
    "    resample = pd.concat([sampled_neg, pos_df])\n",
    "    resample = resample.sort_values(by=['stay_id','charttime'], ascending=True)\n",
    "    return resample\n",
    "\n",
    "train_neg_down = neg_undersampling(train_neg_resample, train_pos_resample, 0.1)\n",
    "val_neg_down = neg_undersampling(val_neg_resample, val_pos_resample, 0.1)\n",
    "test = pd.concat([test_neg_resample, test_pos_resample])\n",
    "test = test.sort_values(by=['stay_id','charttime'], ascending=True)\n",
    "\n",
    "train_neg_down['dead_in_hosp'].value_counts(normalize=True), val_neg_down['dead_in_hosp'].value_counts(normalize=True), test['dead_in_hosp'].value_counts(normalize=True)"
   ]
  },
  {
   "cell_type": "code",
   "execution_count": 22,
   "metadata": {},
   "outputs": [
    {
     "data": {
      "text/plain": [
       "(True, True, True)"
      ]
     },
     "execution_count": 22,
     "metadata": {},
     "output_type": "execute_result"
    }
   ],
   "source": [
    "# 모든 stay_id group이 1시간 간격의 데이터를 가지고 있는지 확인\n",
    "\n",
    "def check_hourly_intervals(df):\n",
    "    groups_with_problems = []\n",
    "\n",
    "    for stay_id, group in df.groupby('stay_id'):\n",
    "        group = group.sort_values('charttime')\n",
    "        time_diffs = group['charttime'].diff().dropna()\n",
    "        \n",
    "        if not all(time_diffs == pd.Timedelta(hours=1)):\n",
    "            groups_with_problems.append(stay_id)\n",
    "    \n",
    "    return groups_with_problems\n",
    "\n",
    "# 확인\n",
    "len(check_hourly_intervals(train_neg_down)) == 0, len(check_hourly_intervals(test)) == 0, len(check_hourly_intervals(val_neg_down)) == 0"
   ]
  },
  {
   "cell_type": "markdown",
   "metadata": {},
   "source": [
    "### - 날짜 변수 삭제 "
   ]
  },
  {
   "cell_type": "code",
   "execution_count": 23,
   "metadata": {},
   "outputs": [],
   "source": [
    "# datetime type 변수(intime, death/dischtime 컬럼) 일괄 삭제 \n",
    "    \n",
    "def datetime_remove(df):\n",
    "    df_no_dates = df.drop(columns=['intime', 'death or dischtime'])\n",
    "    df_no_dates = df_no_dates.sort_values(by=['stay_id', 'charttime'], ascending=True)\n",
    "    return df_no_dates\n",
    "\n",
    "train = datetime_remove(train_neg_down)\n",
    "val = datetime_remove(val_neg_down)\n",
    "test = datetime_remove(test)"
   ]
  },
  {
   "cell_type": "markdown",
   "metadata": {},
   "source": [
    "### - X/y split , 정규화"
   ]
  },
  {
   "cell_type": "code",
   "execution_count": 13,
   "metadata": {},
   "outputs": [],
   "source": [
    "train = pd.read_parquet('train.parquet')\n",
    "test = pd.read_parquet('test.parquet')\n",
    "val = pd.read_parquet('val.parquet')"
   ]
  },
  {
   "cell_type": "code",
   "execution_count": 14,
   "metadata": {},
   "outputs": [],
   "source": [
    "y_train = train['dead_in_hosp']\n",
    "y_val = val['dead_in_hosp']\n",
    "y_test = test['dead_in_hosp']\n",
    "\n",
    "X_train = train.drop(columns=['dead_in_hosp'], inplace=False)\n",
    "X_val = val.drop(columns=['dead_in_hosp'], inplace=False)\n",
    "X_test = test.drop(columns=['dead_in_hosp'], inplace=False)"
   ]
  },
  {
   "cell_type": "code",
   "execution_count": 15,
   "metadata": {},
   "outputs": [
    {
     "data": {
      "text/html": [
       "<div>\n",
       "<style scoped>\n",
       "    .dataframe tbody tr th:only-of-type {\n",
       "        vertical-align: middle;\n",
       "    }\n",
       "\n",
       "    .dataframe tbody tr th {\n",
       "        vertical-align: top;\n",
       "    }\n",
       "\n",
       "    .dataframe thead th {\n",
       "        text-align: right;\n",
       "    }\n",
       "</style>\n",
       "<table border=\"1\" class=\"dataframe\">\n",
       "  <thead>\n",
       "    <tr style=\"text-align: right;\">\n",
       "      <th></th>\n",
       "      <th>charttime</th>\n",
       "      <th>stay_id</th>\n",
       "      <th>ALT</th>\n",
       "      <th>AST</th>\n",
       "      <th>Albumin</th>\n",
       "      <th>BUN</th>\n",
       "      <th>CRP</th>\n",
       "      <th>Chloride</th>\n",
       "      <th>Creatinine</th>\n",
       "      <th>GCS Eye Opening</th>\n",
       "      <th>...</th>\n",
       "      <th>race_black</th>\n",
       "      <th>race_hispanic/latino</th>\n",
       "      <th>race_other</th>\n",
       "      <th>race_white</th>\n",
       "      <th>gender_F</th>\n",
       "      <th>gender_M</th>\n",
       "      <th>CU type_CCU</th>\n",
       "      <th>CU type_CVICU</th>\n",
       "      <th>CU type_MICU</th>\n",
       "      <th>CU type_SICU</th>\n",
       "    </tr>\n",
       "  </thead>\n",
       "  <tbody>\n",
       "    <tr>\n",
       "      <th>556</th>\n",
       "      <td>2194-05-05 07:00:00</td>\n",
       "      <td>30000646.0</td>\n",
       "      <td>22.0</td>\n",
       "      <td>19.0</td>\n",
       "      <td>2.491603</td>\n",
       "      <td>11.0</td>\n",
       "      <td>106.599998</td>\n",
       "      <td>109.0</td>\n",
       "      <td>0.5</td>\n",
       "      <td>4.0</td>\n",
       "      <td>...</td>\n",
       "      <td>0.0</td>\n",
       "      <td>0.0</td>\n",
       "      <td>0.0</td>\n",
       "      <td>0.0</td>\n",
       "      <td>0.0</td>\n",
       "      <td>1.0</td>\n",
       "      <td>1.0</td>\n",
       "      <td>0.0</td>\n",
       "      <td>0.0</td>\n",
       "      <td>0.0</td>\n",
       "    </tr>\n",
       "    <tr>\n",
       "      <th>557</th>\n",
       "      <td>2194-05-05 08:00:00</td>\n",
       "      <td>30000646.0</td>\n",
       "      <td>22.0</td>\n",
       "      <td>19.0</td>\n",
       "      <td>2.491603</td>\n",
       "      <td>9.0</td>\n",
       "      <td>106.599998</td>\n",
       "      <td>106.0</td>\n",
       "      <td>0.5</td>\n",
       "      <td>4.0</td>\n",
       "      <td>...</td>\n",
       "      <td>0.0</td>\n",
       "      <td>0.0</td>\n",
       "      <td>0.0</td>\n",
       "      <td>0.0</td>\n",
       "      <td>0.0</td>\n",
       "      <td>1.0</td>\n",
       "      <td>1.0</td>\n",
       "      <td>0.0</td>\n",
       "      <td>0.0</td>\n",
       "      <td>0.0</td>\n",
       "    </tr>\n",
       "    <tr>\n",
       "      <th>558</th>\n",
       "      <td>2194-05-05 09:00:00</td>\n",
       "      <td>30000646.0</td>\n",
       "      <td>22.0</td>\n",
       "      <td>19.0</td>\n",
       "      <td>2.491603</td>\n",
       "      <td>9.0</td>\n",
       "      <td>106.599998</td>\n",
       "      <td>106.0</td>\n",
       "      <td>0.5</td>\n",
       "      <td>4.0</td>\n",
       "      <td>...</td>\n",
       "      <td>0.0</td>\n",
       "      <td>0.0</td>\n",
       "      <td>0.0</td>\n",
       "      <td>0.0</td>\n",
       "      <td>0.0</td>\n",
       "      <td>1.0</td>\n",
       "      <td>1.0</td>\n",
       "      <td>0.0</td>\n",
       "      <td>0.0</td>\n",
       "      <td>0.0</td>\n",
       "    </tr>\n",
       "    <tr>\n",
       "      <th>559</th>\n",
       "      <td>2194-05-05 10:00:00</td>\n",
       "      <td>30000646.0</td>\n",
       "      <td>22.0</td>\n",
       "      <td>19.0</td>\n",
       "      <td>2.491603</td>\n",
       "      <td>9.0</td>\n",
       "      <td>106.599998</td>\n",
       "      <td>106.0</td>\n",
       "      <td>0.5</td>\n",
       "      <td>4.0</td>\n",
       "      <td>...</td>\n",
       "      <td>0.0</td>\n",
       "      <td>0.0</td>\n",
       "      <td>0.0</td>\n",
       "      <td>0.0</td>\n",
       "      <td>0.0</td>\n",
       "      <td>1.0</td>\n",
       "      <td>1.0</td>\n",
       "      <td>0.0</td>\n",
       "      <td>0.0</td>\n",
       "      <td>0.0</td>\n",
       "    </tr>\n",
       "    <tr>\n",
       "      <th>560</th>\n",
       "      <td>2194-05-05 11:00:00</td>\n",
       "      <td>30000646.0</td>\n",
       "      <td>22.0</td>\n",
       "      <td>19.0</td>\n",
       "      <td>2.491603</td>\n",
       "      <td>9.0</td>\n",
       "      <td>106.599998</td>\n",
       "      <td>106.0</td>\n",
       "      <td>0.5</td>\n",
       "      <td>4.0</td>\n",
       "      <td>...</td>\n",
       "      <td>0.0</td>\n",
       "      <td>0.0</td>\n",
       "      <td>0.0</td>\n",
       "      <td>0.0</td>\n",
       "      <td>0.0</td>\n",
       "      <td>1.0</td>\n",
       "      <td>1.0</td>\n",
       "      <td>0.0</td>\n",
       "      <td>0.0</td>\n",
       "      <td>0.0</td>\n",
       "    </tr>\n",
       "  </tbody>\n",
       "</table>\n",
       "<p>5 rows × 38 columns</p>\n",
       "</div>"
      ],
      "text/plain": [
       "              charttime     stay_id   ALT   AST   Albumin   BUN         CRP  \\\n",
       "556 2194-05-05 07:00:00  30000646.0  22.0  19.0  2.491603  11.0  106.599998   \n",
       "557 2194-05-05 08:00:00  30000646.0  22.0  19.0  2.491603   9.0  106.599998   \n",
       "558 2194-05-05 09:00:00  30000646.0  22.0  19.0  2.491603   9.0  106.599998   \n",
       "559 2194-05-05 10:00:00  30000646.0  22.0  19.0  2.491603   9.0  106.599998   \n",
       "560 2194-05-05 11:00:00  30000646.0  22.0  19.0  2.491603   9.0  106.599998   \n",
       "\n",
       "     Chloride  Creatinine  GCS Eye Opening  ...  race_black  \\\n",
       "556     109.0         0.5              4.0  ...         0.0   \n",
       "557     106.0         0.5              4.0  ...         0.0   \n",
       "558     106.0         0.5              4.0  ...         0.0   \n",
       "559     106.0         0.5              4.0  ...         0.0   \n",
       "560     106.0         0.5              4.0  ...         0.0   \n",
       "\n",
       "     race_hispanic/latino  race_other  race_white  gender_F  gender_M  \\\n",
       "556                   0.0         0.0         0.0       0.0       1.0   \n",
       "557                   0.0         0.0         0.0       0.0       1.0   \n",
       "558                   0.0         0.0         0.0       0.0       1.0   \n",
       "559                   0.0         0.0         0.0       0.0       1.0   \n",
       "560                   0.0         0.0         0.0       0.0       1.0   \n",
       "\n",
       "     CU type_CCU  CU type_CVICU  CU type_MICU  CU type_SICU  \n",
       "556          1.0            0.0           0.0           0.0  \n",
       "557          1.0            0.0           0.0           0.0  \n",
       "558          1.0            0.0           0.0           0.0  \n",
       "559          1.0            0.0           0.0           0.0  \n",
       "560          1.0            0.0           0.0           0.0  \n",
       "\n",
       "[5 rows x 38 columns]"
      ]
     },
     "execution_count": 15,
     "metadata": {},
     "output_type": "execute_result"
    }
   ],
   "source": [
    "train.head()"
   ]
  },
  {
   "cell_type": "code",
   "execution_count": 16,
   "metadata": {},
   "outputs": [],
   "source": [
    "def scaling(df):\n",
    "    # 'charttime'을 인덱스로 설정\n",
    "    df.set_index('charttime', inplace=True)\n",
    "    df.drop(columns=['stay_id'], inplace=True)\n",
    "    \n",
    "    # 정규화\n",
    "    scaler = StandardScaler() # MinMaxScaler / StandardScaler\n",
    "    df_scaled = scaler.fit_transform(df)\n",
    "    \n",
    "    return df_scaled\n",
    "\n",
    "X_train_scaled = scaling(X_train)\n",
    "X_test_scaled = scaling(X_test)\n",
    "X_val_scaled = scaling(X_val)"
   ]
  },
  {
   "cell_type": "code",
   "execution_count": 17,
   "metadata": {},
   "outputs": [
    {
     "name": "stdout",
     "output_type": "stream",
     "text": [
      "클래스 0의 비율: 0.6498345812293227\n",
      "클래스 1의 비율: 0.35016541877067736\n",
      "클래스 0의 비율: 0.6322067594433399\n",
      "클래스 1의 비율: 0.36779324055666\n",
      "클래스 0의 비율: 0.9477345701034606\n",
      "클래스 1의 비율: 0.05226542989653942\n"
     ]
    }
   ],
   "source": [
    "def class_ratio(df):\n",
    "    # 클래스별 개수 계산\n",
    "    class_counts = df.value_counts()\n",
    "\n",
    "    # 전체 데이터 개수\n",
    "    total_count = len(df)\n",
    "\n",
    "    # 클래스별 비율 계산\n",
    "    class_ratios = class_counts / total_count\n",
    "\n",
    "    print(\"클래스 0의 비율:\", class_ratios[0])\n",
    "    print(\"클래스 1의 비율:\", class_ratios[1])\n",
    "\n",
    "class_ratio(y_train)\n",
    "class_ratio(y_val)\n",
    "class_ratio(y_test)"
   ]
  },
  {
   "cell_type": "code",
   "execution_count": 18,
   "metadata": {},
   "outputs": [
    {
     "data": {
      "text/plain": [
       "(35, 24)"
      ]
     },
     "execution_count": 18,
     "metadata": {},
     "output_type": "execute_result"
    }
   ],
   "source": [
    "# sequence length와 feature 수 확인\n",
    "\n",
    "num_features = X_test_scaled.shape[1]\n",
    "sequence_length = 24\n",
    "(num_features, sequence_length)"
   ]
  },
  {
   "cell_type": "code",
   "execution_count": 19,
   "metadata": {},
   "outputs": [
    {
     "name": "stdout",
     "output_type": "stream",
     "text": [
      "(137832, 35) (137832,)\n",
      "(134544, 35) (134544,)\n",
      "(60360, 35) (60360,)\n"
     ]
    }
   ],
   "source": [
    "print(X_train_scaled.shape, y_train.shape)\n",
    "print(X_test_scaled.shape, y_test.shape)\n",
    "print(X_val_scaled.shape, y_val.shape)"
   ]
  },
  {
   "cell_type": "markdown",
   "metadata": {},
   "source": [
    "## 모델링"
   ]
  },
  {
   "cell_type": "markdown",
   "metadata": {},
   "source": [
    "### - dataset loader 정의"
   ]
  },
  {
   "cell_type": "code",
   "execution_count": 20,
   "metadata": {},
   "outputs": [],
   "source": [
    "\n",
    "class patient_dataset(Dataset):\n",
    "    def __init__(self, data, labels, sequence_length, num_features, device):\n",
    "        self.data = torch.tensor(data, dtype=torch.float32).view(-1, sequence_length, num_features)\n",
    "        \n",
    "        if isinstance(labels, pd.Series):\n",
    "            labels = labels.to_numpy()\n",
    "        \n",
    "        self.labels = torch.tensor(labels, dtype=torch.float32).view(-1, sequence_length, 1)\n",
    "        self.sequence_length = sequence_length\n",
    "        self.device = device\n",
    "        \n",
    "        print(\"Data shape:\", self.data.shape)\n",
    "        print(\"Labels shape:\", self.labels.shape)\n",
    "    \n",
    "    def __len__(self):\n",
    "        return len(self.data)\n",
    "    \n",
    "    def __getitem__(self, idx):\n",
    "        x = self.data[idx].to(self.device)\n",
    "        y = self.labels[idx].to(self.device)\n",
    "        return x, y\n",
    "\n",
    "class PatientSampler(Sampler):\n",
    "    def __init__(self, data_source, group_ids, shuffle=False):\n",
    "        self.data_source = data_source\n",
    "        self.group_ids = group_ids\n",
    "        self.shuffle = shuffle\n",
    "        self.unique_groups = np.unique(group_ids)\n",
    "\n",
    "    def __iter__(self):\n",
    "        if self.shuffle:\n",
    "            np.random.shuffle(self.unique_groups) \n",
    "        for group in self.unique_groups:\n",
    "            group_indices = np.where(self.group_ids == group)[0]\n",
    "            \n",
    "            # 그룹 내 sequence끼리는 섞지 않음            \n",
    "            yield from group_indices\n",
    "\n",
    "    def __len__(self):\n",
    "        return len(self.data_source)\n",
    "\n",
    "class GroupedBatchSampler(BatchSampler):\n",
    "    def __init__(self, sampler, batch_size, drop_last):\n",
    "        super(GroupedBatchSampler, self).__init__(sampler, batch_size, drop_last)\n",
    "        self.batch_size = batch_size\n",
    "        self.drop_last = drop_last\n",
    "\n",
    "    def __iter__(self):\n",
    "        batch = []\n",
    "        current_group = None\n",
    "        for idx in self.sampler:\n",
    "            if current_group is None:\n",
    "                current_group = self.sampler.group_ids[idx]\n",
    "            if self.sampler.group_ids[idx] != current_group or len(batch) == self.batch_size:\n",
    "                yield batch\n",
    "                batch = []\n",
    "                current_group = self.sampler.group_ids[idx]\n",
    "            batch.append(idx)\n",
    "        if len(batch) > 0 and not self.drop_last:\n",
    "            yield batch"
   ]
  },
  {
   "cell_type": "markdown",
   "metadata": {},
   "source": [
    "### - LSTM\n",
    "model structure"
   ]
  },
  {
   "cell_type": "code",
   "execution_count": 21,
   "metadata": {},
   "outputs": [],
   "source": [
    "class lstm_model(nn.Module):\n",
    "    def __init__(self, input_dim, hidden_dim=32, \n",
    "                 feature_embedding_dim=16, lstm_layers=3, \n",
    "                 num_fc_layers=5, dropout_lstm=0.4, dropout_fc=0.5):\n",
    "        super(lstm_model, self).__init__()\n",
    "\n",
    "        self.input_dim = input_dim\n",
    "        self.hidden_dim = hidden_dim\n",
    "        self.feature_embedding_dim = feature_embedding_dim\n",
    "        self.lstm_layers = lstm_layers\n",
    "        self.num_fc_layers = num_fc_layers\n",
    "\n",
    "        self.feature_fc = nn.ModuleList([nn.Linear(1, feature_embedding_dim) for _ in range(input_dim)])\n",
    "        self.layer_norm = nn.LayerNorm(feature_embedding_dim * input_dim)\n",
    "\n",
    "        self.lstm = nn.LSTM(input_size=feature_embedding_dim * input_dim, hidden_size=hidden_dim, num_layers=lstm_layers, dropout=dropout_lstm, batch_first=True)\n",
    "\n",
    "        fc_layers = []\n",
    "\n",
    "        for _ in range(num_fc_layers - 1):\n",
    "            fc_layers.append(nn.Linear(hidden_dim, hidden_dim))\n",
    "            fc_layers.append(nn.ReLU())\n",
    "            fc_layers.append(nn.Dropout(dropout_fc))\n",
    "\n",
    "        self.fc = nn.Sequential(*fc_layers)\n",
    "        self.output = nn.Linear(hidden_dim, 1)\n",
    "\n",
    "    def forward(self, x):\n",
    "        batch_size, sequence_length, num_features = x.size()\n",
    "\n",
    "        x_emb = []\n",
    "        for i in range(num_features):\n",
    "            feature = x[:, :, i].unsqueeze(-1)\n",
    "            feature_emb = self.feature_fc[i](feature)\n",
    "            x_emb.append(feature_emb)\n",
    "\n",
    "        x_emb = torch.cat(x_emb, dim=2)\n",
    "        x_emb = self.layer_norm(x_emb)\n",
    "\n",
    "        lstm_out, _ = self.lstm(x_emb)\n",
    "        \n",
    "        # 마지막 시점의 출력을 가져옴\n",
    "        last_output = lstm_out[:, -1, :]\n",
    "\n",
    "        fc_out = self.fc(last_output)\n",
    "        output = self.output(fc_out)\n",
    "\n",
    "        return output"
   ]
  },
  {
   "cell_type": "code",
   "execution_count": 22,
   "metadata": {},
   "outputs": [
    {
     "data": {
      "text/html": [
       "Finishing last run (ID:8v3xkq17) before initializing another..."
      ],
      "text/plain": [
       "<IPython.core.display.HTML object>"
      ]
     },
     "metadata": {},
     "output_type": "display_data"
    },
    {
     "name": "stderr",
     "output_type": "stream",
     "text": [
      "wandb: WARNING Source type is set to 'repo' but some required information is missing from the environment. A job will not be created from this run. See https://docs.wandb.ai/guides/launch/create-job\n"
     ]
    },
    {
     "data": {
      "text/html": [
       " View run <strong style=\"color:#cdcd00\">sweet-microwave-390</strong> at: <a href='https://wandb.ai/ykjeong-info/mortality/runs/8v3xkq17' target=\"_blank\">https://wandb.ai/ykjeong-info/mortality/runs/8v3xkq17</a><br/>Synced 6 W&B file(s), 0 media file(s), 0 artifact file(s) and 0 other file(s)"
      ],
      "text/plain": [
       "<IPython.core.display.HTML object>"
      ]
     },
     "metadata": {},
     "output_type": "display_data"
    },
    {
     "data": {
      "text/html": [
       "Find logs at: <code>./wandb/run-20240830_103446-8v3xkq17/logs</code>"
      ],
      "text/plain": [
       "<IPython.core.display.HTML object>"
      ]
     },
     "metadata": {},
     "output_type": "display_data"
    },
    {
     "data": {
      "text/html": [
       "Successfully finished last run (ID:8v3xkq17). Initializing new run:<br/>"
      ],
      "text/plain": [
       "<IPython.core.display.HTML object>"
      ]
     },
     "metadata": {},
     "output_type": "display_data"
    },
    {
     "data": {
      "text/html": [
       "wandb version 0.17.8 is available!  To upgrade, please run:\n",
       " $ pip install wandb --upgrade"
      ],
      "text/plain": [
       "<IPython.core.display.HTML object>"
      ]
     },
     "metadata": {},
     "output_type": "display_data"
    },
    {
     "data": {
      "text/html": [
       "Tracking run with wandb version 0.16.2"
      ],
      "text/plain": [
       "<IPython.core.display.HTML object>"
      ]
     },
     "metadata": {},
     "output_type": "display_data"
    },
    {
     "data": {
      "text/html": [
       "Run data is saved locally in <code>/home/ykjeong/new-repo/wandb/run-20240830_103515-khox72j5</code>"
      ],
      "text/plain": [
       "<IPython.core.display.HTML object>"
      ]
     },
     "metadata": {},
     "output_type": "display_data"
    },
    {
     "data": {
      "text/html": [
       "Syncing run <strong><a href='https://wandb.ai/ykjeong-info/mortality/runs/khox72j5' target=\"_blank\">comfy-snowball-391</a></strong> to <a href='https://wandb.ai/ykjeong-info/mortality' target=\"_blank\">Weights & Biases</a> (<a href='https://wandb.me/run' target=\"_blank\">docs</a>)<br/>"
      ],
      "text/plain": [
       "<IPython.core.display.HTML object>"
      ]
     },
     "metadata": {},
     "output_type": "display_data"
    },
    {
     "data": {
      "text/html": [
       " View project at <a href='https://wandb.ai/ykjeong-info/mortality' target=\"_blank\">https://wandb.ai/ykjeong-info/mortality</a>"
      ],
      "text/plain": [
       "<IPython.core.display.HTML object>"
      ]
     },
     "metadata": {},
     "output_type": "display_data"
    },
    {
     "data": {
      "text/html": [
       " View run at <a href='https://wandb.ai/ykjeong-info/mortality/runs/khox72j5' target=\"_blank\">https://wandb.ai/ykjeong-info/mortality/runs/khox72j5</a>"
      ],
      "text/plain": [
       "<IPython.core.display.HTML object>"
      ]
     },
     "metadata": {},
     "output_type": "display_data"
    }
   ],
   "source": [
    "# Wandb로 하이퍼파라미터 설정\n",
    "\n",
    "wandb.init(project=\"mortality\", entity=\"ykjeong-info\")\n",
    "config = wandb.config\n",
    "config.batch_size = 512\n",
    "config.learning_rate = 0.0001\n",
    "config.epochs = 50\n",
    "config.weight_decay = 0.001\n",
    "\n",
    "device = torch.device(\"cuda\" if torch.cuda.is_available() else \"cpu\")"
   ]
  },
  {
   "cell_type": "code",
   "execution_count": 23,
   "metadata": {},
   "outputs": [
    {
     "data": {
      "text/plain": [
       "((134544, 35), (134544,))"
      ]
     },
     "execution_count": 23,
     "metadata": {},
     "output_type": "execute_result"
    }
   ],
   "source": [
    "X_test_scaled.shape, y_test.shape"
   ]
  },
  {
   "cell_type": "code",
   "execution_count": 24,
   "metadata": {},
   "outputs": [
    {
     "name": "stdout",
     "output_type": "stream",
     "text": [
      "Data shape: torch.Size([5743, 24, 35])\n",
      "Labels shape: torch.Size([5743, 24, 1])\n",
      "Data shape: torch.Size([2515, 24, 35])\n",
      "Labels shape: torch.Size([2515, 24, 1])\n",
      "Data shape: torch.Size([5606, 24, 35])\n",
      "Labels shape: torch.Size([5606, 24, 1])\n"
     ]
    }
   ],
   "source": [
    "\n",
    "group_ids = np.repeat(np.arange( (len(X_train_scaled) // 24) // sequence_length), sequence_length)\n",
    "train_dataset = patient_dataset(X_train_scaled, y_train, sequence_length=24, num_features=num_features, device=device)\n",
    "train_sampler = PatientSampler(train_dataset, group_ids=group_ids, shuffle=True)\n",
    "train_grouped_sampler = GroupedBatchSampler(train_sampler, batch_size=config.batch_size, drop_last=False)\n",
    "train_dataloader = DataLoader(train_dataset, batch_sampler=train_grouped_sampler)\n",
    "\n",
    "group_ids = np.repeat(np.arange((len(X_val_scaled) // 24) // sequence_length), sequence_length)\n",
    "val_dataset = patient_dataset(X_val_scaled, y_val, sequence_length=24, num_features=num_features, device=device)\n",
    "val_sampler = PatientSampler(val_dataset, group_ids=group_ids, shuffle=False)\n",
    "val_grouped_sampler = GroupedBatchSampler(val_sampler, batch_size=config.batch_size, drop_last=False)\n",
    "val_dataloader = DataLoader(val_dataset, batch_sampler=val_grouped_sampler)\n",
    "\n",
    "group_ids = np.repeat(np.arange((len(X_test_scaled) // 24)  // sequence_length), sequence_length)\n",
    "test_dataset = patient_dataset(X_test_scaled, y_test, sequence_length=24, num_features=num_features, device=device)\n",
    "test_sampler = PatientSampler(test_dataset, group_ids=group_ids, shuffle=False)\n",
    "test_grouped_sampler = GroupedBatchSampler(test_sampler, batch_size=config.batch_size, drop_last=False)\n",
    "test_dataloader = DataLoader(test_dataset, batch_sampler=test_grouped_sampler)"
   ]
  },
  {
   "cell_type": "code",
   "execution_count": 25,
   "metadata": {},
   "outputs": [
    {
     "data": {
      "text/plain": [
       "<__main__.PatientSampler at 0x7f3b3b3d9490>"
      ]
     },
     "execution_count": 25,
     "metadata": {},
     "output_type": "execute_result"
    }
   ],
   "source": [
    "test_sampler"
   ]
  },
  {
   "cell_type": "markdown",
   "metadata": {},
   "source": [
    "#### model training loop"
   ]
  },
  {
   "cell_type": "code",
   "execution_count": 26,
   "metadata": {},
   "outputs": [],
   "source": [
    "# 모델 생성 시 input_dim을 num_features로 전달\n",
    "\n",
    "model = lstm_model(input_dim=num_features).to(device)\n",
    "criterion = nn.BCEWithLogitsLoss()\n",
    "optimizer = optim.AdamW(model.parameters(), lr=config.learning_rate, weight_decay=config.weight_decay)\n",
    "\n",
    "# ReduceLROnPlateau 사용\n",
    "scheduler = optim.lr_scheduler.ReduceLROnPlateau(optimizer, 'min', patience=2, factor=0.5)"
   ]
  },
  {
   "cell_type": "code",
   "execution_count": 27,
   "metadata": {},
   "outputs": [
    {
     "name": "stdout",
     "output_type": "stream",
     "text": [
      "Epoch [1/50], Train Loss: 0.6861\n",
      "Validation Loss: 0.6369, Validation Accuracy: 63.18%, Validation AUC: 0.9518\n",
      "Epoch [2/50], Train Loss: 0.5207\n",
      "Validation Loss: 0.3957, Validation Accuracy: 63.18%, Validation AUC: 0.9670\n",
      "Epoch [3/50], Train Loss: 0.4131\n",
      "Validation Loss: 0.3702, Validation Accuracy: 91.55%, Validation AUC: 0.9701\n",
      "Epoch [4/50], Train Loss: 0.3857\n",
      "Validation Loss: 0.3509, Validation Accuracy: 92.07%, Validation AUC: 0.9716\n",
      "Epoch [5/50], Train Loss: 0.3502\n",
      "Validation Loss: 0.3391, Validation Accuracy: 92.83%, Validation AUC: 0.9690\n",
      "Epoch [6/50], Train Loss: 0.3335\n",
      "Validation Loss: 0.3116, Validation Accuracy: 92.63%, Validation AUC: 0.9712\n",
      "Epoch [7/50], Train Loss: 0.3050\n",
      "Validation Loss: 0.3310, Validation Accuracy: 92.59%, Validation AUC: 0.9734\n",
      "Epoch [8/50], Train Loss: 0.2850\n",
      "Validation Loss: 0.3062, Validation Accuracy: 92.51%, Validation AUC: 0.9735\n",
      "Epoch [9/50], Train Loss: 0.2737\n",
      "Validation Loss: 0.2647, Validation Accuracy: 92.75%, Validation AUC: 0.9733\n",
      "Epoch [10/50], Train Loss: 0.2728\n",
      "Validation Loss: 0.2696, Validation Accuracy: 92.75%, Validation AUC: 0.9738\n",
      "Epoch [11/50], Train Loss: 0.2555\n",
      "Validation Loss: 0.2576, Validation Accuracy: 92.75%, Validation AUC: 0.9736\n",
      "Epoch [12/50], Train Loss: 0.2495\n",
      "Validation Loss: 0.2495, Validation Accuracy: 92.55%, Validation AUC: 0.9735\n",
      "Epoch [13/50], Train Loss: 0.2387\n",
      "Validation Loss: 0.2436, Validation Accuracy: 92.71%, Validation AUC: 0.9736\n",
      "Epoch [14/50], Train Loss: 0.2306\n",
      "Validation Loss: 0.2474, Validation Accuracy: 92.67%, Validation AUC: 0.9745\n",
      "Epoch [15/50], Train Loss: 0.2241\n",
      "Validation Loss: 0.2502, Validation Accuracy: 92.67%, Validation AUC: 0.9745\n",
      "Epoch [16/50], Train Loss: 0.2310\n",
      "Validation Loss: 0.2441, Validation Accuracy: 93.03%, Validation AUC: 0.9746\n",
      "Epoch [17/50], Train Loss: 0.2160\n",
      "Validation Loss: 0.2827, Validation Accuracy: 92.79%, Validation AUC: 0.9752\n",
      "Epoch [18/50], Train Loss: 0.2161\n",
      "Validation Loss: 0.2655, Validation Accuracy: 92.51%, Validation AUC: 0.9750\n",
      "Early stopping at epoch 18 due to no improvement in validation loss.\n",
      "Training completed\n"
     ]
    },
    {
     "name": "stderr",
     "output_type": "stream",
     "text": [
      "wandb: WARNING Source type is set to 'repo' but some required information is missing from the environment. A job will not be created from this run. See https://docs.wandb.ai/guides/launch/create-job\n"
     ]
    },
    {
     "data": {
      "text/html": [
       "<style>\n",
       "    table.wandb td:nth-child(1) { padding: 0 10px; text-align: left ; width: auto;} td:nth-child(2) {text-align: left ; width: 100%}\n",
       "    .wandb-row { display: flex; flex-direction: row; flex-wrap: wrap; justify-content: flex-start; width: 100% }\n",
       "    .wandb-col { display: flex; flex-direction: column; flex-basis: 100%; flex: 1; padding: 10px; }\n",
       "    </style>\n",
       "<div class=\"wandb-row\"><div class=\"wandb-col\"><h3>Run history:</h3><br/><table class=\"wandb\"><tr><td>epoch</td><td>▁▁▂▂▃▃▃▄▄▅▅▆▆▆▇▇██</td></tr><tr><td>learning_rate</td><td>███████████████▁▁▁</td></tr><tr><td>train_loss</td><td>█▆▄▄▃▃▂▂▂▂▂▁▁▁▁▁▁▁</td></tr><tr><td>val_accuracy</td><td>▁▁████████████████</td></tr><tr><td>val_auc</td><td>▁▆▆▇▆▇▇▇▇██▇██████</td></tr><tr><td>val_loss</td><td>█▄▃▃▃▂▃▂▁▁▁▁▁▁▁▁▂▁</td></tr></table><br/></div><div class=\"wandb-col\"><h3>Run summary:</h3><br/><table class=\"wandb\"><tr><td>epoch</td><td>17</td></tr><tr><td>learning_rate</td><td>5e-05</td></tr><tr><td>train_loss</td><td>0.21613</td></tr><tr><td>val_accuracy</td><td>92.50801</td></tr><tr><td>val_auc</td><td>0.97502</td></tr><tr><td>val_loss</td><td>0.26551</td></tr></table><br/></div></div>"
      ],
      "text/plain": [
       "<IPython.core.display.HTML object>"
      ]
     },
     "metadata": {},
     "output_type": "display_data"
    },
    {
     "data": {
      "text/html": [
       " View run <strong style=\"color:#cdcd00\">comfy-snowball-391</strong> at: <a href='https://wandb.ai/ykjeong-info/mortality/runs/khox72j5' target=\"_blank\">https://wandb.ai/ykjeong-info/mortality/runs/khox72j5</a><br/>Synced 6 W&B file(s), 0 media file(s), 0 artifact file(s) and 1 other file(s)"
      ],
      "text/plain": [
       "<IPython.core.display.HTML object>"
      ]
     },
     "metadata": {},
     "output_type": "display_data"
    },
    {
     "data": {
      "text/html": [
       "Find logs at: <code>./wandb/run-20240830_103515-khox72j5/logs</code>"
      ],
      "text/plain": [
       "<IPython.core.display.HTML object>"
      ]
     },
     "metadata": {},
     "output_type": "display_data"
    }
   ],
   "source": [
    "# Training loop\n",
    "\n",
    "early_stopping_patience = 5\n",
    "best_val_loss = float('inf')\n",
    "early_stopping_counter = 0\n",
    "best_model_weights = model.state_dict()\n",
    "\n",
    "for epoch in range(config.epochs):\n",
    "    model.train()\n",
    "    running_loss = 0.0\n",
    "\n",
    "    for X_batch, y_batch in train_dataloader:\n",
    "        X_batch, y_batch = X_batch.to(device), y_batch.to(device)\n",
    "        \n",
    "        optimizer.zero_grad()\n",
    "        outputs = model(X_batch)  # outputs: (batch_size, sequence_length, 1)\n",
    "\n",
    "        # 마지막 시점의 출력만 사용\n",
    "        outputs = outputs\n",
    "        y_batch = y_batch[:, -1].view(-1, 1)  # (batch_size, 1)\n",
    "        \n",
    "        # 손실 계산\n",
    "        loss = criterion(outputs, y_batch)\n",
    "        loss.backward()\n",
    "        \n",
    "        # Gradient Clipping\n",
    "        torch.nn.utils.clip_grad_norm_(model.parameters(), max_norm=1.0)\n",
    "        \n",
    "        optimizer.step()\n",
    "        running_loss += loss.item() * X_batch.size(0)\n",
    "\n",
    "    # 평균 Train Loss 계산\n",
    "    epoch_loss = running_loss / len(train_dataloader.dataset)\n",
    "    print(f\"Epoch [{epoch+1}/{config.epochs}], Train Loss: {epoch_loss:.4f}\")\n",
    "\n",
    "    model.eval()\n",
    "    val_loss = 0.0\n",
    "    correct = 0\n",
    "    total = 0\n",
    "\n",
    "    all_labels = []\n",
    "    all_predictions = []\n",
    "\n",
    "    with torch.no_grad():\n",
    "        for X_batch, y_batch in val_dataloader:\n",
    "            X_batch, y_batch = X_batch.to(device), y_batch.to(device)\n",
    "            \n",
    "            outputs = model(X_batch)\n",
    "            \n",
    "            # 마지막 시점의 출력과 타겟을 사용함\n",
    "            outputs = outputs\n",
    "            y_batch = y_batch[:, -1].view(-1, 1)  # (batch_size, 1)\n",
    "            \n",
    "            loss = criterion(outputs, y_batch)\n",
    "            val_loss += loss.item() * X_batch.size(0)\n",
    "\n",
    "            predicted = (torch.sigmoid(outputs) > 0.5).float()\n",
    "            total += y_batch.size(0)\n",
    "            correct += (predicted == y_batch).sum().item()\n",
    "            \n",
    "            all_labels.extend(y_batch.cpu().numpy().flatten())\n",
    "            all_predictions.extend(torch.sigmoid(outputs).cpu().numpy().flatten())\n",
    "\n",
    "    val_loss /= len(val_dataloader.dataset)\n",
    "    val_accuracy = 100 * correct / total\n",
    "    val_auc = roc_auc_score(all_labels, all_predictions)\n",
    "\n",
    "    print(f\"Validation Loss: {val_loss:.4f}, Validation Accuracy: {val_accuracy:.2f}%, Validation AUC: {val_auc:.4f}\")\n",
    "\n",
    "    # 메트릭 로깅\n",
    "    wandb.log({\"epoch\": epoch, \"train_loss\": epoch_loss, \"val_loss\": val_loss, \"val_accuracy\": val_accuracy, \"val_auc\": val_auc})\n",
    "\n",
    "    # 학습률 감소 스케줄러 업데이트 및 로깅\n",
    "    scheduler.step(val_loss)\n",
    "    current_lr = optimizer.param_groups[0]['lr']\n",
    "    wandb.log({\"learning_rate\": current_lr})\n",
    "\n",
    "    # 조기 종료 검사 및 모델 가중치 저장\n",
    "    if val_loss < best_val_loss:\n",
    "        best_val_loss = val_loss\n",
    "        early_stopping_counter = 0\n",
    "        best_model_weights = model.state_dict()\n",
    "        \n",
    "        torch.save(best_model_weights, \"best_model.pth\")\n",
    "        wandb.save(\"best_model.pth\")\n",
    "    else:\n",
    "        early_stopping_counter += 1\n",
    "\n",
    "    if early_stopping_counter >= early_stopping_patience:\n",
    "        print(f\"Early stopping at epoch {epoch+1} due to no improvement in validation loss.\")\n",
    "        break\n",
    "    \n",
    "print(\"Training completed\")\n",
    "model.load_state_dict(best_model_weights)\n",
    "wandb.finish()"
   ]
  },
  {
   "cell_type": "markdown",
   "metadata": {},
   "source": [
    "#### evaluation"
   ]
  },
  {
   "cell_type": "code",
   "execution_count": 28,
   "metadata": {},
   "outputs": [
    {
     "name": "stdout",
     "output_type": "stream",
     "text": [
      "Train AUROC: 0.9832, Train AUPRC: 0.9644, Train Accuracy: 0.9550\n",
      "Valid AUROC: 0.9750, Valid AUPRC: 0.9575, Valid Accuracy: 0.9251\n",
      "Test AUROC: 0.9757, Test AUPRC: 0.7008, Test Accuracy: 0.8289\n"
     ]
    }
   ],
   "source": [
    "def calculate_metrics(dataloader, model, device):\n",
    "    model.eval()\n",
    "    all_labels = []\n",
    "    all_probs = []\n",
    "\n",
    "    with torch.no_grad():\n",
    "        for X_batch, y_batch in dataloader:\n",
    "            X_batch = X_batch.to(device)\n",
    "            y_batch = y_batch.to(device)\n",
    "\n",
    "            outputs = model(X_batch)\n",
    "\n",
    "            # outputs가 2차원인지 3차원인지 확인\n",
    "            if outputs.dim() == 3:\n",
    "                outputs = outputs[:, -1, :]  # 3차원일 경우, 마지막 시점의 예측값 사용\n",
    "            elif outputs.dim() == 2:\n",
    "                outputs = outputs  # 2차원일 경우 그대로 사용\n",
    "\n",
    "            # y_batch의 마지막 시점 값만 사용\n",
    "            y_batch = y_batch[:, -1].view(-1)\n",
    "\n",
    "            all_labels.extend(y_batch.cpu().numpy().flatten())\n",
    "            all_probs.extend(torch.sigmoid(outputs).cpu().numpy().flatten())\n",
    "\n",
    "    # AUROC, AUPRC 및 Accuracy 계산\n",
    "    try:\n",
    "        auroc = roc_auc_score(all_labels, all_probs)\n",
    "        auprc = average_precision_score(all_labels, all_probs)\n",
    "        \n",
    "        # Accuracy 계산(threshold 0.5)\n",
    "        predictions = (np.array(all_probs) >= 0.5).astype(int)\n",
    "        accuracy = accuracy_score(all_labels, predictions)\n",
    "    except ValueError as e:\n",
    "        print(f\"Error calculating metrics: {e}\")\n",
    "        auroc = auprc = accuracy = None\n",
    "\n",
    "    return auroc, auprc, accuracy\n",
    "\n",
    "\n",
    "# 모델을 device로 이동\n",
    "model.to(device)\n",
    "\n",
    "# Train, Valid, Test 데이터셋에 대한 AUROC, AUPRC 및 Accuracy 계산\n",
    "train_auroc, train_auprc, train_accuracy = calculate_metrics(train_dataloader, model, device)\n",
    "val_auroc, val_auprc, val_accuracy = calculate_metrics(val_dataloader, model, device)\n",
    "test_auroc, test_auprc, test_accuracy = calculate_metrics(test_dataloader, model, device)\n",
    "\n",
    "# 결과 출력\n",
    "print(f\"Train AUROC: {train_auroc:.4f}, Train AUPRC: {train_auprc:.4f}, Train Accuracy: {train_accuracy:.4f}\" if train_auroc is not None else \"Error calculating Train metrics.\")\n",
    "print(f\"Valid AUROC: {val_auroc:.4f}, Valid AUPRC: {val_auprc:.4f}, Valid Accuracy: {val_accuracy:.4f}\" if val_auroc is not None else \"Error calculating Valid metrics.\")\n",
    "print(f\"Test AUROC: {test_auroc:.4f}, Test AUPRC: {test_auprc:.4f}, Test Accuracy: {test_accuracy:.4f}\" if test_auroc is not None else \"Error calculating Test metrics.\")"
   ]
  },
  {
   "cell_type": "markdown",
   "metadata": {},
   "source": [
    "### - LightGBM\n",
    "model structure"
   ]
  },
  {
   "cell_type": "code",
   "execution_count": 29,
   "metadata": {},
   "outputs": [],
   "source": [
    "# 데이터 처리 함수 정의\n",
    "\n",
    "def process_data(dataloader):\n",
    "    features_list = []\n",
    "    labels_list = []\n",
    "    \n",
    "    for features, labels in dataloader:\n",
    "        features_list.append(features.view(features.size(0), -1).cpu())  # (batch_size, sequence_length * num_features)\n",
    "        labels_list.append(labels[:, -1].cpu())  # 시퀀스의 마지막 레이블만 사용\n",
    "    \n",
    "    X = np.concatenate(features_list, axis=0)\n",
    "    y = np.concatenate(labels_list, axis=0).ravel()  # Flatten to 1D array\n",
    "    \n",
    "    return X, y\n",
    "\n",
    "# data 처리\n",
    "X_train, y_train = process_data(train_dataloader)\n",
    "X_valid, y_valid = process_data(val_dataloader)\n",
    "X_test, y_test = process_data(test_dataloader)"
   ]
  },
  {
   "cell_type": "code",
   "execution_count": 30,
   "metadata": {},
   "outputs": [],
   "source": [
    "# Early stopping / Pruning callback\n",
    "\n",
    "def get_callbacks(trial):\n",
    "    early_stopping_callback = lgb.early_stopping(stopping_rounds=5, verbose=False)\n",
    "    pruning_callback = optuna.integration.LightGBMPruningCallback(trial, \"binary_logloss\")\n",
    "    return [early_stopping_callback, pruning_callback]\n",
    "\n",
    "columns_to_remove = ['charttime', 'stay_id', 'dead_in_hosp']\n",
    "base_feature_names = [col for col in train.columns.tolist() if col not in columns_to_remove]\n",
    "\n",
    "# 시퀀스 길이 설정(24)\n",
    "sequence_length = X_train.shape[1] // len(base_feature_names)\n",
    "\n",
    "# 시퀀스 각 시점에 대해 고유한 피처 이름 생성\n",
    "feature_names = []\n",
    "for t in range(sequence_length):\n",
    "    feature_names.extend([f\"{name}_t{t}\" for name in base_feature_names])\n",
    "    \n",
    "# lgb.Dataset 생성 시 feature_name 전달\n",
    "lgb_train_data = lgb.Dataset(X_train, label=y_train, feature_name=feature_names)\n",
    "lgb_valid_data = lgb.Dataset(X_valid, label=y_valid, reference=lgb_train_data, feature_name=feature_names)"
   ]
  },
  {
   "cell_type": "markdown",
   "metadata": {},
   "source": [
    "#### model training loop"
   ]
  },
  {
   "cell_type": "code",
   "execution_count": 34,
   "metadata": {},
   "outputs": [
    {
     "name": "stdout",
     "output_type": "stream",
     "text": [
      "Train Logloss: 0.1221913196767412\n",
      "Valid Logloss: 0.14940131217473426\n"
     ]
    }
   ],
   "source": [
    "def objective(trial):\n",
    "    # 하이퍼파라미터 공간 정의\n",
    "    params = {\n",
    "        'objective': 'binary',\n",
    "        'boosting_type': 'gbdt',\n",
    "        'metric': 'binary_logloss',\n",
    "        'num_leaves': trial.suggest_int('num_leaves', 20, 50),\n",
    "        'learning_rate': trial.suggest_float('learning_rate', 0.001, 0.01, log=True),\n",
    "        'feature_fraction': trial.suggest_float('feature_fraction', 0.5, 0.7),\n",
    "        'bagging_fraction': trial.suggest_float('bagging_fraction', 0.5, 0.8),\n",
    "        'bagging_freq': trial.suggest_int('bagging_freq', 5, 10),\n",
    "        'lambda_l1': trial.suggest_float('lambda_l1', 5.0, 15.0),\n",
    "        'lambda_l2': trial.suggest_float('lambda_l2', 5.0, 15.0),\n",
    "        'min_data_in_leaf': trial.suggest_int('min_data_in_leaf', 200, 400),\n",
    "        'max_depth': trial.suggest_int('max_depth', 3, 6),\n",
    "        'feature_pre_filter': False, \n",
    "        'verbose': -1\n",
    "    }\n",
    "\n",
    "    # 모델 학습\n",
    "    model = lgb.train(params, \n",
    "                      lgb_train_data, \n",
    "                      num_boost_round=1000,\n",
    "                      valid_sets=[lgb_valid_data],\n",
    "                      callbacks=get_callbacks(trial))\n",
    "\n",
    "    preds = model.predict(X_valid)\n",
    "    logloss = log_loss(y_valid, preds)\n",
    "    return logloss\n",
    "\n",
    "# Optuna Study 시작\n",
    "study = optuna.create_study(direction='minimize')\n",
    "study.optimize(objective, n_trials=100)\n",
    "\n",
    "# 최적 파라미터로 모델 재학습\n",
    "best_params = study.best_params\n",
    "best_lgb_params = {\n",
    "    'objective': 'binary',\n",
    "    'boosting_type': 'gbdt',\n",
    "    'metric': 'binary_logloss',\n",
    "    'num_leaves': best_params['num_leaves'],\n",
    "    'learning_rate': best_params['learning_rate'],\n",
    "    'feature_fraction': best_params['feature_fraction'],\n",
    "    'bagging_fraction': best_params['bagging_fraction'],\n",
    "    'bagging_freq': best_params['bagging_freq'],\n",
    "    'lambda_l1': best_params['lambda_l1'], \n",
    "    'lambda_l2': best_params['lambda_l2'], \n",
    "    'min_data_in_leaf': best_params['min_data_in_leaf'], \n",
    "    'max_depth': best_params['max_depth'], \n",
    "    'verbose': -1\n",
    "}\n",
    "\n",
    "# 최적 파라미터로 모델 학습\n",
    "best_lgb_model = lgb.train(best_lgb_params, \n",
    "                           lgb_train_data, \n",
    "                           num_boost_round=1000,\n",
    "                           valid_sets=[lgb_valid_data],\n",
    "                           callbacks=[lgb.early_stopping(stopping_rounds=5, verbose=False)])\n",
    "\n",
    "# 결과 평가 함수 정의\n",
    "def evaluate_model(model, X_train, y_train, X_valid, y_valid):\n",
    "    train_preds_proba = model.predict(X_train)\n",
    "    valid_preds_proba = model.predict(X_valid)\n",
    "    \n",
    "    train_logloss = log_loss(y_train, train_preds_proba)\n",
    "    valid_logloss = log_loss(y_valid, valid_preds_proba)\n",
    "    \n",
    "    print(\"Train Logloss:\", train_logloss)\n",
    "    print(\"Valid Logloss:\", valid_logloss)\n",
    "\n",
    "# 평가 수행\n",
    "evaluate_model(best_lgb_model, X_train, y_train, X_valid, y_valid)"
   ]
  },
  {
   "cell_type": "markdown",
   "metadata": {},
   "source": [
    "#### evaluation"
   ]
  },
  {
   "cell_type": "code",
   "execution_count": 35,
   "metadata": {},
   "outputs": [
    {
     "name": "stdout",
     "output_type": "stream",
     "text": [
      "Top 10 features by importance:\n",
      "Heart_Rate_t23: 412\n",
      "sbp_t23: 329\n",
      "WBC_t23: 303\n",
      "GCS_Motor_Response_t23: 242\n",
      "Heart_Rate_t21: 229\n",
      "Heart_Rate_t20: 202\n",
      "age_t0: 172\n",
      "Heart_Rate_t22: 161\n",
      "GCS_Eye_Opening_t23: 157\n",
      "GCS_Verbal_Response_t23: 146\n"
     ]
    },
    {
     "data": {
      "image/png": "[encoded data removed]",
      "text/plain": [
       "<Figure size 1000x800 with 1 Axes>"
      ]
     },
     "metadata": {},
     "output_type": "display_data"
    }
   ],
   "source": [
    "\n",
    "# 피처 중요도 계산\n",
    "importance = best_lgb_model.feature_importance(importance_type='split')\n",
    "feature_names = best_lgb_model.feature_name() \n",
    "\n",
    "# 피처 중요도 순으로 정렬\n",
    "sorted_idx = np.argsort(importance)[::-1]\n",
    "sorted_importance = importance[sorted_idx]\n",
    "sorted_features = [feature_names[i] for i in sorted_idx]\n",
    "\n",
    "# 상위 10개 피처 확인\n",
    "print(\"Top 10 features by importance:\")\n",
    "for i in range(10):\n",
    "    print(f\"{sorted_features[i]}: {sorted_importance[i]}\")\n",
    "\n",
    "# 피처 중요도 시각화\n",
    "plt.figure(figsize=(10, 8))\n",
    "plt.barh(sorted_features[:10], sorted_importance[:10])\n",
    "plt.xlabel(\"Feature Importance\")\n",
    "plt.ylabel(\"Feature\")\n",
    "plt.title(\"Top 10 Feature Importance\")\n",
    "plt.gca().invert_yaxis()\n",
    "plt.show()"
   ]
  },
  {
   "cell_type": "code",
   "execution_count": 36,
   "metadata": {},
   "outputs": [
    {
     "name": "stdout",
     "output_type": "stream",
     "text": [
      "Trainset AUROC: 0.9915\n",
      "Trainset AUPRC: 0.9855\n",
      "Trainset Accuracy: 0.9587\n",
      "Validset AUROC: 0.9858\n",
      "Validset AUPRC: 0.9792\n",
      "Validset Accuracy: 0.9463\n",
      "Testset AUROC: 0.9849\n",
      "Testset AUPRC: 0.8501\n",
      "Testset Accuracy: 0.8834\n"
     ]
    }
   ],
   "source": [
    "\n",
    "# Trainset AUROC, AUPRC 및 Accuracy 계산\n",
    "train_preds_proba = best_lgb_model.predict(X_train)\n",
    "train_preds = (train_preds_proba >= 0.5).astype(int)\n",
    "train_auroc = roc_auc_score(y_train, train_preds_proba)\n",
    "train_precision, train_recall, _ = precision_recall_curve(y_train, train_preds_proba)\n",
    "train_auprc = calculate_auc(train_recall, train_precision)\n",
    "train_accuracy = accuracy_score(y_train, train_preds)\n",
    "\n",
    "print(f\"Trainset AUROC: {train_auroc:.4f}\")\n",
    "print(f\"Trainset AUPRC: {train_auprc:.4f}\")\n",
    "print(f\"Trainset Accuracy: {train_accuracy:.4f}\")\n",
    "\n",
    "# Validset AUROC, AUPRC 및 Accuracy 계산\n",
    "valid_preds_proba = best_lgb_model.predict(X_valid)\n",
    "valid_preds = (valid_preds_proba >= 0.5).astype(int)\n",
    "valid_auroc = roc_auc_score(y_valid, valid_preds_proba)\n",
    "valid_precision, valid_recall, _ = precision_recall_curve(y_valid, valid_preds_proba)\n",
    "valid_auprc = calculate_auc(valid_recall, valid_precision)\n",
    "valid_accuracy = accuracy_score(y_valid, valid_preds)\n",
    "\n",
    "print(f\"Validset AUROC: {valid_auroc:.4f}\")\n",
    "print(f\"Validset AUPRC: {valid_auprc:.4f}\")\n",
    "print(f\"Validset Accuracy: {valid_accuracy:.4f}\")\n",
    "\n",
    "# Testset AUROC, AUPRC 및 Accuracy 계산\n",
    "test_preds_proba = best_lgb_model.predict(X_test)\n",
    "test_preds = (test_preds_proba >= 0.5).astype(int)\n",
    "test_auroc = roc_auc_score(y_test, test_preds_proba)\n",
    "test_precision, test_recall, _ = precision_recall_curve(y_test, test_preds_proba)\n",
    "test_auprc = calculate_auc(test_recall, test_precision)\n",
    "test_accuracy = accuracy_score(y_test, test_preds)\n",
    "\n",
    "print(f\"Testset AUROC: {test_auroc:.4f}\")\n",
    "print(f\"Testset AUPRC: {test_auprc:.4f}\")\n",
    "print(f\"Testset Accuracy: {test_accuracy:.4f}\")\n"
   ]
  },
  {
   "cell_type": "markdown",
   "metadata": {},
   "source": [
    "### ensemble evaluation"
   ]
  },
  {
   "cell_type": "code",
   "execution_count": 37,
   "metadata": {},
   "outputs": [
    {
     "name": "stdout",
     "output_type": "stream",
     "text": [
      "Ensemble Test accuracy: 0.8362\n",
      "Ensemble Test AUROC: 0.9823\n",
      "Ensemble Test AUPRC: 0.8065\n"
     ]
    }
   ],
   "source": [
    "model.eval()\n",
    "lstm_predictions = []\n",
    "\n",
    "# LSTM 예측\n",
    "with torch.no_grad():\n",
    "    for X_batch, _ in test_dataloader:\n",
    "        X_batch = X_batch.to(device)\n",
    "        outputs = model(X_batch)\n",
    "        lstm_predictions.extend(outputs.squeeze().cpu().numpy())\n",
    "\n",
    "lstm_predictions = np.array(lstm_predictions)\n",
    "lgb_predictions = best_lgb_model.predict(X_test)\n",
    "\n",
    "# Soft Voting 앙상블\n",
    "ensemble_predictions = (lstm_predictions + lgb_predictions) / 2\n",
    "\n",
    "# Threshold 적용 (0.5 이상을 1로, 0.5 미만을 0으로)\n",
    "final_predictions = (ensemble_predictions >= 0.5).astype(int)\n",
    "\n",
    "# 정확도 및 로그 손실 계산\n",
    "test_labels = np.array(y_test)  \n",
    "accuracy = accuracy_score(test_labels, final_predictions)\n",
    "logloss = log_loss(test_labels, ensemble_predictions)\n",
    "auc = roc_auc_score(test_labels, ensemble_predictions)\n",
    "auprc = average_precision_score(test_labels, ensemble_predictions)\n",
    "\n",
    "print(f\"Ensemble Test accuracy: {accuracy:.4f}\")\n",
    "print(f'Ensemble Test AUROC: {auc:.4f}')\n",
    "print(f'Ensemble Test AUPRC: {auprc:.4f}')"
   ]
  },
  {
   "cell_type": "markdown",
   "metadata": {},
   "source": [
    "## 외부 검증: eICU dataset"
   ]
  },
  {
   "cell_type": "code",
   "execution_count": 87,
   "metadata": {},
   "outputs": [],
   "source": [
    "val = pd.read_parquet('eICU_valid_dataset.parquet')\n",
    "X_val = val.drop(columns=['dead in hosp'], inplace=False)\n",
    "y_val = val['dead in hosp']"
   ]
  },
  {
   "cell_type": "code",
   "execution_count": 88,
   "metadata": {},
   "outputs": [],
   "source": [
    "X_val_scaled = scaling(X_val)"
   ]
  },
  {
   "cell_type": "code",
   "execution_count": 89,
   "metadata": {},
   "outputs": [
    {
     "data": {
      "text/plain": [
       "((643176, 35), (643176,))"
      ]
     },
     "execution_count": 89,
     "metadata": {},
     "output_type": "execute_result"
    }
   ],
   "source": [
    "X_val_scaled.shape, y_val.shape"
   ]
  },
  {
   "cell_type": "code",
   "execution_count": 90,
   "metadata": {},
   "outputs": [
    {
     "name": "stdout",
     "output_type": "stream",
     "text": [
      "Data shape: torch.Size([26799, 24, 35])\n",
      "Labels shape: torch.Size([26799, 24, 1])\n"
     ]
    }
   ],
   "source": [
    "group_ids = np.repeat(np.arange((len(X_val_scaled) // 24) // sequence_length), sequence_length)\n",
    "val_dataset = patient_dataset(X_val_scaled, y_val, sequence_length=24, num_features=num_features, device=device)\n",
    "val_sampler = PatientSampler(val_dataset, group_ids=group_ids, shuffle=False)\n",
    "grouped_sampler = GroupedBatchSampler(val_sampler, batch_size=config.batch_size, drop_last=False)\n",
    "val_dataloader = DataLoader(val_dataset, batch_sampler=grouped_sampler)"
   ]
  },
  {
   "cell_type": "code",
   "execution_count": 91,
   "metadata": {},
   "outputs": [
    {
     "name": "stdout",
     "output_type": "stream",
     "text": [
      "클래스 0의 비율: 0.9117131236240158\n",
      "클래스 1의 비율: 0.08828687637598417\n"
     ]
    }
   ],
   "source": [
    "def class_ratio(df):\n",
    "    # 클래스별 개수 계산\n",
    "    class_counts = df.value_counts()\n",
    "\n",
    "    # 전체 데이터 개수\n",
    "    total_count = len(df)\n",
    "\n",
    "    # 클래스별 비율 계산\n",
    "    class_ratios = class_counts / total_count\n",
    "\n",
    "    print(\"클래스 0의 비율:\", class_ratios[0])\n",
    "    print(\"클래스 1의 비율:\", class_ratios[1])\n",
    "\n",
    "class_ratio(y_val)"
   ]
  },
  {
   "cell_type": "markdown",
   "metadata": {},
   "source": [
    "### LSTM"
   ]
  },
  {
   "cell_type": "code",
   "execution_count": 92,
   "metadata": {},
   "outputs": [
    {
     "name": "stdout",
     "output_type": "stream",
     "text": [
      "Valid AUROC: 0.4589, Valid AUPRC: 0.0771, Valid Accuracy: 0.6627\n"
     ]
    }
   ],
   "source": [
    "# 최적 가중치로 validation set을 검증\n",
    "\n",
    "def calculate_metrics(dataloader, model, device):\n",
    "    model.eval()\n",
    "    all_labels = []\n",
    "    all_probs = []\n",
    "\n",
    "    with torch.no_grad():\n",
    "        for X_batch, y_batch in dataloader:\n",
    "            X_batch = X_batch.to(device)\n",
    "            y_batch = y_batch.to(device)\n",
    "\n",
    "            outputs = model(X_batch)\n",
    "\n",
    "            # outputs가 2차원인지 3차원인지 확인\n",
    "            if outputs.dim() == 3:\n",
    "                outputs = outputs[:, -1, :]  # 3차원일 경우, 마지막 시점의 예측값 사용\n",
    "            elif outputs.dim() == 2:\n",
    "                outputs = outputs  # 2차원일 경우 그대로 사용\n",
    "\n",
    "            # y_batch의 마지막 시점 값만 사용\n",
    "            y_batch = y_batch[:, -1].view(-1)\n",
    "\n",
    "            all_labels.extend(y_batch.cpu().numpy().flatten())\n",
    "            all_probs.extend(torch.sigmoid(outputs).cpu().numpy().flatten())\n",
    "\n",
    "    # all_labels와 all_probs의 길이 일치 여부 확인\n",
    "    if len(all_labels) != len(all_probs):\n",
    "        print(f\"Error: Inconsistent number of samples. Labels: {len(all_labels)}, Predictions: {len(all_probs)}\")\n",
    "        return None, None, None\n",
    "\n",
    "    # AUROC, AUPRC 및 Accuracy 계산\n",
    "    try:\n",
    "        auroc = roc_auc_score(all_labels, all_probs)\n",
    "        auprc = average_precision_score(all_labels, all_probs)\n",
    "        # Accuracy 계산: 임계값 0.5로 이진화\n",
    "        predictions = (np.array(all_probs) >= 0.5).astype(int)\n",
    "        accuracy = accuracy_score(all_labels, predictions)\n",
    "    except ValueError as e:\n",
    "        print(f\"Error calculating metrics: {e}\")\n",
    "        auroc = auprc = accuracy = None\n",
    "\n",
    "    return auroc, auprc, accuracy\n",
    "\n",
    "# 모델을 로드하고 device로 이동\n",
    "model_path = 'best_model.pth'\n",
    "model.load_state_dict(torch.load(model_path, map_location=device))\n",
    "model.to(device)\n",
    "\n",
    "# Valid 데이터셋에 대한 AUROC, AUPRC 및 Accuracy 계산\n",
    "\n",
    "val_auroc, val_auprc, val_accuracy = calculate_metrics(val_dataloader, model, device)\n",
    "# 결과 출력\n",
    "if val_auroc is not None:\n",
    "    print(f\"Valid AUROC: {val_auroc:.4f}, Valid AUPRC: {val_auprc:.4f}, Valid Accuracy: {val_accuracy:.4f}\")\n",
    "else:\n",
    "    print(\"Error calculating Valid metrics.\")"
   ]
  },
  {
   "cell_type": "markdown",
   "metadata": {},
   "source": [
    "### LightGBM"
   ]
  },
  {
   "cell_type": "code",
   "execution_count": 93,
   "metadata": {},
   "outputs": [
    {
     "name": "stdout",
     "output_type": "stream",
     "text": [
      "Validset AUROC: 0.4023\n",
      "Validset AUPRC: 0.0722\n",
      "Validset Accuracy: 0.7292\n"
     ]
    }
   ],
   "source": [
    "# data 처리\n",
    "X_valid, y_valid = process_data(val_dataloader)\n",
    "\n",
    "# Validset AUROC, AUPRC 및 Accuracy 계산\n",
    "valid_preds_proba = best_lgb_model.predict(X_valid)\n",
    "valid_preds = (valid_preds_proba >= 0.5).astype(int)\n",
    "valid_auroc = roc_auc_score(y_valid, valid_preds_proba)\n",
    "valid_precision, valid_recall, _ = precision_recall_curve(y_valid, valid_preds_proba)\n",
    "valid_auprc = calculate_auc(valid_recall, valid_precision)\n",
    "valid_accuracy = accuracy_score(y_valid, valid_preds)\n",
    "\n",
    "print(f\"Validset AUROC: {valid_auroc:.4f}\")\n",
    "print(f\"Validset AUPRC: {valid_auprc:.4f}\")\n",
    "print(f\"Validset Accuracy: {valid_accuracy:.4f}\")"
   ]
  },
  {
   "cell_type": "markdown",
   "metadata": {},
   "source": [
    "### Ensemble"
   ]
  },
  {
   "cell_type": "code",
   "execution_count": 94,
   "metadata": {},
   "outputs": [
    {
     "name": "stdout",
     "output_type": "stream",
     "text": [
      "Ensemble Test Accuracy: 0.6718\n",
      "Ensemble Test AUROC: 0.4578\n",
      "Ensemble Test AUPRC: 0.0770\n"
     ]
    }
   ],
   "source": [
    "model.eval()\n",
    "lstm_predictions = []\n",
    "\n",
    "# LSTM 예측\n",
    "with torch.no_grad():\n",
    "    for X_batch, _ in val_dataloader:\n",
    "        X_batch = X_batch.to(device)\n",
    "        outputs = model(X_batch)\n",
    "        lstm_predictions.extend(outputs.squeeze().cpu().numpy())\n",
    "\n",
    "lstm_predictions = np.array(lstm_predictions)\n",
    "lgb_predictions = best_lgb_model.predict(X_valid)\n",
    "\n",
    "# Soft Voting 앙상블\n",
    "ensemble_predictions = (lstm_predictions + lgb_predictions) / 2\n",
    "\n",
    "# Threshold 적용 (0.5 이상을 1로, 0.5 미만을 0으로)\n",
    "final_predictions = (ensemble_predictions >= 0.5).astype(int)\n",
    "\n",
    "# 정확도 및 로그 손실 계산\n",
    "valid_labels = np.array(y_valid)  \n",
    "accuracy = accuracy_score(valid_labels, final_predictions)\n",
    "logloss = log_loss(valid_labels, ensemble_predictions)\n",
    "auc = roc_auc_score(valid_labels, ensemble_predictions)\n",
    "auprc = average_precision_score(valid_labels, ensemble_predictions)\n",
    "\n",
    "print(f\"Ensemble Test Accuracy: {accuracy:.4f}\")\n",
    "print(f'Ensemble Test AUROC: {auc:.4f}')\n",
    "print(f'Ensemble Test AUPRC: {auprc:.4f}')"
   ]
  }
 ],
 "metadata": {
  "kernelspec": {
   "display_name": "predict",
   "language": "python",
   "name": "python3"
  },
  "language_info": {
   "codemirror_mode": {
    "name": "ipython",
    "version": 3
   },
   "file_extension": ".py",
   "mimetype": "text/x-python",
   "name": "python",
   "nbconvert_exporter": "python",
   "pygments_lexer": "ipython3",
   "version": "3.8.18"
  }
 },
 "nbformat": 4,
 "nbformat_minor": 2
}
