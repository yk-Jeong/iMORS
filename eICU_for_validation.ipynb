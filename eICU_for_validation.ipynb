{
 "cells": [
  {
   "cell_type": "code",
   "execution_count": 1,
   "metadata": {},
   "outputs": [
    {
     "data": {
      "text/plain": [
       "'\\n# visualization\\nimport matplotlib.pyplot as plt\\nimport seaborn as sns\\nimport shap \\n\\n# dataset\\nfrom sklearn.model_selection import train_test_split\\nfrom torch.utils.data import Dataset, DataLoader, Sampler, BatchSampler, SequentialSampler\\nfrom torch.cuda.amp import GradScaler, autocast\\n\\n# model \\nimport torch\\nimport torch.nn as nn\\nimport torch.nn.functional as F\\nimport torch.optim as optim\\nimport lightgbm as lgb\\nimport optuna\\noptuna.logging.set_verbosity(optuna.logging.ERROR)\\n\\n# wandb\\nimport wandb\\n\\n# evaluation\\nfrom sklearn.metrics import log_loss, roc_auc_score, roc_curve, average_precision_score, accuracy_score, precision_recall_curve\\nfrom sklearn.metrics import roc_auc_score, precision_recall_curve, auc as calculate_auc  \\nfrom sklearn.model_selection import StratifiedKFold'"
      ]
     },
     "execution_count": 1,
     "metadata": {},
     "output_type": "execute_result"
    }
   ],
   "source": [
    "\n",
    "import psycopg2\n",
    "import pandas as pd\n",
    "import numpy as np\n",
    "import os\n",
    "import re\n",
    "from datetime import datetime, timedelta, time\n",
    "\n",
    "# scaling \n",
    "from sklearn.preprocessing import StandardScaler"
   ]
  },
  {
   "cell_type": "code",
   "execution_count": 2,
   "metadata": {},
   "outputs": [],
   "source": [
    "# PostgreSQL 서버 연결 정보\n",
    "\n",
    "host = '192.168.0.76'  # 호스트 주소\n",
    "database = 'eicu'  # 데이터베이스 이름\n",
    "user = 'ykjeong'  # 사용자 이름\n",
    "password = 'mdhi1234!'  # 비밀번호\n",
    "\n",
    "# PostgreSQL 서버에 연결\n",
    "conn = psycopg2.connect(\n",
    "    dbname=database,\n",
    "    user=user,\n",
    "    password=password,\n",
    "    host=host\n",
    ")"
   ]
  },
  {
   "cell_type": "markdown",
   "metadata": {},
   "source": [
    "## 데이터 추출"
   ]
  },
  {
   "cell_type": "markdown",
   "metadata": {},
   "source": [
    "### patients"
   ]
  },
  {
   "cell_type": "code",
   "execution_count": 3,
   "metadata": {},
   "outputs": [
    {
     "name": "stderr",
     "output_type": "stream",
     "text": [
      "/tmp/ipykernel_1346879/4216977163.py:18: UserWarning: pandas only supports SQLAlchemy connectable (engine/connection) or database string URI or sqlite3 DBAPI2 connection. Other DBAPI2 objects are not tested. Please consider using SQLAlchemy.\n",
      "  patients = pd.read_sql_query(query, conn)\n"
     ]
    },
    {
     "data": {
      "text/html": [
       "<div>\n",
       "<style scoped>\n",
       "    .dataframe tbody tr th:only-of-type {\n",
       "        vertical-align: middle;\n",
       "    }\n",
       "\n",
       "    .dataframe tbody tr th {\n",
       "        vertical-align: top;\n",
       "    }\n",
       "\n",
       "    .dataframe thead th {\n",
       "        text-align: right;\n",
       "    }\n",
       "</style>\n",
       "<table border=\"1\" class=\"dataframe\">\n",
       "  <thead>\n",
       "    <tr style=\"text-align: right;\">\n",
       "      <th></th>\n",
       "      <th>stay_id</th>\n",
       "      <th>gender</th>\n",
       "      <th>age</th>\n",
       "      <th>race</th>\n",
       "      <th>cu_type</th>\n",
       "      <th>intime</th>\n",
       "      <th>los</th>\n",
       "      <th>death_or_dischtime</th>\n",
       "      <th>dead_in_hosp</th>\n",
       "    </tr>\n",
       "  </thead>\n",
       "  <tbody>\n",
       "    <tr>\n",
       "      <th>0</th>\n",
       "      <td>3181453</td>\n",
       "      <td>Male</td>\n",
       "      <td>25</td>\n",
       "      <td>Caucasian</td>\n",
       "      <td>CCU-CTICU</td>\n",
       "      <td>00:07:00</td>\n",
       "      <td>70</td>\n",
       "      <td>22:11:00</td>\n",
       "      <td>Alive</td>\n",
       "    </tr>\n",
       "    <tr>\n",
       "      <th>1</th>\n",
       "      <td>3181471</td>\n",
       "      <td>Male</td>\n",
       "      <td>53</td>\n",
       "      <td>Caucasian</td>\n",
       "      <td>SICU</td>\n",
       "      <td>23:09:00</td>\n",
       "      <td>66</td>\n",
       "      <td>17:17:00</td>\n",
       "      <td>Alive</td>\n",
       "    </tr>\n",
       "    <tr>\n",
       "      <th>2</th>\n",
       "      <td>3181495</td>\n",
       "      <td>Male</td>\n",
       "      <td>59</td>\n",
       "      <td>African American</td>\n",
       "      <td>Neuro ICU</td>\n",
       "      <td>09:23:00</td>\n",
       "      <td>109</td>\n",
       "      <td>22:50:00</td>\n",
       "      <td>Alive</td>\n",
       "    </tr>\n",
       "    <tr>\n",
       "      <th>3</th>\n",
       "      <td>3181506</td>\n",
       "      <td>Male</td>\n",
       "      <td>19</td>\n",
       "      <td>Caucasian</td>\n",
       "      <td>SICU</td>\n",
       "      <td>13:27:00</td>\n",
       "      <td>81</td>\n",
       "      <td>23:02:00</td>\n",
       "      <td>Alive</td>\n",
       "    </tr>\n",
       "    <tr>\n",
       "      <th>4</th>\n",
       "      <td>3181524</td>\n",
       "      <td>Male</td>\n",
       "      <td>&gt; 89</td>\n",
       "      <td>Caucasian</td>\n",
       "      <td>Neuro ICU</td>\n",
       "      <td>10:08:00</td>\n",
       "      <td>326</td>\n",
       "      <td>00:47:00</td>\n",
       "      <td>Expired</td>\n",
       "    </tr>\n",
       "  </tbody>\n",
       "</table>\n",
       "</div>"
      ],
      "text/plain": [
       "   stay_id gender   age              race    cu_type    intime  los  \\\n",
       "0  3181453   Male    25         Caucasian  CCU-CTICU  00:07:00   70   \n",
       "1  3181471   Male    53         Caucasian       SICU  23:09:00   66   \n",
       "2  3181495   Male    59  African American  Neuro ICU  09:23:00  109   \n",
       "3  3181506   Male    19         Caucasian       SICU  13:27:00   81   \n",
       "4  3181524   Male  > 89         Caucasian  Neuro ICU  10:08:00  326   \n",
       "\n",
       "  death_or_dischtime dead_in_hosp  \n",
       "0           22:11:00        Alive  \n",
       "1           17:17:00        Alive  \n",
       "2           22:50:00        Alive  \n",
       "3           23:02:00        Alive  \n",
       "4           00:47:00      Expired  "
      ]
     },
     "execution_count": 3,
     "metadata": {},
     "output_type": "execute_result"
    }
   ],
   "source": [
    "query = '''\n",
    "SELECT\n",
    "    patientunitstayid AS stay_id,\n",
    "    gender,\n",
    "    age,\n",
    "    ethnicity AS race,\n",
    "    unitType AS CU_type,\n",
    "    unitAdmitTime24 AS intime, \n",
    "    unitdischargeoffset / 60 AS los, \n",
    "    unitDischargeTime24 AS death_or_dischtime,\n",
    "    unitDischargeStatus AS dead_in_hosp\n",
    "FROM\n",
    "    eicu.patient\n",
    "WHERE -- 1일 이상 60일 미만 입원한 19세 이상의 환자\n",
    "    unitDischargeOffset / 1440.0 >= 1 \n",
    "    AND unitDischargeOffset / 1440.0 < 60;\n",
    "'''\n",
    "patients = pd.read_sql_query(query, conn)\n",
    "patients.head()"
   ]
  },
  {
   "cell_type": "code",
   "execution_count": 4,
   "metadata": {},
   "outputs": [],
   "source": [
    "patients.rename(columns={\n",
    "    'cu_type':'CU type', \n",
    "    'dead_in_hosp':'dead in hosp',\n",
    "    'death_or_dischtime':'death or dischtime'\n",
    "}, inplace=True)"
   ]
  },
  {
   "cell_type": "code",
   "execution_count": 5,
   "metadata": {},
   "outputs": [],
   "source": [
    "# 'age' 컬럼 핸들링 \n",
    "# '> 89'를 91로 처리\n",
    "patients.loc[patients['age'] == '> 89', 'age'] = 91\n",
    "\n",
    "# 결측치를 평균으로 대체\n",
    "patients['age'] = pd.to_numeric(patients['age'], errors='coerce')\n",
    "patients['age'] = patients['age'].fillna(patients['age'].mean())\n",
    "patients['age'] = patients['age'].astype(int)\n",
    "\n",
    "# 18세 이상만 추출 \n",
    "patients = patients[patients['age'] > 18]"
   ]
  },
  {
   "cell_type": "code",
   "execution_count": 6,
   "metadata": {},
   "outputs": [
    {
     "data": {
      "text/plain": [
       "array(['other', 'SICU', 'Neuro ICU', 'MICU', 'CCU'], dtype=object)"
      ]
     },
     "execution_count": 6,
     "metadata": {},
     "output_type": "execute_result"
    }
   ],
   "source": [
    "def categorize_careunit(careunit):\n",
    "    if 'MICU' in careunit or'Med-Surg ICU' in careunit:\n",
    "        return 'MICU'\n",
    "    elif 'SICU' in careunit:\n",
    "        return 'SICU'\n",
    "    elif 'Neuro ICU' in careunit:\n",
    "        return 'Neuro ICU'\n",
    "    elif 'Cardiac ICU' in careunit or 'CSICU' in careunit:\n",
    "        return 'CCU'\n",
    "    elif 'CVICU' in careunit:\n",
    "        return 'CVICU'\n",
    "    else:\n",
    "        return 'other'\n",
    "\n",
    "patients['CU type'] = patients['CU type'].apply(categorize_careunit)\n",
    "patients['CU type'].unique()"
   ]
  },
  {
   "cell_type": "code",
   "execution_count": 7,
   "metadata": {},
   "outputs": [
    {
     "data": {
      "text/plain": [
       "array(['white', 'black', 'hispanic/latino', 'other'], dtype=object)"
      ]
     },
     "execution_count": 7,
     "metadata": {},
     "output_type": "execute_result"
    }
   ],
   "source": [
    "# 인종 분류 및 결측치 수정 \n",
    "\n",
    "def categorize_race(race):\n",
    "    if 'Caucasian' in race:\n",
    "        return 'white'\n",
    "    elif 'African American' in race:\n",
    "        return 'black'\n",
    "    elif 'Hispanic' in race:\n",
    "        return 'hispanic/latino'\n",
    "    elif 'ASIAN' in race:\n",
    "        return 'asian'\n",
    "    else:\n",
    "        return 'other'\n",
    "\n",
    "patients['race'] = patients['race'].apply(categorize_race)\n",
    "patients['race'].unique()"
   ]
  },
  {
   "cell_type": "code",
   "execution_count": 8,
   "metadata": {},
   "outputs": [
    {
     "data": {
      "text/plain": [
       "dead in hosp\n",
       "0    0.947866\n",
       "1    0.052134\n",
       "Name: proportion, dtype: float64"
      ]
     },
     "execution_count": 8,
     "metadata": {},
     "output_type": "execute_result"
    }
   ],
   "source": [
    "# dead in hosp 컬럼의 값을 변경하고 비율 확인\n",
    "\n",
    "patients.loc[:, 'dead in hosp'] = patients['dead in hosp'].map(lambda x: 1 if x == 'Expired' else 0)\n",
    "patients['dead in hosp'].value_counts(normalize=True)"
   ]
  },
  {
   "cell_type": "code",
   "execution_count": 344,
   "metadata": {},
   "outputs": [
    {
     "data": {
      "text/plain": [
       "dead in hosp\n",
       "0    0.784312\n",
       "1    0.215688\n",
       "Name: proportion, dtype: float64"
      ]
     },
     "execution_count": 344,
     "metadata": {},
     "output_type": "execute_result"
    }
   ],
   "source": [
    "# stay_id 분리\n",
    "\n",
    "patients_pos_samp = patients[patients['dead in hosp'] == 1]\n",
    "\n",
    "# 'dead in hosp'가 0인 행들에서 50%만 랜덤으로 추출\n",
    "patients_neg_samp = patients[patients['dead in hosp'] == 0].sample(frac=0.2, random_state=42)\n",
    "\n",
    "patients = pd.concat([patients_neg_samp, patients_pos_samp])\n",
    "patients['dead in hosp'].value_counts(normalize=True)"
   ]
  },
  {
   "cell_type": "code",
   "execution_count": 9,
   "metadata": {},
   "outputs": [],
   "source": [
    "patients.to_parquet('eICU_patients.parquet')"
   ]
  },
  {
   "cell_type": "markdown",
   "metadata": {},
   "source": [
    "### lab"
   ]
  },
  {
   "cell_type": "code",
   "execution_count": 10,
   "metadata": {},
   "outputs": [
    {
     "name": "stderr",
     "output_type": "stream",
     "text": [
      "/tmp/ipykernel_1346879/2683277839.py:41: UserWarning: pandas only supports SQLAlchemy connectable (engine/connection) or database string URI or sqlite3 DBAPI2 connection. Other DBAPI2 objects are not tested. Please consider using SQLAlchemy.\n",
      "  lab = pd.read_sql_query(query, conn)\n"
     ]
    }
   ],
   "source": [
    "query = '''\n",
    "SELECT \n",
    "    lab.patientunitstayid AS stay_id,\n",
    "    lab.labname AS label,\n",
    "    lab.labresulttext AS value,\n",
    "    lab.labTypeID AS labtype, \n",
    "    lab.labmeasurenamesystem AS valueoum, \n",
    "    lab.labresultoffset / 60 AS time\n",
    "FROM\n",
    "    eicu.lab lab\n",
    "WHERE(\n",
    "        lab.labname LIKE '%AST%' OR\n",
    "        lab.labname LIKE '%ALT%' OR\n",
    "        lab.labname LIKE '%albumin%' OR\n",
    "        lab.labname LIKE '%bilirubin%' OR\n",
    "        lab.labname LIKE '%BUN%' OR\n",
    "        lab.labname LIKE '%chloride%' OR\n",
    "        lab.labname LIKE '%CRP%' OR\n",
    "        lab.labname LIKE '%glucose%' OR\n",
    "        lab.labname LIKE '%Hgb%' OR\n",
    "        lab.labname LIKE '%respiratory%' OR\n",
    "        lab.labname LIKE '%platelet%' OR\n",
    "        lab.labname LIKE '%potassium%' OR\n",
    "        lab.labname LIKE '%Temperature%' OR\n",
    "        lab.labname LIKE '%urinary sodium%' OR\n",
    "        lab.labname LIKE '%urinary creatinine%' OR\n",
    "        lab.labname LIKE '%WBC x 1000%' OR\n",
    "        lab.labname LIKE '%PT%' AND \n",
    "        lab.labmeasurenamesystem LIKE '%sec%' \n",
    "    )\n",
    "    AND lab.patientunitstayid IN (\n",
    "        SELECT\n",
    "            patient.patientunitstayid\n",
    "        FROM\n",
    "            eicu.patient patient\n",
    "        WHERE\n",
    "            patient.unitDischargeOffset / 1440.0 >= 1 \n",
    "            AND patient.unitDischargeOffset / 1440.0 < 60\n",
    "    );\n",
    "'''\n",
    "lab = pd.read_sql_query(query, conn)\n",
    "lab = lab[lab['stay_id'].isin(patients['stay_id'])]"
   ]
  },
  {
   "cell_type": "code",
   "execution_count": 11,
   "metadata": {},
   "outputs": [],
   "source": [
    "# lab['label']의 값이 'glucose - CSF', 'prealbumin', 'direct bilirubin', 'CRP-hs'인 행 삭제 \n",
    "\n",
    "values_to_remove = ['glucose - CSF', 'prealbumin', 'direct bilirubin', 'CRP-hs', 'PTT']\n",
    "lab = lab[~lab['label'].isin(values_to_remove)]"
   ]
  },
  {
   "cell_type": "code",
   "execution_count": 12,
   "metadata": {},
   "outputs": [],
   "source": [
    "lab['label'] = lab['label'].replace({\n",
    "    r' \\(SGPT\\)': '',\n",
    "    r' \\(SGOT\\)': '',\n",
    "    r'urinary ': '',\n",
    "    r' x 1000': '',\n",
    "    r'bedside ': '',\n",
    "    r'total ': ''\n",
    "}, regex=True)"
   ]
  },
  {
   "cell_type": "code",
   "execution_count": 13,
   "metadata": {},
   "outputs": [],
   "source": [
    "# value 열의 모든 특수문자를 제거하고 수치형으로 변환\n",
    "\n",
    "lab['value'] = lab['value'].str.replace(r'[^\\w\\s]', '', regex=True)\n",
    "lab['value'] = pd.to_numeric(lab['value'], errors='coerce')"
   ]
  },
  {
   "cell_type": "code",
   "execution_count": 14,
   "metadata": {},
   "outputs": [
    {
     "data": {
      "text/html": [
       "<div>\n",
       "<style scoped>\n",
       "    .dataframe tbody tr th:only-of-type {\n",
       "        vertical-align: middle;\n",
       "    }\n",
       "\n",
       "    .dataframe tbody tr th {\n",
       "        vertical-align: top;\n",
       "    }\n",
       "\n",
       "    .dataframe thead th {\n",
       "        text-align: right;\n",
       "    }\n",
       "</style>\n",
       "<table border=\"1\" class=\"dataframe\">\n",
       "  <thead>\n",
       "    <tr style=\"text-align: right;\">\n",
       "      <th></th>\n",
       "      <th>stay_id</th>\n",
       "      <th>label</th>\n",
       "      <th>value</th>\n",
       "      <th>labtype</th>\n",
       "      <th>valueoum</th>\n",
       "      <th>time</th>\n",
       "    </tr>\n",
       "  </thead>\n",
       "  <tbody>\n",
       "    <tr>\n",
       "      <th>0</th>\n",
       "      <td>3181453</td>\n",
       "      <td>glucose</td>\n",
       "      <td>130.0</td>\n",
       "      <td>1.0</td>\n",
       "      <td>mg/dL</td>\n",
       "      <td>106</td>\n",
       "    </tr>\n",
       "    <tr>\n",
       "      <th>1</th>\n",
       "      <td>3181453</td>\n",
       "      <td>PT</td>\n",
       "      <td>NaN</td>\n",
       "      <td>3.0</td>\n",
       "      <td>sec</td>\n",
       "      <td>2</td>\n",
       "    </tr>\n",
       "    <tr>\n",
       "      <th>3</th>\n",
       "      <td>3181453</td>\n",
       "      <td>AST</td>\n",
       "      <td>27.0</td>\n",
       "      <td>1.0</td>\n",
       "      <td>Units/L</td>\n",
       "      <td>106</td>\n",
       "    </tr>\n",
       "    <tr>\n",
       "      <th>4</th>\n",
       "      <td>3181453</td>\n",
       "      <td>chloride</td>\n",
       "      <td>99.0</td>\n",
       "      <td>1.0</td>\n",
       "      <td>mmol/L</td>\n",
       "      <td>33</td>\n",
       "    </tr>\n",
       "    <tr>\n",
       "      <th>6</th>\n",
       "      <td>3181453</td>\n",
       "      <td>ALT</td>\n",
       "      <td>11.0</td>\n",
       "      <td>1.0</td>\n",
       "      <td>Units/L</td>\n",
       "      <td>2</td>\n",
       "    </tr>\n",
       "  </tbody>\n",
       "</table>\n",
       "</div>"
      ],
      "text/plain": [
       "   stay_id     label  value  labtype valueoum  time\n",
       "0  3181453   glucose  130.0      1.0    mg/dL   106\n",
       "1  3181453        PT    NaN      3.0      sec     2\n",
       "3  3181453       AST   27.0      1.0  Units/L   106\n",
       "4  3181453  chloride   99.0      1.0   mmol/L    33\n",
       "6  3181453       ALT   11.0      1.0  Units/L     2"
      ]
     },
     "execution_count": 14,
     "metadata": {},
     "output_type": "execute_result"
    }
   ],
   "source": [
    "# vital sign 이상치 조정 \n",
    "\n",
    "ranges = {           \n",
    "    'ALT':(0, 5000), \n",
    "    'AST':(0, 10000), \n",
    "    'albumin':(0, 5.5), \n",
    "    'BUN':(0, 150), \n",
    "    'bilirubin':(0, 50),\n",
    "    'CRP':(0, 300), \n",
    "    'chloride':(70, 135),\n",
    "    'creatinine':(0, 15),\n",
    "    'glucose':(0, 600),\n",
    "    'Hgb':(0, 25),\n",
    "    'Temperature': (32, 41), \n",
    "    'potassium':(2, 9),\n",
    "    'sodium':(105, 170),\n",
    "    'platelets':(0, 1000),\n",
    "    'PT':(0, 8), \n",
    "    'WBC':(0, 90)}\n",
    "\n",
    "# 범위를 벗어난 값들을 NaN으로 대체\n",
    "def replace_out_of_range_with_nan(row):\n",
    "    label = row['label']\n",
    "    value = row['value']\n",
    "    \n",
    "    if label in ranges:\n",
    "        lower, upper = ranges[label]\n",
    "        \n",
    "        # 값이 범위를 벗어나면 NaN으로 대체\n",
    "        if value < lower or value > upper:\n",
    "            return np.nan\n",
    "    return value\n",
    "\n",
    "lab['value'] = lab.apply(replace_out_of_range_with_nan, axis=1)\n",
    "\n",
    "# NaN 값을 각 label에 대한 평균값으로 대체\n",
    "lab['value'] = lab.groupby('label')['value'].transform(lambda x: x.fillna(x.mean()))\n",
    "lab.head()"
   ]
  },
  {
   "cell_type": "code",
   "execution_count": 15,
   "metadata": {},
   "outputs": [],
   "source": [
    "lab.to_parquet('eICU_lab.parquet')"
   ]
  },
  {
   "cell_type": "markdown",
   "metadata": {},
   "source": [
    "### Vital aperiodic: sbp, dbp"
   ]
  },
  {
   "cell_type": "code",
   "execution_count": 16,
   "metadata": {},
   "outputs": [
    {
     "name": "stderr",
     "output_type": "stream",
     "text": [
      "/tmp/ipykernel_1346879/1725982474.py:20: UserWarning: pandas only supports SQLAlchemy connectable (engine/connection) or database string URI or sqlite3 DBAPI2 connection. Other DBAPI2 objects are not tested. Please consider using SQLAlchemy.\n",
      "  vitalaPeriodic = pd.read_sql_query(query, conn)\n"
     ]
    }
   ],
   "source": [
    "query = '''\n",
    "SELECT\n",
    "    vitala.patientunitstayid AS stay_id,\n",
    "    vitala.observationoffset / 60 AS time, \n",
    "    vitala.noninvasivesystolic AS sbp,\n",
    "    vitala.noninvasivediastolic AS dbp\n",
    "FROM\n",
    "    eicu.vitalaPeriodic vitala\n",
    "WHERE\n",
    "    vitala.patientUnitStayID IN (\n",
    "        SELECT\n",
    "            patient.patientunitstayid\n",
    "        FROM\n",
    "            eicu.patient patient\n",
    "        WHERE\n",
    "            patient.unitDischargeOffset / 1440.0 >= 1 \n",
    "            AND patient.unitDischargeOffset / 1440.0 < 60\n",
    "    );\n",
    "'''\n",
    "vitalaPeriodic = pd.read_sql_query(query, conn)\n",
    "vitalaPeriodic = vitalaPeriodic[vitalaPeriodic['stay_id'].isin(patients['stay_id'])]"
   ]
  },
  {
   "cell_type": "code",
   "execution_count": 17,
   "metadata": {},
   "outputs": [],
   "source": [
    "vitalap = pd.melt(vitalaPeriodic, id_vars=['stay_id', 'time'], value_vars=['sbp', 'dbp'],\n",
    "                    var_name='label', value_name='value')\n",
    "vitalap = vitalap[['stay_id', 'label', 'value', 'time']]"
   ]
  },
  {
   "cell_type": "code",
   "execution_count": 18,
   "metadata": {},
   "outputs": [],
   "source": [
    "# vital sign 이상치 조정 \n",
    "\n",
    "# 기준 설정\n",
    "ranges = {\n",
    "    'sbp': (40, 230),\n",
    "    'dbp': (20, 130)\n",
    "}\n",
    "\n",
    "\n",
    "# 범위를 벗어난 값들을 NaN으로 대체\n",
    "def replace_out_of_range_with_nan(row):\n",
    "    label = row['label']\n",
    "    value = row['value']\n",
    "    \n",
    "    if label in ranges:\n",
    "        lower, upper = ranges[label]\n",
    "        \n",
    "        # 값이 범위를 벗어나면 NaN으로 대체\n",
    "        if value < lower or value > upper:\n",
    "            return np.nan\n",
    "    return value\n",
    "\n",
    "vitalap['value'] = vitalap.apply(replace_out_of_range_with_nan, axis=1)\n",
    "vitalap['value'] = vitalap.groupby('label')['value'].transform(lambda x: x.fillna(x.mean()))"
   ]
  },
  {
   "cell_type": "code",
   "execution_count": 19,
   "metadata": {},
   "outputs": [],
   "source": [
    "vitalap.to_parquet('eICU_vitalap.parquet')"
   ]
  },
  {
   "cell_type": "markdown",
   "metadata": {},
   "source": [
    "### Nurse charting : Respiratory Rate, Heart rate, sbp, dbp, temperature, SpO2"
   ]
  },
  {
   "cell_type": "code",
   "execution_count": 4,
   "metadata": {},
   "outputs": [
    {
     "name": "stderr",
     "output_type": "stream",
     "text": [
      "/tmp/ipykernel_1368314/2897185212.py:26: UserWarning: pandas only supports SQLAlchemy connectable (engine/connection) or database string URI or sqlite3 DBAPI2 connection. Other DBAPI2 objects are not tested. Please consider using SQLAlchemy.\n",
      "  chart = pd.read_sql_query(query, conn)\n"
     ]
    }
   ],
   "source": [
    "query = '''\n",
    "SELECT \n",
    "    chart.patientunitstayid AS stay_id,\n",
    "    chart.nursingChartCellTypeValName AS label,\n",
    "    chart.nursingChartValue AS value,\n",
    "    chart.nursingChartEntryOffset / 60 AS time\n",
    "FROM\n",
    "    eicu.nurseCharting chart\n",
    "WHERE (\n",
    "        chart.nursingChartCellTypeValName LIKE '%Heart Rate%' OR\n",
    "        chart.nursingChartCellTypeValName LIKE '%Respiratory Rate%' OR\n",
    "        chart.nursingChartCellTypeValName LIKE '%Non-Invasive BP Diastolic%' OR\n",
    "        chart.nursingChartCellTypeVallabel LIKE '%Temperature (%' OR\n",
    "        chart.nursingChartCellTypeValName LIKE '%Saturation%' \n",
    "    )\n",
    "    AND chart.patientunitstayid IN (\n",
    "        SELECT\n",
    "            patient.patientunitstayid\n",
    "        FROM\n",
    "            eicu.patient patient\n",
    "        WHERE\n",
    "            patient.unitDischargeOffset / 1440.0 >= 1 \n",
    "            AND patient.unitDischargeOffset / 1440.0 < 60\n",
    "    );\n",
    "'''\n",
    "chart = pd.read_sql_query(query, conn)\n",
    "chart = chart[chart['stay_id'].isin(patients['stay_id'])]"
   ]
  },
  {
   "cell_type": "code",
   "execution_count": 5,
   "metadata": {},
   "outputs": [],
   "source": [
    "chart['label'] = chart['label'].replace({'Non-Invasive BP Systolic':'sbp',\n",
    "                                           'Non-Invasive BP Diastolic':'dbp',\n",
    "                                           'O2 Saturation':'SpO2'})"
   ]
  },
  {
   "cell_type": "code",
   "execution_count": 6,
   "metadata": {},
   "outputs": [],
   "source": [
    "# 화씨 온도를 섭씨 온도로 변환\n",
    "fahrenheit_mask = chart['label'] == 'Temperature (F)'\n",
    "celcius_mask = chart['label'] == 'Temperature (C)'\n",
    "chart.loc[fahrenheit_mask, 'value'] = (chart.loc[fahrenheit_mask, 'value'] - 32) * 5.0 / 9.0\n",
    "\n",
    "# label 수정\n",
    "chart.loc[fahrenheit_mask, 'label'] = 'Temperature'\n",
    "chart.loc[celcius_mask, 'label'] = 'Temperature'"
   ]
  },
  {
   "cell_type": "code",
   "execution_count": 3,
   "metadata": {},
   "outputs": [],
   "source": [
    "chart = pd.read_parquet('eICU_chart.parquet')\n",
    "patients = pd.read_parquet('eICU_patients.parquet')"
   ]
  },
  {
   "cell_type": "code",
   "execution_count": 4,
   "metadata": {},
   "outputs": [
    {
     "name": "stderr",
     "output_type": "stream",
     "text": [
      "/tmp/ipykernel_1369658/338451565.py:3: FutureWarning: A value is trying to be set on a copy of a DataFrame or Series through chained assignment using an inplace method.\n",
      "The behavior will change in pandas 3.0. This inplace method will never work because the intermediate object on which we are setting values always behaves as a copy.\n",
      "\n",
      "For example, when doing 'df[col].method(value, inplace=True)', try using 'df.method({col: value}, inplace=True)' or df[col] = df[col].method(value) instead, to perform the operation inplace on the original object.\n",
      "\n",
      "\n",
      "  chart['value'].replace('', np.nan, inplace=True)\n"
     ]
    },
    {
     "data": {
      "text/html": [
       "<div>\n",
       "<style scoped>\n",
       "    .dataframe tbody tr th:only-of-type {\n",
       "        vertical-align: middle;\n",
       "    }\n",
       "\n",
       "    .dataframe tbody tr th {\n",
       "        vertical-align: top;\n",
       "    }\n",
       "\n",
       "    .dataframe thead th {\n",
       "        text-align: right;\n",
       "    }\n",
       "</style>\n",
       "<table border=\"1\" class=\"dataframe\">\n",
       "  <thead>\n",
       "    <tr style=\"text-align: right;\">\n",
       "      <th></th>\n",
       "      <th>stay_id</th>\n",
       "      <th>label</th>\n",
       "      <th>value</th>\n",
       "      <th>time</th>\n",
       "    </tr>\n",
       "  </thead>\n",
       "  <tbody>\n",
       "    <tr>\n",
       "      <th>0</th>\n",
       "      <td>3181453</td>\n",
       "      <td>SpO2</td>\n",
       "      <td>92.0</td>\n",
       "      <td>63</td>\n",
       "    </tr>\n",
       "    <tr>\n",
       "      <th>1</th>\n",
       "      <td>3181453</td>\n",
       "      <td>dbp</td>\n",
       "      <td>70.0</td>\n",
       "      <td>26</td>\n",
       "    </tr>\n",
       "    <tr>\n",
       "      <th>2</th>\n",
       "      <td>3181453</td>\n",
       "      <td>Respiratory Rate</td>\n",
       "      <td>19.0</td>\n",
       "      <td>35</td>\n",
       "    </tr>\n",
       "    <tr>\n",
       "      <th>3</th>\n",
       "      <td>3181453</td>\n",
       "      <td>Respiratory Rate</td>\n",
       "      <td>25.0</td>\n",
       "      <td>7</td>\n",
       "    </tr>\n",
       "    <tr>\n",
       "      <th>4</th>\n",
       "      <td>3181453</td>\n",
       "      <td>Heart Rate</td>\n",
       "      <td>111.0</td>\n",
       "      <td>42</td>\n",
       "    </tr>\n",
       "  </tbody>\n",
       "</table>\n",
       "</div>"
      ],
      "text/plain": [
       "   stay_id             label  value  time\n",
       "0  3181453              SpO2   92.0    63\n",
       "1  3181453               dbp   70.0    26\n",
       "2  3181453  Respiratory Rate   19.0    35\n",
       "3  3181453  Respiratory Rate   25.0     7\n",
       "4  3181453        Heart Rate  111.0    42"
      ]
     },
     "execution_count": 4,
     "metadata": {},
     "output_type": "execute_result"
    }
   ],
   "source": [
    "# vital sign 이상치 조정 \n",
    "\n",
    "chart['value'].replace('', np.nan, inplace=True)\n",
    "chart['value'] = chart['value'].astype(float)\n",
    "\n",
    "# 기준 설정\n",
    "ranges = {\n",
    "    'Respiratory Rate': (5, 50),\n",
    "    'Heart Rate': (10, 190),\n",
    "    'sbp': (40, 230),\n",
    "    'dbp': (20, 130),\n",
    "    'Temperature': (32, 41), \n",
    "    'SpO2': (68, 100)\n",
    "}\n",
    "# 각 label에 대한 평균값 계산\n",
    "mean_values = chart.groupby('label')['value'].mean()\n",
    "\n",
    "# 범위를 벗어난 값들을 NaN으로 대체\n",
    "def replace_out_of_range_with_nan(row):\n",
    "    label = row['label']\n",
    "    value = row['value']\n",
    "    \n",
    "    if label in ranges:\n",
    "        lower, upper = ranges[label]\n",
    "        \n",
    "        # 값이 범위를 벗어나면 NaN으로 대체\n",
    "        if value < lower or value > upper:\n",
    "            return np.nan\n",
    "    return value\n",
    "\n",
    "chart['value'] = chart.apply(replace_out_of_range_with_nan, axis=1)\n",
    "chart['value'] = chart.groupby('label')['value'].transform(lambda x: x.fillna(x.mean()))\n",
    "chart.head()"
   ]
  },
  {
   "cell_type": "code",
   "execution_count": 5,
   "metadata": {},
   "outputs": [],
   "source": [
    "chart.to_parquet('eICU_chart.parquet')"
   ]
  },
  {
   "cell_type": "markdown",
   "metadata": {},
   "source": [
    "### physical Exam: GCS "
   ]
  },
  {
   "cell_type": "code",
   "execution_count": 6,
   "metadata": {},
   "outputs": [
    {
     "name": "stderr",
     "output_type": "stream",
     "text": [
      "/tmp/ipykernel_1369658/2141619851.py:14: UserWarning: pandas only supports SQLAlchemy connectable (engine/connection) or database string URI or sqlite3 DBAPI2 connection. Other DBAPI2 objects are not tested. Please consider using SQLAlchemy.\n",
      "  exam = pd.read_sql_query(query, conn)\n"
     ]
    }
   ],
   "source": [
    "query = '''\n",
    "SELECT \n",
    "    exam.patientUnitStayID AS stay_id,\n",
    "    exam.physicalexampath AS label,\n",
    "    exam.physicalExamOffset / 60 AS time,\n",
    "    exam.physicalExamText AS value\n",
    "FROM\n",
    "    eicu.physicalExam exam\n",
    "WHERE\n",
    "    exam.physicalexampath LIKE '%Eyes Score%' OR\n",
    "    exam.physicalexampath LIKE '%Verbal Score%' OR\n",
    "    exam.physicalexampath LIKE '%Motor Score%';\n",
    "'''\n",
    "exam = pd.read_sql_query(query, conn)\n",
    "exam = exam[exam['stay_id'].isin(patients['stay_id'])]"
   ]
  },
  {
   "cell_type": "code",
   "execution_count": 7,
   "metadata": {},
   "outputs": [],
   "source": [
    "exam['label'] = exam['label'].replace(r'notes/Progress Notes/Physical Exam/Physical Exam/Neurologic/GCS/', '', regex=True)\n",
    "exam['label'] = exam['label'].str.replace(r'[^a-zA-Z\\s]', '', regex=True)\n",
    "exam['value'] = pd.to_numeric(exam['value'], errors='coerce')"
   ]
  },
  {
   "cell_type": "code",
   "execution_count": 8,
   "metadata": {},
   "outputs": [
    {
     "data": {
      "text/html": [
       "<div>\n",
       "<style scoped>\n",
       "    .dataframe tbody tr th:only-of-type {\n",
       "        vertical-align: middle;\n",
       "    }\n",
       "\n",
       "    .dataframe tbody tr th {\n",
       "        vertical-align: top;\n",
       "    }\n",
       "\n",
       "    .dataframe thead th {\n",
       "        text-align: right;\n",
       "    }\n",
       "</style>\n",
       "<table border=\"1\" class=\"dataframe\">\n",
       "  <thead>\n",
       "    <tr style=\"text-align: right;\">\n",
       "      <th></th>\n",
       "      <th>stay_id</th>\n",
       "      <th>label</th>\n",
       "      <th>time</th>\n",
       "      <th>value</th>\n",
       "    </tr>\n",
       "  </thead>\n",
       "  <tbody>\n",
       "    <tr>\n",
       "      <th>0</th>\n",
       "      <td>176895</td>\n",
       "      <td>Eyes Score</td>\n",
       "      <td>0</td>\n",
       "      <td>3</td>\n",
       "    </tr>\n",
       "    <tr>\n",
       "      <th>1</th>\n",
       "      <td>176895</td>\n",
       "      <td>Motor Score</td>\n",
       "      <td>0</td>\n",
       "      <td>1</td>\n",
       "    </tr>\n",
       "    <tr>\n",
       "      <th>2</th>\n",
       "      <td>176895</td>\n",
       "      <td>Verbal Score</td>\n",
       "      <td>0</td>\n",
       "      <td>2</td>\n",
       "    </tr>\n",
       "    <tr>\n",
       "      <th>3</th>\n",
       "      <td>149700</td>\n",
       "      <td>Motor Score</td>\n",
       "      <td>0</td>\n",
       "      <td>1</td>\n",
       "    </tr>\n",
       "    <tr>\n",
       "      <th>4</th>\n",
       "      <td>149700</td>\n",
       "      <td>Verbal Score</td>\n",
       "      <td>0</td>\n",
       "      <td>1</td>\n",
       "    </tr>\n",
       "  </tbody>\n",
       "</table>\n",
       "</div>"
      ],
      "text/plain": [
       "   stay_id         label  time  value\n",
       "0   176895    Eyes Score     0      3\n",
       "1   176895   Motor Score     0      1\n",
       "2   176895  Verbal Score     0      2\n",
       "3   149700   Motor Score     0      1\n",
       "4   149700  Verbal Score     0      1"
      ]
     },
     "execution_count": 8,
     "metadata": {},
     "output_type": "execute_result"
    }
   ],
   "source": [
    "# vital sign 이상치 조정 \n",
    "    \n",
    "ranges = {           \n",
    "    'Eyes Score':(1, 4),\n",
    "    'Verbal Score':(1, 5),\n",
    "    'Motor Score':(1, 6)}\n",
    "\n",
    "# 각 label에 대한 평균값 계산\n",
    "mean_values = exam.groupby('label')['value'].mean()\n",
    "\n",
    "# 범위를 벗어난 값들을 NaN으로 대체\n",
    "def replace_out_of_range_with_nan(row):\n",
    "    label = row['label']\n",
    "    value = row['value']\n",
    "    \n",
    "    if label in ranges:\n",
    "        lower, upper = ranges[label]\n",
    "        \n",
    "        # 값이 범위를 벗어나면 NaN으로 대체\n",
    "        if value < lower or value > upper:\n",
    "            return np.nan\n",
    "    return value\n",
    "\n",
    "exam['value'] = exam.apply(replace_out_of_range_with_nan, axis=1)\n",
    "exam['value'] = exam.groupby('label')['value'].transform(lambda x: x.fillna(x.mean()))\n",
    "exam.head()"
   ]
  },
  {
   "cell_type": "code",
   "execution_count": 9,
   "metadata": {},
   "outputs": [],
   "source": [
    "exam.to_parquet('eICU_exam.parquet')"
   ]
  },
  {
   "cell_type": "markdown",
   "metadata": {},
   "source": [
    "## concat, pivot and merge "
   ]
  },
  {
   "cell_type": "code",
   "execution_count": 10,
   "metadata": {},
   "outputs": [],
   "source": [
    "chart =  pd.read_parquet('eICU_chart.parquet')\n",
    "lab =  pd.read_parquet('eICU_lab.parquet')\n",
    "exam =  pd.read_parquet('eICU_exam.parquet')\n",
    "vitalap =  pd.read_parquet('eICU_vitalap.parquet')"
   ]
  },
  {
   "cell_type": "code",
   "execution_count": 3,
   "metadata": {},
   "outputs": [],
   "source": [
    "df = pd.concat([chart, lab, exam, vitalap])\n",
    "df.drop(columns='valueoum', axis=1, inplace=True)"
   ]
  },
  {
   "cell_type": "code",
   "execution_count": 4,
   "metadata": {},
   "outputs": [
    {
     "data": {
      "text/plain": [
       "set()"
      ]
     },
     "execution_count": 4,
     "metadata": {},
     "output_type": "execute_result"
    }
   ],
   "source": [
    "set(df['stay_id'].unique()) - set(patients['stay_id'].unique())"
   ]
  },
  {
   "cell_type": "code",
   "execution_count": 5,
   "metadata": {},
   "outputs": [],
   "source": [
    "df = df[df['time'] >= 0]"
   ]
  },
  {
   "cell_type": "code",
   "execution_count": 6,
   "metadata": {},
   "outputs": [],
   "source": [
    "df.to_parquet('eICU_df.parquet')"
   ]
  },
  {
   "cell_type": "code",
   "execution_count": 2,
   "metadata": {},
   "outputs": [],
   "source": [
    "df = pd.read_parquet('eICU_df.parquet')\n",
    "patients = pd.read_parquet('eICU_patients.parquet')"
   ]
  },
  {
   "cell_type": "code",
   "execution_count": 3,
   "metadata": {},
   "outputs": [],
   "source": [
    "df = df.pivot_table(index=['stay_id', 'time'], columns='label', values='value', aggfunc='mean')\n",
    "df.reset_index(inplace=True)"
   ]
  },
  {
   "cell_type": "code",
   "execution_count": 4,
   "metadata": {},
   "outputs": [
    {
     "data": {
      "text/html": [
       "<div>\n",
       "<style scoped>\n",
       "    .dataframe tbody tr th:only-of-type {\n",
       "        vertical-align: middle;\n",
       "    }\n",
       "\n",
       "    .dataframe tbody tr th {\n",
       "        vertical-align: top;\n",
       "    }\n",
       "\n",
       "    .dataframe thead th {\n",
       "        text-align: right;\n",
       "    }\n",
       "</style>\n",
       "<table border=\"1\" class=\"dataframe\">\n",
       "  <thead>\n",
       "    <tr style=\"text-align: right;\">\n",
       "      <th></th>\n",
       "      <th>stay_id</th>\n",
       "      <th>time</th>\n",
       "      <th>ALT</th>\n",
       "      <th>AST</th>\n",
       "      <th>BUN</th>\n",
       "      <th>CRP</th>\n",
       "      <th>Eyes Score</th>\n",
       "      <th>Heart Rate</th>\n",
       "      <th>Hgb</th>\n",
       "      <th>Motor Score</th>\n",
       "      <th>...</th>\n",
       "      <th>sbp</th>\n",
       "      <th>sodium</th>\n",
       "      <th>gender</th>\n",
       "      <th>age</th>\n",
       "      <th>race</th>\n",
       "      <th>CU type</th>\n",
       "      <th>intime</th>\n",
       "      <th>los</th>\n",
       "      <th>death or dischtime</th>\n",
       "      <th>dead in hosp</th>\n",
       "    </tr>\n",
       "  </thead>\n",
       "  <tbody>\n",
       "    <tr>\n",
       "      <th>0</th>\n",
       "      <td>141168</td>\n",
       "      <td>0</td>\n",
       "      <td>NaN</td>\n",
       "      <td>NaN</td>\n",
       "      <td>NaN</td>\n",
       "      <td>NaN</td>\n",
       "      <td>NaN</td>\n",
       "      <td>105.0</td>\n",
       "      <td>NaN</td>\n",
       "      <td>NaN</td>\n",
       "      <td>...</td>\n",
       "      <td>NaN</td>\n",
       "      <td>NaN</td>\n",
       "      <td>Female</td>\n",
       "      <td>70</td>\n",
       "      <td>white</td>\n",
       "      <td>MICU</td>\n",
       "      <td>15:54:00</td>\n",
       "      <td>59</td>\n",
       "      <td>03:50:00</td>\n",
       "      <td>1</td>\n",
       "    </tr>\n",
       "    <tr>\n",
       "      <th>1</th>\n",
       "      <td>141168</td>\n",
       "      <td>1</td>\n",
       "      <td>NaN</td>\n",
       "      <td>NaN</td>\n",
       "      <td>NaN</td>\n",
       "      <td>NaN</td>\n",
       "      <td>4.0</td>\n",
       "      <td>140.0</td>\n",
       "      <td>NaN</td>\n",
       "      <td>6.0</td>\n",
       "      <td>...</td>\n",
       "      <td>NaN</td>\n",
       "      <td>NaN</td>\n",
       "      <td>Female</td>\n",
       "      <td>70</td>\n",
       "      <td>white</td>\n",
       "      <td>MICU</td>\n",
       "      <td>15:54:00</td>\n",
       "      <td>59</td>\n",
       "      <td>03:50:00</td>\n",
       "      <td>1</td>\n",
       "    </tr>\n",
       "    <tr>\n",
       "      <th>2</th>\n",
       "      <td>141168</td>\n",
       "      <td>2</td>\n",
       "      <td>NaN</td>\n",
       "      <td>NaN</td>\n",
       "      <td>NaN</td>\n",
       "      <td>NaN</td>\n",
       "      <td>NaN</td>\n",
       "      <td>140.0</td>\n",
       "      <td>NaN</td>\n",
       "      <td>NaN</td>\n",
       "      <td>...</td>\n",
       "      <td>108.5</td>\n",
       "      <td>NaN</td>\n",
       "      <td>Female</td>\n",
       "      <td>70</td>\n",
       "      <td>white</td>\n",
       "      <td>MICU</td>\n",
       "      <td>15:54:00</td>\n",
       "      <td>59</td>\n",
       "      <td>03:50:00</td>\n",
       "      <td>1</td>\n",
       "    </tr>\n",
       "    <tr>\n",
       "      <th>3</th>\n",
       "      <td>141168</td>\n",
       "      <td>3</td>\n",
       "      <td>NaN</td>\n",
       "      <td>NaN</td>\n",
       "      <td>NaN</td>\n",
       "      <td>NaN</td>\n",
       "      <td>NaN</td>\n",
       "      <td>134.0</td>\n",
       "      <td>NaN</td>\n",
       "      <td>NaN</td>\n",
       "      <td>...</td>\n",
       "      <td>NaN</td>\n",
       "      <td>NaN</td>\n",
       "      <td>Female</td>\n",
       "      <td>70</td>\n",
       "      <td>white</td>\n",
       "      <td>MICU</td>\n",
       "      <td>15:54:00</td>\n",
       "      <td>59</td>\n",
       "      <td>03:50:00</td>\n",
       "      <td>1</td>\n",
       "    </tr>\n",
       "    <tr>\n",
       "      <th>4</th>\n",
       "      <td>141168</td>\n",
       "      <td>4</td>\n",
       "      <td>NaN</td>\n",
       "      <td>NaN</td>\n",
       "      <td>NaN</td>\n",
       "      <td>NaN</td>\n",
       "      <td>NaN</td>\n",
       "      <td>134.0</td>\n",
       "      <td>NaN</td>\n",
       "      <td>NaN</td>\n",
       "      <td>...</td>\n",
       "      <td>NaN</td>\n",
       "      <td>NaN</td>\n",
       "      <td>Female</td>\n",
       "      <td>70</td>\n",
       "      <td>white</td>\n",
       "      <td>MICU</td>\n",
       "      <td>15:54:00</td>\n",
       "      <td>59</td>\n",
       "      <td>03:50:00</td>\n",
       "      <td>1</td>\n",
       "    </tr>\n",
       "  </tbody>\n",
       "</table>\n",
       "<p>5 rows × 33 columns</p>\n",
       "</div>"
      ],
      "text/plain": [
       "   stay_id  time  ALT  AST  BUN  CRP  Eyes Score  Heart Rate  Hgb  \\\n",
       "0   141168     0  NaN  NaN  NaN  NaN         NaN       105.0  NaN   \n",
       "1   141168     1  NaN  NaN  NaN  NaN         4.0       140.0  NaN   \n",
       "2   141168     2  NaN  NaN  NaN  NaN         NaN       140.0  NaN   \n",
       "3   141168     3  NaN  NaN  NaN  NaN         NaN       134.0  NaN   \n",
       "4   141168     4  NaN  NaN  NaN  NaN         NaN       134.0  NaN   \n",
       "\n",
       "   Motor Score  ...    sbp  sodium  gender  age   race  CU type    intime  \\\n",
       "0          NaN  ...    NaN     NaN  Female   70  white     MICU  15:54:00   \n",
       "1          6.0  ...    NaN     NaN  Female   70  white     MICU  15:54:00   \n",
       "2          NaN  ...  108.5     NaN  Female   70  white     MICU  15:54:00   \n",
       "3          NaN  ...    NaN     NaN  Female   70  white     MICU  15:54:00   \n",
       "4          NaN  ...    NaN     NaN  Female   70  white     MICU  15:54:00   \n",
       "\n",
       "   los  death or dischtime  dead in hosp  \n",
       "0   59            03:50:00             1  \n",
       "1   59            03:50:00             1  \n",
       "2   59            03:50:00             1  \n",
       "3   59            03:50:00             1  \n",
       "4   59            03:50:00             1  \n",
       "\n",
       "[5 rows x 33 columns]"
      ]
     },
     "execution_count": 4,
     "metadata": {},
     "output_type": "execute_result"
    }
   ],
   "source": [
    "df_chart = df.merge(patients, on='stay_id', how='inner') \n",
    "df_chart.head()"
   ]
  },
  {
   "cell_type": "code",
   "execution_count": 5,
   "metadata": {},
   "outputs": [
    {
     "data": {
      "text/plain": [
       "dead in hosp\n",
       "0    0.933042\n",
       "1    0.066958\n",
       "Name: proportion, dtype: float64"
      ]
     },
     "execution_count": 5,
     "metadata": {},
     "output_type": "execute_result"
    }
   ],
   "source": [
    "df_chart['dead in hosp'].value_counts(normalize=True)"
   ]
  },
  {
   "cell_type": "markdown",
   "metadata": {},
   "source": [
    "## cleansing and fillna\n",
    "- 결측치 처리 \n",
    "- 컬럼명/순서 수정\n",
    "- 날짜 컬럼 삭제"
   ]
  },
  {
   "cell_type": "code",
   "execution_count": 6,
   "metadata": {},
   "outputs": [
    {
     "name": "stdout",
     "output_type": "stream",
     "text": [
      "stay_id                0.000000\n",
      "los                    0.000000\n",
      "intime                 0.000000\n",
      "CU type                0.000000\n",
      "race                   0.000000\n",
      "age                    0.000000\n",
      "gender                 0.000000\n",
      "death or dischtime     0.000000\n",
      "dead in hosp           0.000000\n",
      "time                   0.000000\n",
      "dbp                   18.570550\n",
      "sbp                   29.149157\n",
      "Heart Rate            35.493843\n",
      "Respiratory Rate      39.393334\n",
      "SpO2                  45.741889\n",
      "glucose               75.759590\n",
      "potassium             92.182777\n",
      "chloride              93.225824\n",
      "BUN                   93.274466\n",
      "Hgb                   93.298798\n",
      "platelets             94.004522\n",
      "WBC                   94.060916\n",
      "albumin               97.573669\n",
      "AST                   97.965989\n",
      "ALT                   97.979684\n",
      "bilirubin             98.003077\n",
      "Motor Score           98.648463\n",
      "Eyes Score            98.648485\n",
      "Verbal Score          98.648530\n",
      "Temperature           99.374319\n",
      "sodium                99.907434\n",
      "creatinine            99.932750\n",
      "CRP                   99.933434\n",
      "dtype: float64\n"
     ]
    }
   ],
   "source": [
    "# 각 컬럼의 결측치 비율 계산\n",
    "    \n",
    "def missing_value_ratio(df):\n",
    "    missing_ratio = df.isna().mean() * 100\n",
    "    \n",
    "    # 결측치 비율을 오름차순으로 정렬하여 출력)\n",
    "    print(missing_ratio.sort_values(ascending=True))\n",
    "\n",
    "missing_value_ratio(df_chart)"
   ]
  },
  {
   "cell_type": "code",
   "execution_count": 31,
   "metadata": {},
   "outputs": [],
   "source": [
    "# stay_id별로 결측치 처리 \n",
    "\n",
    "def nan_fill(df):\n",
    "    # 1. forward fill\n",
    "    # 일부 컬럼은 제외 \n",
    "    columns_to_exclude = ['stay_id', 'gender', 'age', 'race', 'CU type', 'intime', 'death or dischtime', 'charttime','dead in hosp', 'time']\n",
    "    selected_columns = df.columns.difference(columns_to_exclude)\n",
    "    df_ffill = df.copy()\n",
    "    df_ffill[selected_columns] = df.groupby('stay_id')[selected_columns].apply(lambda group: group.ffill()).reset_index(drop=True)\n",
    "    \n",
    "    # 2. median fill\n",
    "    overall_median_values = df_ffill[selected_columns].median()\n",
    "    df_ffill[selected_columns] = df_ffill[selected_columns].fillna(overall_median_values)\n",
    "\n",
    "    return df_ffill\n",
    "\n",
    "df_fillna = nan_fill(df_chart)"
   ]
  },
  {
   "cell_type": "code",
   "execution_count": 4,
   "metadata": {},
   "outputs": [
    {
     "data": {
      "text/plain": [
       "dead in hosp\n",
       "0    0.933042\n",
       "1    0.066958\n",
       "Name: proportion, dtype: float64"
      ]
     },
     "execution_count": 4,
     "metadata": {},
     "output_type": "execute_result"
    }
   ],
   "source": [
    "df_fillna['dead in hosp'].value_counts(normalize=True)"
   ]
  },
  {
   "cell_type": "code",
   "execution_count": 5,
   "metadata": {},
   "outputs": [
    {
     "name": "stderr",
     "output_type": "stream",
     "text": [
      "/tmp/ipykernel_1699487/4098409949.py:1: UserWarning: Could not infer format, so each element will be parsed individually, falling back to `dateutil`. To ensure parsing is consistent and as-expected, please specify a format.\n",
      "  df_fillna['intime'] = pd.to_datetime(df_fillna['intime'])\n"
     ]
    }
   ],
   "source": [
    "df_fillna['intime'] = pd.to_datetime(df_fillna['intime'])\n",
    "df_fillna['charttime'] = df_fillna['intime'] + pd.to_timedelta(df_fillna['time'], unit='h')\n",
    "df_fillna['death or dischtime'] = df_fillna['intime'] + pd.to_timedelta(df_fillna['los'], unit='h')"
   ]
  },
  {
   "cell_type": "code",
   "execution_count": 3,
   "metadata": {},
   "outputs": [],
   "source": [
    "# pos와 neg 분리 \n",
    "\n",
    "df_pos = df_fillna[df_fillna['dead in hosp'] == 1]\n",
    "df_neg = df_fillna[df_fillna['dead in hosp'] == 0]"
   ]
  },
  {
   "cell_type": "code",
   "execution_count": 4,
   "metadata": {},
   "outputs": [
    {
     "data": {
      "text/html": [
       "<div>\n",
       "<style scoped>\n",
       "    .dataframe tbody tr th:only-of-type {\n",
       "        vertical-align: middle;\n",
       "    }\n",
       "\n",
       "    .dataframe tbody tr th {\n",
       "        vertical-align: top;\n",
       "    }\n",
       "\n",
       "    .dataframe thead th {\n",
       "        text-align: right;\n",
       "    }\n",
       "</style>\n",
       "<table border=\"1\" class=\"dataframe\">\n",
       "  <thead>\n",
       "    <tr style=\"text-align: right;\">\n",
       "      <th></th>\n",
       "      <th>charttime</th>\n",
       "      <th>ALT</th>\n",
       "      <th>AST</th>\n",
       "      <th>BUN</th>\n",
       "      <th>CRP</th>\n",
       "      <th>Eyes Score</th>\n",
       "      <th>Heart Rate</th>\n",
       "      <th>Hgb</th>\n",
       "      <th>Motor Score</th>\n",
       "      <th>Respiratory Rate</th>\n",
       "      <th>...</th>\n",
       "      <th>stay_id</th>\n",
       "      <th>time</th>\n",
       "      <th>gender</th>\n",
       "      <th>age</th>\n",
       "      <th>race</th>\n",
       "      <th>CU type</th>\n",
       "      <th>intime</th>\n",
       "      <th>los</th>\n",
       "      <th>death or dischtime</th>\n",
       "      <th>dead in hosp</th>\n",
       "    </tr>\n",
       "  </thead>\n",
       "  <tbody>\n",
       "    <tr>\n",
       "      <th>0</th>\n",
       "      <td>2024-08-30 15:00:00</td>\n",
       "      <td>28.0</td>\n",
       "      <td>32.0</td>\n",
       "      <td>24.0</td>\n",
       "      <td>92.55513</td>\n",
       "      <td>4.0</td>\n",
       "      <td>105.0</td>\n",
       "      <td>18.62</td>\n",
       "      <td>6.0</td>\n",
       "      <td>19.0</td>\n",
       "      <td>...</td>\n",
       "      <td>141168</td>\n",
       "      <td>0.0</td>\n",
       "      <td>Female</td>\n",
       "      <td>70.0</td>\n",
       "      <td>white</td>\n",
       "      <td>MICU</td>\n",
       "      <td>2024-08-30 15:54:00</td>\n",
       "      <td>59.0</td>\n",
       "      <td>2024-09-02 02:54:00</td>\n",
       "      <td>1.0</td>\n",
       "    </tr>\n",
       "    <tr>\n",
       "      <th>1</th>\n",
       "      <td>2024-08-30 16:00:00</td>\n",
       "      <td>28.0</td>\n",
       "      <td>32.0</td>\n",
       "      <td>24.0</td>\n",
       "      <td>92.55513</td>\n",
       "      <td>4.0</td>\n",
       "      <td>140.0</td>\n",
       "      <td>18.62</td>\n",
       "      <td>6.0</td>\n",
       "      <td>19.0</td>\n",
       "      <td>...</td>\n",
       "      <td>141168</td>\n",
       "      <td>0.0</td>\n",
       "      <td>Female</td>\n",
       "      <td>70.0</td>\n",
       "      <td>white</td>\n",
       "      <td>MICU</td>\n",
       "      <td>2024-08-30 15:54:00</td>\n",
       "      <td>59.0</td>\n",
       "      <td>2024-09-02 02:54:00</td>\n",
       "      <td>1.0</td>\n",
       "    </tr>\n",
       "    <tr>\n",
       "      <th>2</th>\n",
       "      <td>2024-08-30 17:00:00</td>\n",
       "      <td>28.0</td>\n",
       "      <td>32.0</td>\n",
       "      <td>24.0</td>\n",
       "      <td>92.55513</td>\n",
       "      <td>4.0</td>\n",
       "      <td>140.0</td>\n",
       "      <td>18.62</td>\n",
       "      <td>6.0</td>\n",
       "      <td>19.0</td>\n",
       "      <td>...</td>\n",
       "      <td>141168</td>\n",
       "      <td>1.0</td>\n",
       "      <td>Female</td>\n",
       "      <td>70.0</td>\n",
       "      <td>white</td>\n",
       "      <td>MICU</td>\n",
       "      <td>2024-08-30 15:54:00</td>\n",
       "      <td>59.0</td>\n",
       "      <td>2024-09-02 02:54:00</td>\n",
       "      <td>1.0</td>\n",
       "    </tr>\n",
       "    <tr>\n",
       "      <th>3</th>\n",
       "      <td>2024-08-30 18:00:00</td>\n",
       "      <td>28.0</td>\n",
       "      <td>32.0</td>\n",
       "      <td>24.0</td>\n",
       "      <td>92.55513</td>\n",
       "      <td>4.0</td>\n",
       "      <td>134.0</td>\n",
       "      <td>18.62</td>\n",
       "      <td>6.0</td>\n",
       "      <td>19.0</td>\n",
       "      <td>...</td>\n",
       "      <td>141168</td>\n",
       "      <td>2.0</td>\n",
       "      <td>Female</td>\n",
       "      <td>70.0</td>\n",
       "      <td>white</td>\n",
       "      <td>MICU</td>\n",
       "      <td>2024-08-30 15:54:00</td>\n",
       "      <td>59.0</td>\n",
       "      <td>2024-09-02 02:54:00</td>\n",
       "      <td>1.0</td>\n",
       "    </tr>\n",
       "    <tr>\n",
       "      <th>4</th>\n",
       "      <td>2024-08-30 19:00:00</td>\n",
       "      <td>28.0</td>\n",
       "      <td>32.0</td>\n",
       "      <td>24.0</td>\n",
       "      <td>92.55513</td>\n",
       "      <td>4.0</td>\n",
       "      <td>134.0</td>\n",
       "      <td>18.62</td>\n",
       "      <td>6.0</td>\n",
       "      <td>19.0</td>\n",
       "      <td>...</td>\n",
       "      <td>141168</td>\n",
       "      <td>3.0</td>\n",
       "      <td>Female</td>\n",
       "      <td>70.0</td>\n",
       "      <td>white</td>\n",
       "      <td>MICU</td>\n",
       "      <td>2024-08-30 15:54:00</td>\n",
       "      <td>59.0</td>\n",
       "      <td>2024-09-02 02:54:00</td>\n",
       "      <td>1.0</td>\n",
       "    </tr>\n",
       "  </tbody>\n",
       "</table>\n",
       "<p>5 rows × 34 columns</p>\n",
       "</div>"
      ],
      "text/plain": [
       "            charttime   ALT   AST   BUN       CRP  Eyes Score  Heart Rate  \\\n",
       "0 2024-08-30 15:00:00  28.0  32.0  24.0  92.55513         4.0       105.0   \n",
       "1 2024-08-30 16:00:00  28.0  32.0  24.0  92.55513         4.0       140.0   \n",
       "2 2024-08-30 17:00:00  28.0  32.0  24.0  92.55513         4.0       140.0   \n",
       "3 2024-08-30 18:00:00  28.0  32.0  24.0  92.55513         4.0       134.0   \n",
       "4 2024-08-30 19:00:00  28.0  32.0  24.0  92.55513         4.0       134.0   \n",
       "\n",
       "     Hgb  Motor Score  Respiratory Rate  ...  stay_id  time  gender   age  \\\n",
       "0  18.62          6.0              19.0  ...   141168   0.0  Female  70.0   \n",
       "1  18.62          6.0              19.0  ...   141168   0.0  Female  70.0   \n",
       "2  18.62          6.0              19.0  ...   141168   1.0  Female  70.0   \n",
       "3  18.62          6.0              19.0  ...   141168   2.0  Female  70.0   \n",
       "4  18.62          6.0              19.0  ...   141168   3.0  Female  70.0   \n",
       "\n",
       "    race  CU type              intime   los  death or dischtime  dead in hosp  \n",
       "0  white     MICU 2024-08-30 15:54:00  59.0 2024-09-02 02:54:00           1.0  \n",
       "1  white     MICU 2024-08-30 15:54:00  59.0 2024-09-02 02:54:00           1.0  \n",
       "2  white     MICU 2024-08-30 15:54:00  59.0 2024-09-02 02:54:00           1.0  \n",
       "3  white     MICU 2024-08-30 15:54:00  59.0 2024-09-02 02:54:00           1.0  \n",
       "4  white     MICU 2024-08-30 15:54:00  59.0 2024-09-02 02:54:00           1.0  \n",
       "\n",
       "[5 rows x 34 columns]"
      ]
     },
     "execution_count": 4,
     "metadata": {},
     "output_type": "execute_result"
    }
   ],
   "source": [
    "def resample_group(group):\n",
    "    # 'charttime'을 datetime 인덱스로 설정\n",
    "    group = group.set_index('charttime')\n",
    "    \n",
    "    # float형 데이터만 선택하여 평균 계산\n",
    "    numeric_cols = group.select_dtypes(include=['float']).columns\n",
    "    group_resampled = group[numeric_cols].resample('h').mean()\n",
    "    \n",
    "    # int, object형 데이터는 해당 stay_id의 전후값으로 계산\n",
    "    non_numeric_cols = group.select_dtypes(exclude=['float']).columns\n",
    "    group_non_numeric_resampled = group[non_numeric_cols].resample('h').ffill().bfill()\n",
    "    \n",
    "    # 리샘플링된 numeric 데이터와 non-numeric 데이터를 병합\n",
    "    group_resampled = group_resampled.join(group_non_numeric_resampled)\n",
    "    \n",
    "    # stay_id 다시 설정\n",
    "    group_resampled['stay_id'] = group['stay_id'].iloc[0]\n",
    "    \n",
    "    return group_resampled.reset_index()\n",
    "\n",
    "def resampling(df):\n",
    "    resampled = df.groupby('stay_id').apply(resample_group).reset_index(drop=True)\n",
    "    resampled.sort_values(by=['stay_id', 'charttime'], ascending=True, inplace=True)\n",
    "    return resampled\n",
    "\n",
    "# 리샘플링 함수 호출\n",
    "df_resample_pos = resampling(df_pos)\n",
    "df_resample_pos.head()"
   ]
  },
  {
   "cell_type": "code",
   "execution_count": 16,
   "metadata": {},
   "outputs": [],
   "source": [
    "# neg는 데이터세트가 많으므로 최근 행을 먼저 추출하고 리샘플링을 진행\n",
    "\n",
    "# stay_id별로 가장 최근 행만 먼저 추출\n",
    "df_neg_max_time = df_neg.loc[df_neg.groupby('stay_id')['charttime'].idxmax()]\n",
    "\n",
    "# Calculate the difference in hours\n",
    "df_neg_max_time['time_diff'] = (df_neg_max_time['death or dischtime'] - df_neg_max_time['charttime']).dt.total_seconds() / 3600\n",
    "filtered_df = df_neg_max_time[(df_neg_max_time['time_diff'] >= 0) & (df_neg_max_time['time_diff'] <= 1)]\n",
    "df_neg_filtered = df_neg[df_neg['stay_id'].isin(filtered_df['stay_id'].unique())]"
   ]
  },
  {
   "cell_type": "code",
   "execution_count": 5,
   "metadata": {},
   "outputs": [],
   "source": [
    "# stay_id별로 가장 최근 행만 먼저 추출\n",
    "df_resample_pos_max_time = df_resample_pos.loc[df_resample_pos.groupby('stay_id')['charttime'].idxmax()]\n",
    "\n",
    "# Calculate the difference in hours\n",
    "df_resample_pos_max_time['time_diff'] = (df_resample_pos_max_time['death or dischtime'] - df_resample_pos_max_time['charttime']).dt.total_seconds() / 3600\n",
    "filtered_df = df_resample_pos_max_time[(df_resample_pos_max_time['time_diff'] >= 0) & (df_resample_pos_max_time['time_diff'] <= 1)]\n",
    "df_resample_pos_filtered = df_resample_pos[df_resample_pos['stay_id'].isin(filtered_df['stay_id'].unique())]"
   ]
  },
  {
   "cell_type": "code",
   "execution_count": 17,
   "metadata": {},
   "outputs": [],
   "source": [
    "df_neg_filtered.to_parquet('eICU_df_neg_filtered.parquet')"
   ]
  },
  {
   "cell_type": "code",
   "execution_count": 19,
   "metadata": {},
   "outputs": [
    {
     "data": {
      "text/html": [
       "<div>\n",
       "<style scoped>\n",
       "    .dataframe tbody tr th:only-of-type {\n",
       "        vertical-align: middle;\n",
       "    }\n",
       "\n",
       "    .dataframe tbody tr th {\n",
       "        vertical-align: top;\n",
       "    }\n",
       "\n",
       "    .dataframe thead th {\n",
       "        text-align: right;\n",
       "    }\n",
       "</style>\n",
       "<table border=\"1\" class=\"dataframe\">\n",
       "  <thead>\n",
       "    <tr style=\"text-align: right;\">\n",
       "      <th></th>\n",
       "      <th>charttime</th>\n",
       "      <th>ALT</th>\n",
       "      <th>AST</th>\n",
       "      <th>BUN</th>\n",
       "      <th>CRP</th>\n",
       "      <th>Eyes Score</th>\n",
       "      <th>Heart Rate</th>\n",
       "      <th>Hgb</th>\n",
       "      <th>Motor Score</th>\n",
       "      <th>Respiratory Rate</th>\n",
       "      <th>...</th>\n",
       "      <th>stay_id</th>\n",
       "      <th>time</th>\n",
       "      <th>gender</th>\n",
       "      <th>age</th>\n",
       "      <th>race</th>\n",
       "      <th>CU type</th>\n",
       "      <th>intime</th>\n",
       "      <th>los</th>\n",
       "      <th>death or dischtime</th>\n",
       "      <th>dead in hosp</th>\n",
       "    </tr>\n",
       "  </thead>\n",
       "  <tbody>\n",
       "    <tr>\n",
       "      <th>0</th>\n",
       "      <td>2024-08-30 12:00:00</td>\n",
       "      <td>28.0</td>\n",
       "      <td>32.0</td>\n",
       "      <td>26.0</td>\n",
       "      <td>92.55513</td>\n",
       "      <td>3.0</td>\n",
       "      <td>104.101516</td>\n",
       "      <td>18.62</td>\n",
       "      <td>6.0</td>\n",
       "      <td>33.253783</td>\n",
       "      <td>...</td>\n",
       "      <td>141227</td>\n",
       "      <td>0.0</td>\n",
       "      <td>Male</td>\n",
       "      <td>82.0</td>\n",
       "      <td>white</td>\n",
       "      <td>MICU</td>\n",
       "      <td>2024-08-30 12:03:00</td>\n",
       "      <td>27.0</td>\n",
       "      <td>2024-08-31 15:03:00</td>\n",
       "      <td>0.0</td>\n",
       "    </tr>\n",
       "    <tr>\n",
       "      <th>1</th>\n",
       "      <td>2024-08-30 13:00:00</td>\n",
       "      <td>28.0</td>\n",
       "      <td>32.0</td>\n",
       "      <td>26.0</td>\n",
       "      <td>92.55513</td>\n",
       "      <td>3.0</td>\n",
       "      <td>102.500000</td>\n",
       "      <td>18.62</td>\n",
       "      <td>6.0</td>\n",
       "      <td>32.000000</td>\n",
       "      <td>...</td>\n",
       "      <td>141227</td>\n",
       "      <td>1.0</td>\n",
       "      <td>Male</td>\n",
       "      <td>82.0</td>\n",
       "      <td>white</td>\n",
       "      <td>MICU</td>\n",
       "      <td>2024-08-30 12:03:00</td>\n",
       "      <td>27.0</td>\n",
       "      <td>2024-08-31 15:03:00</td>\n",
       "      <td>0.0</td>\n",
       "    </tr>\n",
       "    <tr>\n",
       "      <th>2</th>\n",
       "      <td>2024-08-30 14:00:00</td>\n",
       "      <td>28.0</td>\n",
       "      <td>32.0</td>\n",
       "      <td>26.0</td>\n",
       "      <td>92.55513</td>\n",
       "      <td>3.0</td>\n",
       "      <td>106.800000</td>\n",
       "      <td>18.62</td>\n",
       "      <td>6.0</td>\n",
       "      <td>32.800000</td>\n",
       "      <td>...</td>\n",
       "      <td>141227</td>\n",
       "      <td>2.0</td>\n",
       "      <td>Male</td>\n",
       "      <td>82.0</td>\n",
       "      <td>white</td>\n",
       "      <td>MICU</td>\n",
       "      <td>2024-08-30 12:03:00</td>\n",
       "      <td>27.0</td>\n",
       "      <td>2024-08-31 15:03:00</td>\n",
       "      <td>0.0</td>\n",
       "    </tr>\n",
       "    <tr>\n",
       "      <th>3</th>\n",
       "      <td>2024-08-30 15:00:00</td>\n",
       "      <td>28.0</td>\n",
       "      <td>32.0</td>\n",
       "      <td>26.0</td>\n",
       "      <td>92.55513</td>\n",
       "      <td>3.0</td>\n",
       "      <td>98.400000</td>\n",
       "      <td>18.62</td>\n",
       "      <td>6.0</td>\n",
       "      <td>27.000000</td>\n",
       "      <td>...</td>\n",
       "      <td>141227</td>\n",
       "      <td>3.0</td>\n",
       "      <td>Male</td>\n",
       "      <td>82.0</td>\n",
       "      <td>white</td>\n",
       "      <td>MICU</td>\n",
       "      <td>2024-08-30 12:03:00</td>\n",
       "      <td>27.0</td>\n",
       "      <td>2024-08-31 15:03:00</td>\n",
       "      <td>0.0</td>\n",
       "    </tr>\n",
       "    <tr>\n",
       "      <th>4</th>\n",
       "      <td>2024-08-30 16:00:00</td>\n",
       "      <td>28.0</td>\n",
       "      <td>32.0</td>\n",
       "      <td>26.0</td>\n",
       "      <td>92.55513</td>\n",
       "      <td>3.0</td>\n",
       "      <td>104.000000</td>\n",
       "      <td>18.62</td>\n",
       "      <td>6.0</td>\n",
       "      <td>28.666667</td>\n",
       "      <td>...</td>\n",
       "      <td>141227</td>\n",
       "      <td>4.0</td>\n",
       "      <td>Male</td>\n",
       "      <td>82.0</td>\n",
       "      <td>white</td>\n",
       "      <td>MICU</td>\n",
       "      <td>2024-08-30 12:03:00</td>\n",
       "      <td>27.0</td>\n",
       "      <td>2024-08-31 15:03:00</td>\n",
       "      <td>0.0</td>\n",
       "    </tr>\n",
       "  </tbody>\n",
       "</table>\n",
       "<p>5 rows × 34 columns</p>\n",
       "</div>"
      ],
      "text/plain": [
       "            charttime   ALT   AST   BUN       CRP  Eyes Score  Heart Rate  \\\n",
       "0 2024-08-30 12:00:00  28.0  32.0  26.0  92.55513         3.0  104.101516   \n",
       "1 2024-08-30 13:00:00  28.0  32.0  26.0  92.55513         3.0  102.500000   \n",
       "2 2024-08-30 14:00:00  28.0  32.0  26.0  92.55513         3.0  106.800000   \n",
       "3 2024-08-30 15:00:00  28.0  32.0  26.0  92.55513         3.0   98.400000   \n",
       "4 2024-08-30 16:00:00  28.0  32.0  26.0  92.55513         3.0  104.000000   \n",
       "\n",
       "     Hgb  Motor Score  Respiratory Rate  ...  stay_id  time  gender   age  \\\n",
       "0  18.62          6.0         33.253783  ...   141227   0.0    Male  82.0   \n",
       "1  18.62          6.0         32.000000  ...   141227   1.0    Male  82.0   \n",
       "2  18.62          6.0         32.800000  ...   141227   2.0    Male  82.0   \n",
       "3  18.62          6.0         27.000000  ...   141227   3.0    Male  82.0   \n",
       "4  18.62          6.0         28.666667  ...   141227   4.0    Male  82.0   \n",
       "\n",
       "    race  CU type              intime   los  death or dischtime  dead in hosp  \n",
       "0  white     MICU 2024-08-30 12:03:00  27.0 2024-08-31 15:03:00           0.0  \n",
       "1  white     MICU 2024-08-30 12:03:00  27.0 2024-08-31 15:03:00           0.0  \n",
       "2  white     MICU 2024-08-30 12:03:00  27.0 2024-08-31 15:03:00           0.0  \n",
       "3  white     MICU 2024-08-30 12:03:00  27.0 2024-08-31 15:03:00           0.0  \n",
       "4  white     MICU 2024-08-30 12:03:00  27.0 2024-08-31 15:03:00           0.0  \n",
       "\n",
       "[5 rows x 34 columns]"
      ]
     },
     "execution_count": 19,
     "metadata": {},
     "output_type": "execute_result"
    }
   ],
   "source": [
    "df_resample_neg = resampling(df_neg_filtered)\n",
    "df_resample_neg.head()"
   ]
  },
  {
   "cell_type": "code",
   "execution_count": 21,
   "metadata": {},
   "outputs": [
    {
     "name": "stderr",
     "output_type": "stream",
     "text": [
      "/tmp/ipykernel_1735805/62225354.py:7: SettingWithCopyWarning: \n",
      "A value is trying to be set on a copy of a slice from a DataFrame\n",
      "\n",
      "See the caveats in the documentation: https://pandas.pydata.org/pandas-docs/stable/user_guide/indexing.html#returning-a-view-versus-a-copy\n",
      "  df_fillna_neg_24.sort_values(by=['stay_id', 'charttime'], inplace=True)\n"
     ]
    }
   ],
   "source": [
    "# stay_id별 데이터 개수 계산\n",
    "group_counts = df_resample_neg.groupby('stay_id').size()\n",
    "valid_stay_ids = group_counts[group_counts >= 24].index\n",
    "\n",
    "# 원래 데이터프레임에서 24개 이상의 데이터를 가지는 stay_id 그룹만 선택\n",
    "df_fillna_neg_24 = df_resample_neg[df_resample_neg['stay_id'].isin(valid_stay_ids)]\n",
    "df_fillna_neg_24.sort_values(by=['stay_id', 'charttime'], inplace=True)\n",
    "\n",
    "# stay_id별 데이터 개수 계산\n",
    "group_counts = df_resample_pos_filtered.groupby('stay_id').size()\n",
    "valid_stay_ids = group_counts[group_counts >= 24].index\n",
    "\n",
    "# 원래 데이터프레임에서 24개 이상의 데이터를 가지는 stay_id 그룹만 선택\n",
    "df_fillna_pos_24 = df_resample_pos_filtered[df_resample_pos_filtered['stay_id'].isin(valid_stay_ids)]\n",
    "df_fillna_pos_24.sort_values(by=['stay_id', 'charttime'], inplace=True)"
   ]
  },
  {
   "cell_type": "code",
   "execution_count": 22,
   "metadata": {},
   "outputs": [
    {
     "data": {
      "text/plain": [
       "True"
      ]
     },
     "execution_count": 22,
     "metadata": {},
     "output_type": "execute_result"
    }
   ],
   "source": [
    "# 모든 stay_id group이 1시간 간격의 데이터를 가지고 있는지 확인\n",
    "\n",
    "def check_hourly_intervals(df):\n",
    "    groups_with_problems = []\n",
    "\n",
    "    for stay_id, group in df.groupby('stay_id'):\n",
    "        group = group.sort_values('charttime')\n",
    "        time_diffs = group['charttime'].diff().dropna()\n",
    "        \n",
    "        if not all(time_diffs == pd.Timedelta(hours=1)):\n",
    "            groups_with_problems.append(stay_id)\n",
    "    \n",
    "    return groups_with_problems\n",
    "\n",
    "len(check_hourly_intervals(df_fillna_pos_24)) == 0\n",
    "len(check_hourly_intervals(df_fillna_neg_24)) == 0"
   ]
  },
  {
   "cell_type": "code",
   "execution_count": 10,
   "metadata": {},
   "outputs": [],
   "source": [
    "# positive의 경우 각 stay_id별로 최신 시간을 기준으로 이전 24개의 행만 남김\n",
    "\n",
    "def keep_last_24_hours(df):\n",
    "    # 최신 charttime을 기준으로 정렬\n",
    "    df_sorted = df.sort_values(by='charttime', ascending=True)\n",
    "    df_kept = df_sorted.groupby('stay_id').tail(24)\n",
    "    df_kept = df_kept.sort_values(by=['stay_id','charttime'], ascending=True)\n",
    "    \n",
    "    return df_kept\n",
    "\n",
    "df_pos_24 = keep_last_24_hours(df_fillna_pos_24)\n",
    "len(check_hourly_intervals(df_pos_24)) == 0"
   ]
  },
  {
   "cell_type": "code",
   "execution_count": 23,
   "metadata": {},
   "outputs": [],
   "source": [
    "# negative의 경우 각 stay_id에서 일부 시점을 무작위로 선택해 해당 시점 전후의 값만 사용\n",
    "\n",
    "def keep_random_24_hours(df):\n",
    "    np.random.seed(42)  # 시드 고정\n",
    "    \n",
    "    def select_random_window(group):\n",
    "        group_sorted = group.sort_values(by='charttime', ascending=False)\n",
    "        random_index = np.random.randint(0, len(group_sorted))\n",
    "\n",
    "        start_index = max(0, random_index - 11)\n",
    "        end_index = min(len(group_sorted), random_index + 12 + 1)\n",
    "        selected_window = group_sorted.iloc[start_index:end_index]\n",
    "\n",
    "        if len(selected_window) < 24:\n",
    "            if start_index == 0:\n",
    "                additional_rows = group_sorted.iloc[end_index:end_index + (24 - len(selected_window))]\n",
    "            else:\n",
    "                additional_rows = group_sorted.iloc[max(0, start_index - (24 - len(selected_window))):start_index]\n",
    "            selected_window = pd.concat([selected_window, additional_rows]).drop_duplicates().head(24)\n",
    "\n",
    "        return selected_window\n",
    "    \n",
    "    # 각 stay_id 그룹에 대해 select_random_window 함수를 적용\n",
    "    df_kept = df.groupby('stay_id').apply(select_random_window).reset_index(drop=True)\n",
    "    df_kept = df_kept.sort_values(by=['stay_id','charttime'], ascending=True)\n",
    "    \n",
    "    return df_kept\n",
    "\n",
    "df_neg_24 = keep_random_24_hours(df_fillna_neg_24)"
   ]
  },
  {
   "cell_type": "code",
   "execution_count": 24,
   "metadata": {},
   "outputs": [
    {
     "data": {
      "text/plain": [
       "(635592, 60336)"
      ]
     },
     "execution_count": 24,
     "metadata": {},
     "output_type": "execute_result"
    }
   ],
   "source": [
    "len(df_neg_24), len(df_pos_24)"
   ]
  },
  {
   "cell_type": "code",
   "execution_count": 128,
   "metadata": {},
   "outputs": [
    {
     "data": {
      "text/plain": [
       "dead in hosp\n",
       "0.0    0.913301\n",
       "1.0    0.086699\n",
       "Name: proportion, dtype: float64"
      ]
     },
     "execution_count": 128,
     "metadata": {},
     "output_type": "execute_result"
    }
   ],
   "source": [
    "# neg 비율을 언더샘플링 > neg:pos 비율을 조정\n",
    "\n",
    "neg_undersampling = df_neg_24['stay_id'].drop_duplicates().sample(frac=1, random_state=42)\n",
    "df_neg_24_under = df_neg_24[df_neg_24['stay_id'].isin(neg_undersampling)]\n",
    "\n",
    "df_24 = pd.concat([df_neg_24_under, df_pos_24])\n",
    "df_24.sort_values(by=['stay_id'], ascending=True, inplace=True)\n",
    "df_24['dead in hosp'].value_counts(normalize=True)"
   ]
  },
  {
   "cell_type": "code",
   "execution_count": 129,
   "metadata": {},
   "outputs": [
    {
     "data": {
      "text/plain": [
       "True"
      ]
     },
     "execution_count": 129,
     "metadata": {},
     "output_type": "execute_result"
    }
   ],
   "source": [
    "df_24_fillna = nan_fill(df_24)\n",
    "len(check_hourly_intervals(df_24_fillna)) == 0"
   ]
  },
  {
   "cell_type": "code",
   "execution_count": 130,
   "metadata": {},
   "outputs": [],
   "source": [
    "df_24_fillna.sort_values(by=['stay_id', 'charttime'], ascending=True, inplace=True)"
   ]
  },
  {
   "cell_type": "code",
   "execution_count": 131,
   "metadata": {},
   "outputs": [
    {
     "data": {
      "text/plain": [
       "Index(['charttime', 'ALT', 'AST', 'BUN', 'CRP', 'Eyes Score', 'Heart Rate',\n",
       "       'Hgb', 'Motor Score', 'Respiratory Rate', 'SpO2', 'Temperature',\n",
       "       'Verbal Score', 'WBC', 'albumin', 'bilirubin', 'chloride', 'creatinine',\n",
       "       'dbp', 'glucose', 'platelets', 'potassium', 'sbp', 'sodium', 'stay_id',\n",
       "       'time', 'gender', 'age', 'race', 'CU type', 'intime', 'los',\n",
       "       'death or dischtime', 'dead in hosp'],\n",
       "      dtype='object')"
      ]
     },
     "execution_count": 131,
     "metadata": {},
     "output_type": "execute_result"
    }
   ],
   "source": [
    "df_24_fillna.columns"
   ]
  },
  {
   "cell_type": "code",
   "execution_count": 132,
   "metadata": {},
   "outputs": [],
   "source": [
    "# datetime 변수 핸들링\n",
    "    \n",
    "def datetime_remove(df):\n",
    "    df_no_dates = df.drop(columns=['intime', 'death or dischtime'])\n",
    "    df_no_dates = df_no_dates.sort_values(by=['stay_id', 'charttime'], ascending=True)\n",
    "    return df_no_dates\n",
    "\n",
    "df_24 = datetime_remove(df_24_fillna)"
   ]
  },
  {
   "cell_type": "markdown",
   "metadata": {},
   "source": [
    "### 원핫인코딩"
   ]
  },
  {
   "cell_type": "code",
   "execution_count": 133,
   "metadata": {},
   "outputs": [],
   "source": [
    "df_24 = df_24[df_24['gender'] != '']"
   ]
  },
  {
   "cell_type": "code",
   "execution_count": 134,
   "metadata": {},
   "outputs": [
    {
     "data": {
      "text/plain": [
       "dead in hosp\n",
       "0.0    0.913248\n",
       "1.0    0.086752\n",
       "Name: proportion, dtype: float64"
      ]
     },
     "execution_count": 134,
     "metadata": {},
     "output_type": "execute_result"
    }
   ],
   "source": [
    "# 범주형 열 목록\n",
    "categorical_cols = ['race', 'gender', 'CU type']\n",
    "\n",
    "# 범주형 변수 원핫인코딩\n",
    "df_encoded = pd.get_dummies(df_24, columns=categorical_cols)\n",
    "df_encoded['dead in hosp'].value_counts(normalize=True)"
   ]
  },
  {
   "cell_type": "markdown",
   "metadata": {},
   "source": [
    "### 데이터 개형 수정\n",
    "- 더미 데이터 추가\n",
    "- 컬럼 순서 재정렬"
   ]
  },
  {
   "cell_type": "code",
   "execution_count": 135,
   "metadata": {},
   "outputs": [
    {
     "data": {
      "text/plain": [
       "Index(['charttime', 'ALT', 'AST', 'BUN', 'CRP', 'Eyes Score', 'Heart Rate',\n",
       "       'Hgb', 'Motor Score', 'Respiratory Rate', 'SpO2', 'Temperature',\n",
       "       'Verbal Score', 'WBC', 'albumin', 'bilirubin', 'chloride', 'creatinine',\n",
       "       'dbp', 'glucose', 'platelets', 'potassium', 'sbp', 'sodium', 'stay_id',\n",
       "       'time', 'age', 'los', 'dead in hosp', 'race_black',\n",
       "       'race_hispanic/latino', 'race_other', 'race_white', 'gender_Female',\n",
       "       'gender_Male', 'gender_Other', 'gender_Unknown', 'CU type_CCU',\n",
       "       'CU type_MICU', 'CU type_Neuro ICU', 'CU type_SICU', 'CU type_other'],\n",
       "      dtype='object')"
      ]
     },
     "execution_count": 135,
     "metadata": {},
     "output_type": "execute_result"
    }
   ],
   "source": [
    "df_encoded.columns"
   ]
  },
  {
   "cell_type": "code",
   "execution_count": 136,
   "metadata": {},
   "outputs": [],
   "source": [
    "df_encoded['CU type_CVICU'] = False\n",
    "df_encoded['race_asian'] = False\n",
    "df_encoded['PT'] = 4.0\n",
    "df_encoded = df_encoded[df_encoded['CU type_Neuro ICU'] == False]"
   ]
  },
  {
   "cell_type": "code",
   "execution_count": 137,
   "metadata": {},
   "outputs": [],
   "source": [
    "df_encoded = df_encoded[['charttime', 'stay_id', 'ALT', 'AST', 'albumin', 'BUN', 'CRP',\n",
    "       'chloride', 'creatinine', 'Eyes Score', 'Motor Score',\n",
    "       'Verbal Score', 'glucose', 'Heart Rate', 'Hgb',\n",
    "       'platelets', 'potassium', 'PT', 'Respiratory Rate',\n",
    "       'sodium', 'SpO2', 'Temperature', 'WBC', 'dbp', 'sbp', 'age', \n",
    "       'race_asian', 'race_black', 'race_hispanic/latino',\n",
    "       'race_other', 'race_white', 'gender_Female', 'gender_Male', 'CU type_CCU',\n",
    "       'CU type_CVICU', 'CU type_MICU', 'CU type_SICU',\n",
    "       'dead in hosp']]"
   ]
  },
  {
   "cell_type": "markdown",
   "metadata": {},
   "source": [
    "#### X, y split, 정규화"
   ]
  },
  {
   "cell_type": "code",
   "execution_count": 138,
   "metadata": {},
   "outputs": [
    {
     "data": {
      "text/html": [
       "<div>\n",
       "<style scoped>\n",
       "    .dataframe tbody tr th:only-of-type {\n",
       "        vertical-align: middle;\n",
       "    }\n",
       "\n",
       "    .dataframe tbody tr th {\n",
       "        vertical-align: top;\n",
       "    }\n",
       "\n",
       "    .dataframe thead th {\n",
       "        text-align: right;\n",
       "    }\n",
       "</style>\n",
       "<table border=\"1\" class=\"dataframe\">\n",
       "  <thead>\n",
       "    <tr style=\"text-align: right;\">\n",
       "      <th></th>\n",
       "      <th>charttime</th>\n",
       "      <th>stay_id</th>\n",
       "      <th>ALT</th>\n",
       "      <th>AST</th>\n",
       "      <th>albumin</th>\n",
       "      <th>BUN</th>\n",
       "      <th>CRP</th>\n",
       "      <th>chloride</th>\n",
       "      <th>creatinine</th>\n",
       "      <th>Eyes Score</th>\n",
       "      <th>...</th>\n",
       "      <th>race_hispanic/latino</th>\n",
       "      <th>race_other</th>\n",
       "      <th>race_white</th>\n",
       "      <th>gender_Female</th>\n",
       "      <th>gender_Male</th>\n",
       "      <th>CU type_CCU</th>\n",
       "      <th>CU type_CVICU</th>\n",
       "      <th>CU type_MICU</th>\n",
       "      <th>CU type_SICU</th>\n",
       "      <th>dead in hosp</th>\n",
       "    </tr>\n",
       "  </thead>\n",
       "  <tbody>\n",
       "    <tr>\n",
       "      <th>23</th>\n",
       "      <td>2024-08-30 16:00:00</td>\n",
       "      <td>141227</td>\n",
       "      <td>28.0</td>\n",
       "      <td>32.0</td>\n",
       "      <td>3.75</td>\n",
       "      <td>30.0</td>\n",
       "      <td>92.55513</td>\n",
       "      <td>101.0</td>\n",
       "      <td>10.842593</td>\n",
       "      <td>3.0</td>\n",
       "      <td>...</td>\n",
       "      <td>False</td>\n",
       "      <td>False</td>\n",
       "      <td>True</td>\n",
       "      <td>False</td>\n",
       "      <td>True</td>\n",
       "      <td>False</td>\n",
       "      <td>False</td>\n",
       "      <td>True</td>\n",
       "      <td>False</td>\n",
       "      <td>0.0</td>\n",
       "    </tr>\n",
       "    <tr>\n",
       "      <th>22</th>\n",
       "      <td>2024-08-30 17:00:00</td>\n",
       "      <td>141227</td>\n",
       "      <td>28.0</td>\n",
       "      <td>32.0</td>\n",
       "      <td>3.75</td>\n",
       "      <td>26.0</td>\n",
       "      <td>92.55513</td>\n",
       "      <td>101.0</td>\n",
       "      <td>10.842593</td>\n",
       "      <td>3.0</td>\n",
       "      <td>...</td>\n",
       "      <td>False</td>\n",
       "      <td>False</td>\n",
       "      <td>True</td>\n",
       "      <td>False</td>\n",
       "      <td>True</td>\n",
       "      <td>False</td>\n",
       "      <td>False</td>\n",
       "      <td>True</td>\n",
       "      <td>False</td>\n",
       "      <td>0.0</td>\n",
       "    </tr>\n",
       "    <tr>\n",
       "      <th>21</th>\n",
       "      <td>2024-08-30 18:00:00</td>\n",
       "      <td>141227</td>\n",
       "      <td>28.0</td>\n",
       "      <td>32.0</td>\n",
       "      <td>3.75</td>\n",
       "      <td>26.0</td>\n",
       "      <td>92.55513</td>\n",
       "      <td>101.0</td>\n",
       "      <td>10.842593</td>\n",
       "      <td>3.0</td>\n",
       "      <td>...</td>\n",
       "      <td>False</td>\n",
       "      <td>False</td>\n",
       "      <td>True</td>\n",
       "      <td>False</td>\n",
       "      <td>True</td>\n",
       "      <td>False</td>\n",
       "      <td>False</td>\n",
       "      <td>True</td>\n",
       "      <td>False</td>\n",
       "      <td>0.0</td>\n",
       "    </tr>\n",
       "    <tr>\n",
       "      <th>20</th>\n",
       "      <td>2024-08-30 19:00:00</td>\n",
       "      <td>141227</td>\n",
       "      <td>28.0</td>\n",
       "      <td>32.0</td>\n",
       "      <td>3.75</td>\n",
       "      <td>26.0</td>\n",
       "      <td>92.55513</td>\n",
       "      <td>101.0</td>\n",
       "      <td>10.842593</td>\n",
       "      <td>3.0</td>\n",
       "      <td>...</td>\n",
       "      <td>False</td>\n",
       "      <td>False</td>\n",
       "      <td>True</td>\n",
       "      <td>False</td>\n",
       "      <td>True</td>\n",
       "      <td>False</td>\n",
       "      <td>False</td>\n",
       "      <td>True</td>\n",
       "      <td>False</td>\n",
       "      <td>0.0</td>\n",
       "    </tr>\n",
       "    <tr>\n",
       "      <th>19</th>\n",
       "      <td>2024-08-30 20:00:00</td>\n",
       "      <td>141227</td>\n",
       "      <td>28.0</td>\n",
       "      <td>32.0</td>\n",
       "      <td>3.75</td>\n",
       "      <td>26.0</td>\n",
       "      <td>92.55513</td>\n",
       "      <td>101.0</td>\n",
       "      <td>10.842593</td>\n",
       "      <td>3.0</td>\n",
       "      <td>...</td>\n",
       "      <td>False</td>\n",
       "      <td>False</td>\n",
       "      <td>True</td>\n",
       "      <td>False</td>\n",
       "      <td>True</td>\n",
       "      <td>False</td>\n",
       "      <td>False</td>\n",
       "      <td>True</td>\n",
       "      <td>False</td>\n",
       "      <td>0.0</td>\n",
       "    </tr>\n",
       "  </tbody>\n",
       "</table>\n",
       "<p>5 rows × 38 columns</p>\n",
       "</div>"
      ],
      "text/plain": [
       "             charttime  stay_id   ALT   AST  albumin   BUN       CRP  \\\n",
       "23 2024-08-30 16:00:00   141227  28.0  32.0     3.75  30.0  92.55513   \n",
       "22 2024-08-30 17:00:00   141227  28.0  32.0     3.75  26.0  92.55513   \n",
       "21 2024-08-30 18:00:00   141227  28.0  32.0     3.75  26.0  92.55513   \n",
       "20 2024-08-30 19:00:00   141227  28.0  32.0     3.75  26.0  92.55513   \n",
       "19 2024-08-30 20:00:00   141227  28.0  32.0     3.75  26.0  92.55513   \n",
       "\n",
       "    chloride  creatinine  Eyes Score  ...  race_hispanic/latino  race_other  \\\n",
       "23     101.0   10.842593         3.0  ...                 False       False   \n",
       "22     101.0   10.842593         3.0  ...                 False       False   \n",
       "21     101.0   10.842593         3.0  ...                 False       False   \n",
       "20     101.0   10.842593         3.0  ...                 False       False   \n",
       "19     101.0   10.842593         3.0  ...                 False       False   \n",
       "\n",
       "    race_white  gender_Female  gender_Male  CU type_CCU  CU type_CVICU  \\\n",
       "23        True          False         True        False          False   \n",
       "22        True          False         True        False          False   \n",
       "21        True          False         True        False          False   \n",
       "20        True          False         True        False          False   \n",
       "19        True          False         True        False          False   \n",
       "\n",
       "    CU type_MICU  CU type_SICU  dead in hosp  \n",
       "23          True         False           0.0  \n",
       "22          True         False           0.0  \n",
       "21          True         False           0.0  \n",
       "20          True         False           0.0  \n",
       "19          True         False           0.0  \n",
       "\n",
       "[5 rows x 38 columns]"
      ]
     },
     "execution_count": 138,
     "metadata": {},
     "output_type": "execute_result"
    }
   ],
   "source": [
    "# vital sign 이상치 조정 \n",
    "\n",
    "# 기준 설정\n",
    "ranges = {\n",
    "    'Respiratory Rate': (5, 50),\n",
    "    'Heart Rate': (10, 190),\n",
    "    'sbp': (40, 230),\n",
    "    'dbp': (20, 130),\n",
    "    'Temperature': (32, 41), \n",
    "    'SpO2': (68, 100),    \n",
    "    'GCS Eye Opening':(1, 4),\n",
    "    'GCS Verbal Response':(1, 5),\n",
    "    'GCS Motor Response':(1, 6),\n",
    "        \n",
    "    'ALT':(0, 5000), \n",
    "    'AST':(0, 10000), \n",
    "    'Albumin':(0, 5.5), \n",
    "    'BUN':(0, 150), \n",
    "    'Bilirubin':(0, 50),\n",
    "    'CRP':(0, 300), \n",
    "    'Chloride':(70, 135),\n",
    "    'Creatinine':(0, 15),\n",
    "    'Glucose':(0, 600),\n",
    "    'Hemoglobin':(0, 25),\n",
    "    'Potassium':(2, 9),\n",
    "    'Sodium':(105, 170),\n",
    "    'Platelet':(0, 1000),\n",
    "    'Prothrombin time':(0, 8), \n",
    "    'WBC':(0, 90), \n",
    "}\n",
    "# 각 열에 대해 이상치를 NaN으로 대체\n",
    "for col, (lower, upper) in ranges.items():\n",
    "    if col in df_encoded.columns:\n",
    "        df_encoded[col] = np.where((df_encoded[col] < lower) | (df_encoded[col] > upper), np.nan, df_encoded[col])\n",
    "\n",
    "# NaN 값을 각 열에 대한 평균값으로 대체\n",
    "for col in ranges.keys():\n",
    "    if col in df_encoded.columns:\n",
    "        df_encoded[col] = df_encoded[col].fillna(df_encoded[col].mean())\n",
    "\n",
    "df_encoded.head()"
   ]
  },
  {
   "cell_type": "code",
   "execution_count": 139,
   "metadata": {},
   "outputs": [],
   "source": [
    "y_val = df_encoded['dead in hosp']\n",
    "X_val = df_encoded.drop(columns=['dead in hosp'], inplace=False)"
   ]
  },
  {
   "cell_type": "code",
   "execution_count": 140,
   "metadata": {},
   "outputs": [
    {
     "data": {
      "text/plain": [
       "((643176, 37), (643176,))"
      ]
     },
     "execution_count": 140,
     "metadata": {},
     "output_type": "execute_result"
    }
   ],
   "source": [
    "X_val.shape, y_val.shape"
   ]
  },
  {
   "cell_type": "code",
   "execution_count": 141,
   "metadata": {},
   "outputs": [],
   "source": [
    "def scaling(df):\n",
    "    # 'charttime'을 인덱스로 설정\n",
    "    df.set_index('charttime', inplace=True)\n",
    "    df.drop(columns=['stay_id'], inplace=True)\n",
    "    \n",
    "    # 정규화\n",
    "    scaler = StandardScaler() # MinMaxScaler / StandardScaler\n",
    "    df_scaled = scaler.fit_transform(df)\n",
    "    \n",
    "    return df_scaled\n",
    "\n",
    "X_val_scaled = scaling(X_val)"
   ]
  },
  {
   "cell_type": "code",
   "execution_count": 142,
   "metadata": {},
   "outputs": [
    {
     "name": "stdout",
     "output_type": "stream",
     "text": [
      "클래스 0의 비율: 0.9117131236240158\n",
      "클래스 1의 비율: 0.08828687637598417\n",
      "클래스 0의 비율: 0.9117131236240158\n",
      "클래스 1의 비율: 0.08828687637598417\n"
     ]
    }
   ],
   "source": [
    "def class_ratio(df):\n",
    "    # 클래스별 개수 계산\n",
    "    class_counts = df.value_counts()\n",
    "\n",
    "    # 전체 데이터 개수\n",
    "    total_count = len(df)\n",
    "\n",
    "    # 클래스별 비율 계산\n",
    "    class_ratios = class_counts / total_count\n",
    "\n",
    "    print(\"클래스 0의 비율:\", class_ratios[0])\n",
    "    print(\"클래스 1의 비율:\", class_ratios[1])\n",
    "\n",
    "# 비율 유지되는지 확인 \n",
    "\n",
    "class_ratio(df_encoded['dead in hosp'])\n",
    "class_ratio(y_val)"
   ]
  },
  {
   "cell_type": "code",
   "execution_count": 143,
   "metadata": {},
   "outputs": [
    {
     "data": {
      "text/plain": [
       "35"
      ]
     },
     "execution_count": 143,
     "metadata": {},
     "output_type": "execute_result"
    }
   ],
   "source": [
    "num_features = X_val_scaled.shape[1]\n",
    "num_features"
   ]
  },
  {
   "cell_type": "code",
   "execution_count": 144,
   "metadata": {},
   "outputs": [],
   "source": [
    "df_encoded.to_parquet('eICU_valid_dataset.parquet')"
   ]
  }
 ],
 "metadata": {
  "kernelspec": {
   "display_name": "Python 3",
   "language": "python",
   "name": "python3"
  },
  "language_info": {
   "codemirror_mode": {
    "name": "ipython",
    "version": 3
   },
   "file_extension": ".py",
   "mimetype": "text/x-python",
   "name": "python",
   "nbconvert_exporter": "python",
   "pygments_lexer": "ipython3",
   "version": "3.8.18"
  }
 },
 "nbformat": 4,
 "nbformat_minor": 2
}
